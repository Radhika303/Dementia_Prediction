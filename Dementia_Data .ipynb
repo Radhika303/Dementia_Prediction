{
 "cells": [
  {
   "cell_type": "code",
   "execution_count": 2,
   "metadata": {},
   "outputs": [],
   "source": [
    "# Importing the libraries\n",
    "\n",
    "import pandas as pd\n",
    "import numpy as np\n",
    "import matplotlib.pyplot as plt\n"
   ]
  },
  {
   "cell_type": "code",
   "execution_count": 3,
   "metadata": {},
   "outputs": [
    {
     "output_type": "execute_result",
     "data": {
      "text/plain": [
       "  Subject ID         MRI ID        Group  Visit  MR Delay M/F Hand  Age  EDUC  \\\n",
       "0  OAS2_0001  OAS2_0001_MR1  Nondemented      1         0   M    R   87    14   \n",
       "1  OAS2_0001  OAS2_0001_MR2  Nondemented      2       457   M    R   88    14   \n",
       "2  OAS2_0002  OAS2_0002_MR1     Demented      1         0   M    R   75    12   \n",
       "3  OAS2_0002  OAS2_0002_MR2     Demented      2       560   M    R   76    12   \n",
       "4  OAS2_0002  OAS2_0002_MR3     Demented      3      1895   M    R   80    12   \n",
       "\n",
       "   SES  MMSE  CDR  eTIV   nWBV    ASF  \n",
       "0  2.0  27.0  0.0  1987  0.696  0.883  \n",
       "1  2.0  30.0  0.0  2004  0.681  0.876  \n",
       "2  NaN  23.0  0.5  1678  0.736  1.046  \n",
       "3  NaN  28.0  0.5  1738  0.713  1.010  \n",
       "4  NaN  22.0  0.5  1698  0.701  1.034  "
      ],
      "text/html": "<div>\n<style scoped>\n    .dataframe tbody tr th:only-of-type {\n        vertical-align: middle;\n    }\n\n    .dataframe tbody tr th {\n        vertical-align: top;\n    }\n\n    .dataframe thead th {\n        text-align: right;\n    }\n</style>\n<table border=\"1\" class=\"dataframe\">\n  <thead>\n    <tr style=\"text-align: right;\">\n      <th></th>\n      <th>Subject ID</th>\n      <th>MRI ID</th>\n      <th>Group</th>\n      <th>Visit</th>\n      <th>MR Delay</th>\n      <th>M/F</th>\n      <th>Hand</th>\n      <th>Age</th>\n      <th>EDUC</th>\n      <th>SES</th>\n      <th>MMSE</th>\n      <th>CDR</th>\n      <th>eTIV</th>\n      <th>nWBV</th>\n      <th>ASF</th>\n    </tr>\n  </thead>\n  <tbody>\n    <tr>\n      <th>0</th>\n      <td>OAS2_0001</td>\n      <td>OAS2_0001_MR1</td>\n      <td>Nondemented</td>\n      <td>1</td>\n      <td>0</td>\n      <td>M</td>\n      <td>R</td>\n      <td>87</td>\n      <td>14</td>\n      <td>2.0</td>\n      <td>27.0</td>\n      <td>0.0</td>\n      <td>1987</td>\n      <td>0.696</td>\n      <td>0.883</td>\n    </tr>\n    <tr>\n      <th>1</th>\n      <td>OAS2_0001</td>\n      <td>OAS2_0001_MR2</td>\n      <td>Nondemented</td>\n      <td>2</td>\n      <td>457</td>\n      <td>M</td>\n      <td>R</td>\n      <td>88</td>\n      <td>14</td>\n      <td>2.0</td>\n      <td>30.0</td>\n      <td>0.0</td>\n      <td>2004</td>\n      <td>0.681</td>\n      <td>0.876</td>\n    </tr>\n    <tr>\n      <th>2</th>\n      <td>OAS2_0002</td>\n      <td>OAS2_0002_MR1</td>\n      <td>Demented</td>\n      <td>1</td>\n      <td>0</td>\n      <td>M</td>\n      <td>R</td>\n      <td>75</td>\n      <td>12</td>\n      <td>NaN</td>\n      <td>23.0</td>\n      <td>0.5</td>\n      <td>1678</td>\n      <td>0.736</td>\n      <td>1.046</td>\n    </tr>\n    <tr>\n      <th>3</th>\n      <td>OAS2_0002</td>\n      <td>OAS2_0002_MR2</td>\n      <td>Demented</td>\n      <td>2</td>\n      <td>560</td>\n      <td>M</td>\n      <td>R</td>\n      <td>76</td>\n      <td>12</td>\n      <td>NaN</td>\n      <td>28.0</td>\n      <td>0.5</td>\n      <td>1738</td>\n      <td>0.713</td>\n      <td>1.010</td>\n    </tr>\n    <tr>\n      <th>4</th>\n      <td>OAS2_0002</td>\n      <td>OAS2_0002_MR3</td>\n      <td>Demented</td>\n      <td>3</td>\n      <td>1895</td>\n      <td>M</td>\n      <td>R</td>\n      <td>80</td>\n      <td>12</td>\n      <td>NaN</td>\n      <td>22.0</td>\n      <td>0.5</td>\n      <td>1698</td>\n      <td>0.701</td>\n      <td>1.034</td>\n    </tr>\n  </tbody>\n</table>\n</div>"
     },
     "metadata": {},
     "execution_count": 3
    }
   ],
   "source": [
    "data = pd.read_csv(\"oasis_longitudinal.csv\")\n",
    "data.head()"
   ]
  },
  {
   "cell_type": "code",
   "execution_count": 4,
   "metadata": {},
   "outputs": [
    {
     "output_type": "execute_result",
     "data": {
      "text/plain": [
       "Subject ID     0\n",
       "MRI ID         0\n",
       "Group          0\n",
       "Visit          0\n",
       "MR Delay       0\n",
       "M/F            0\n",
       "Hand           0\n",
       "Age            0\n",
       "EDUC           0\n",
       "SES           19\n",
       "MMSE           2\n",
       "CDR            0\n",
       "eTIV           0\n",
       "nWBV           0\n",
       "ASF            0\n",
       "dtype: int64"
      ]
     },
     "metadata": {},
     "execution_count": 4
    }
   ],
   "source": [
    "data.isnull().sum()"
   ]
  },
  {
   "cell_type": "code",
   "execution_count": 5,
   "metadata": {},
   "outputs": [
    {
     "output_type": "execute_result",
     "data": {
      "text/plain": [
       "    Subject ID         MRI ID        Group  Visit  MR Delay M/F Hand  Age  \\\n",
       "0    OAS2_0001  OAS2_0001_MR1  Nondemented      1         0   M    R   87   \n",
       "2    OAS2_0002  OAS2_0002_MR1     Demented      1         0   M    R   75   \n",
       "5    OAS2_0004  OAS2_0004_MR1  Nondemented      1         0   F    R   88   \n",
       "7    OAS2_0005  OAS2_0005_MR1  Nondemented      1         0   M    R   80   \n",
       "10   OAS2_0007  OAS2_0007_MR1     Demented      1         0   M    R   71   \n",
       "..         ...            ...          ...    ...       ...  ..  ...  ...   \n",
       "359  OAS2_0182  OAS2_0182_MR1     Demented      1         0   M    R   73   \n",
       "361  OAS2_0183  OAS2_0183_MR1  Nondemented      1         0   F    R   66   \n",
       "365  OAS2_0184  OAS2_0184_MR1     Demented      1         0   F    R   72   \n",
       "367  OAS2_0185  OAS2_0185_MR1     Demented      1         0   M    R   80   \n",
       "370  OAS2_0186  OAS2_0186_MR1  Nondemented      1         0   F    R   61   \n",
       "\n",
       "     EDUC  SES  MMSE  CDR  eTIV   nWBV    ASF  \n",
       "0      14  2.0  27.0  0.0  1987  0.696  0.883  \n",
       "2      12  NaN  23.0  0.5  1678  0.736  1.046  \n",
       "5      18  3.0  28.0  0.0  1215  0.710  1.444  \n",
       "7      12  4.0  28.0  0.0  1689  0.712  1.039  \n",
       "10     16  NaN  28.0  0.5  1357  0.748  1.293  \n",
       "..    ...  ...   ...  ...   ...    ...    ...  \n",
       "359    12  NaN  23.0  0.5  1661  0.698  1.056  \n",
       "361    13  2.0  30.0  0.0  1495  0.746  1.174  \n",
       "365    16  3.0  24.0  0.5  1354  0.733  1.296  \n",
       "367    16  1.0  28.0  0.5  1704  0.711  1.030  \n",
       "370    13  2.0  30.0  0.0  1319  0.801  1.331  \n",
       "\n",
       "[150 rows x 15 columns]"
      ],
      "text/html": "<div>\n<style scoped>\n    .dataframe tbody tr th:only-of-type {\n        vertical-align: middle;\n    }\n\n    .dataframe tbody tr th {\n        vertical-align: top;\n    }\n\n    .dataframe thead th {\n        text-align: right;\n    }\n</style>\n<table border=\"1\" class=\"dataframe\">\n  <thead>\n    <tr style=\"text-align: right;\">\n      <th></th>\n      <th>Subject ID</th>\n      <th>MRI ID</th>\n      <th>Group</th>\n      <th>Visit</th>\n      <th>MR Delay</th>\n      <th>M/F</th>\n      <th>Hand</th>\n      <th>Age</th>\n      <th>EDUC</th>\n      <th>SES</th>\n      <th>MMSE</th>\n      <th>CDR</th>\n      <th>eTIV</th>\n      <th>nWBV</th>\n      <th>ASF</th>\n    </tr>\n  </thead>\n  <tbody>\n    <tr>\n      <th>0</th>\n      <td>OAS2_0001</td>\n      <td>OAS2_0001_MR1</td>\n      <td>Nondemented</td>\n      <td>1</td>\n      <td>0</td>\n      <td>M</td>\n      <td>R</td>\n      <td>87</td>\n      <td>14</td>\n      <td>2.0</td>\n      <td>27.0</td>\n      <td>0.0</td>\n      <td>1987</td>\n      <td>0.696</td>\n      <td>0.883</td>\n    </tr>\n    <tr>\n      <th>2</th>\n      <td>OAS2_0002</td>\n      <td>OAS2_0002_MR1</td>\n      <td>Demented</td>\n      <td>1</td>\n      <td>0</td>\n      <td>M</td>\n      <td>R</td>\n      <td>75</td>\n      <td>12</td>\n      <td>NaN</td>\n      <td>23.0</td>\n      <td>0.5</td>\n      <td>1678</td>\n      <td>0.736</td>\n      <td>1.046</td>\n    </tr>\n    <tr>\n      <th>5</th>\n      <td>OAS2_0004</td>\n      <td>OAS2_0004_MR1</td>\n      <td>Nondemented</td>\n      <td>1</td>\n      <td>0</td>\n      <td>F</td>\n      <td>R</td>\n      <td>88</td>\n      <td>18</td>\n      <td>3.0</td>\n      <td>28.0</td>\n      <td>0.0</td>\n      <td>1215</td>\n      <td>0.710</td>\n      <td>1.444</td>\n    </tr>\n    <tr>\n      <th>7</th>\n      <td>OAS2_0005</td>\n      <td>OAS2_0005_MR1</td>\n      <td>Nondemented</td>\n      <td>1</td>\n      <td>0</td>\n      <td>M</td>\n      <td>R</td>\n      <td>80</td>\n      <td>12</td>\n      <td>4.0</td>\n      <td>28.0</td>\n      <td>0.0</td>\n      <td>1689</td>\n      <td>0.712</td>\n      <td>1.039</td>\n    </tr>\n    <tr>\n      <th>10</th>\n      <td>OAS2_0007</td>\n      <td>OAS2_0007_MR1</td>\n      <td>Demented</td>\n      <td>1</td>\n      <td>0</td>\n      <td>M</td>\n      <td>R</td>\n      <td>71</td>\n      <td>16</td>\n      <td>NaN</td>\n      <td>28.0</td>\n      <td>0.5</td>\n      <td>1357</td>\n      <td>0.748</td>\n      <td>1.293</td>\n    </tr>\n    <tr>\n      <th>...</th>\n      <td>...</td>\n      <td>...</td>\n      <td>...</td>\n      <td>...</td>\n      <td>...</td>\n      <td>...</td>\n      <td>...</td>\n      <td>...</td>\n      <td>...</td>\n      <td>...</td>\n      <td>...</td>\n      <td>...</td>\n      <td>...</td>\n      <td>...</td>\n      <td>...</td>\n    </tr>\n    <tr>\n      <th>359</th>\n      <td>OAS2_0182</td>\n      <td>OAS2_0182_MR1</td>\n      <td>Demented</td>\n      <td>1</td>\n      <td>0</td>\n      <td>M</td>\n      <td>R</td>\n      <td>73</td>\n      <td>12</td>\n      <td>NaN</td>\n      <td>23.0</td>\n      <td>0.5</td>\n      <td>1661</td>\n      <td>0.698</td>\n      <td>1.056</td>\n    </tr>\n    <tr>\n      <th>361</th>\n      <td>OAS2_0183</td>\n      <td>OAS2_0183_MR1</td>\n      <td>Nondemented</td>\n      <td>1</td>\n      <td>0</td>\n      <td>F</td>\n      <td>R</td>\n      <td>66</td>\n      <td>13</td>\n      <td>2.0</td>\n      <td>30.0</td>\n      <td>0.0</td>\n      <td>1495</td>\n      <td>0.746</td>\n      <td>1.174</td>\n    </tr>\n    <tr>\n      <th>365</th>\n      <td>OAS2_0184</td>\n      <td>OAS2_0184_MR1</td>\n      <td>Demented</td>\n      <td>1</td>\n      <td>0</td>\n      <td>F</td>\n      <td>R</td>\n      <td>72</td>\n      <td>16</td>\n      <td>3.0</td>\n      <td>24.0</td>\n      <td>0.5</td>\n      <td>1354</td>\n      <td>0.733</td>\n      <td>1.296</td>\n    </tr>\n    <tr>\n      <th>367</th>\n      <td>OAS2_0185</td>\n      <td>OAS2_0185_MR1</td>\n      <td>Demented</td>\n      <td>1</td>\n      <td>0</td>\n      <td>M</td>\n      <td>R</td>\n      <td>80</td>\n      <td>16</td>\n      <td>1.0</td>\n      <td>28.0</td>\n      <td>0.5</td>\n      <td>1704</td>\n      <td>0.711</td>\n      <td>1.030</td>\n    </tr>\n    <tr>\n      <th>370</th>\n      <td>OAS2_0186</td>\n      <td>OAS2_0186_MR1</td>\n      <td>Nondemented</td>\n      <td>1</td>\n      <td>0</td>\n      <td>F</td>\n      <td>R</td>\n      <td>61</td>\n      <td>13</td>\n      <td>2.0</td>\n      <td>30.0</td>\n      <td>0.0</td>\n      <td>1319</td>\n      <td>0.801</td>\n      <td>1.331</td>\n    </tr>\n  </tbody>\n</table>\n<p>150 rows × 15 columns</p>\n</div>"
     },
     "metadata": {},
     "execution_count": 5
    }
   ],
   "source": [
    "df = data[data[\"Visit\"] == 1]\n",
    "df"
   ]
  },
  {
   "cell_type": "code",
   "execution_count": 6,
   "metadata": {},
   "outputs": [
    {
     "output_type": "execute_result",
     "data": {
      "text/plain": [
       "Subject ID    0\n",
       "MRI ID        0\n",
       "Group         0\n",
       "Visit         0\n",
       "MR Delay      0\n",
       "M/F           0\n",
       "Hand          0\n",
       "Age           0\n",
       "EDUC          0\n",
       "SES           8\n",
       "MMSE          0\n",
       "CDR           0\n",
       "eTIV          0\n",
       "nWBV          0\n",
       "ASF           0\n",
       "dtype: int64"
      ]
     },
     "metadata": {},
     "execution_count": 6
    }
   ],
   "source": [
    "df.isnull().sum()"
   ]
  },
  {
   "cell_type": "code",
   "execution_count": 7,
   "metadata": {},
   "outputs": [
    {
     "output_type": "stream",
     "name": "stderr",
     "text": [
      "<ipython-input-7-de35f1517ac6>:1: SettingWithCopyWarning: \nA value is trying to be set on a copy of a slice from a DataFrame.\nTry using .loc[row_indexer,col_indexer] = value instead\n\nSee the caveats in the documentation: https://pandas.pydata.org/pandas-docs/stable/user_guide/indexing.html#returning-a-view-versus-a-copy\n  df['SES']= df['SES'].fillna(data['SES'].mean())\n"
     ]
    }
   ],
   "source": [
    "df['SES']= df['SES'].fillna(data['SES'].mean())\n",
    "    "
   ]
  },
  {
   "cell_type": "code",
   "execution_count": 8,
   "metadata": {},
   "outputs": [
    {
     "output_type": "execute_result",
     "data": {
      "text/plain": [
       "Subject ID    0\n",
       "MRI ID        0\n",
       "Group         0\n",
       "Visit         0\n",
       "MR Delay      0\n",
       "M/F           0\n",
       "Hand          0\n",
       "Age           0\n",
       "EDUC          0\n",
       "SES           0\n",
       "MMSE          0\n",
       "CDR           0\n",
       "eTIV          0\n",
       "nWBV          0\n",
       "ASF           0\n",
       "dtype: int64"
      ]
     },
     "metadata": {},
     "execution_count": 8
    }
   ],
   "source": [
    "df.isnull().sum()"
   ]
  },
  {
   "cell_type": "code",
   "execution_count": 9,
   "metadata": {},
   "outputs": [
    {
     "output_type": "execute_result",
     "data": {
      "text/plain": [
       "           Group M/F  Age  EDUC       SES  MMSE  CDR  eTIV   nWBV    ASF\n",
       "0    Nondemented   M   87    14  2.000000  27.0  0.0  1987  0.696  0.883\n",
       "2       Demented   M   75    12  2.460452  23.0  0.5  1678  0.736  1.046\n",
       "5    Nondemented   F   88    18  3.000000  28.0  0.0  1215  0.710  1.444\n",
       "7    Nondemented   M   80    12  4.000000  28.0  0.0  1689  0.712  1.039\n",
       "10      Demented   M   71    16  2.460452  28.0  0.5  1357  0.748  1.293\n",
       "..           ...  ..  ...   ...       ...   ...  ...   ...    ...    ...\n",
       "359     Demented   M   73    12  2.460452  23.0  0.5  1661  0.698  1.056\n",
       "361  Nondemented   F   66    13  2.000000  30.0  0.0  1495  0.746  1.174\n",
       "365     Demented   F   72    16  3.000000  24.0  0.5  1354  0.733  1.296\n",
       "367     Demented   M   80    16  1.000000  28.0  0.5  1704  0.711  1.030\n",
       "370  Nondemented   F   61    13  2.000000  30.0  0.0  1319  0.801  1.331\n",
       "\n",
       "[150 rows x 10 columns]"
      ],
      "text/html": "<div>\n<style scoped>\n    .dataframe tbody tr th:only-of-type {\n        vertical-align: middle;\n    }\n\n    .dataframe tbody tr th {\n        vertical-align: top;\n    }\n\n    .dataframe thead th {\n        text-align: right;\n    }\n</style>\n<table border=\"1\" class=\"dataframe\">\n  <thead>\n    <tr style=\"text-align: right;\">\n      <th></th>\n      <th>Group</th>\n      <th>M/F</th>\n      <th>Age</th>\n      <th>EDUC</th>\n      <th>SES</th>\n      <th>MMSE</th>\n      <th>CDR</th>\n      <th>eTIV</th>\n      <th>nWBV</th>\n      <th>ASF</th>\n    </tr>\n  </thead>\n  <tbody>\n    <tr>\n      <th>0</th>\n      <td>Nondemented</td>\n      <td>M</td>\n      <td>87</td>\n      <td>14</td>\n      <td>2.000000</td>\n      <td>27.0</td>\n      <td>0.0</td>\n      <td>1987</td>\n      <td>0.696</td>\n      <td>0.883</td>\n    </tr>\n    <tr>\n      <th>2</th>\n      <td>Demented</td>\n      <td>M</td>\n      <td>75</td>\n      <td>12</td>\n      <td>2.460452</td>\n      <td>23.0</td>\n      <td>0.5</td>\n      <td>1678</td>\n      <td>0.736</td>\n      <td>1.046</td>\n    </tr>\n    <tr>\n      <th>5</th>\n      <td>Nondemented</td>\n      <td>F</td>\n      <td>88</td>\n      <td>18</td>\n      <td>3.000000</td>\n      <td>28.0</td>\n      <td>0.0</td>\n      <td>1215</td>\n      <td>0.710</td>\n      <td>1.444</td>\n    </tr>\n    <tr>\n      <th>7</th>\n      <td>Nondemented</td>\n      <td>M</td>\n      <td>80</td>\n      <td>12</td>\n      <td>4.000000</td>\n      <td>28.0</td>\n      <td>0.0</td>\n      <td>1689</td>\n      <td>0.712</td>\n      <td>1.039</td>\n    </tr>\n    <tr>\n      <th>10</th>\n      <td>Demented</td>\n      <td>M</td>\n      <td>71</td>\n      <td>16</td>\n      <td>2.460452</td>\n      <td>28.0</td>\n      <td>0.5</td>\n      <td>1357</td>\n      <td>0.748</td>\n      <td>1.293</td>\n    </tr>\n    <tr>\n      <th>...</th>\n      <td>...</td>\n      <td>...</td>\n      <td>...</td>\n      <td>...</td>\n      <td>...</td>\n      <td>...</td>\n      <td>...</td>\n      <td>...</td>\n      <td>...</td>\n      <td>...</td>\n    </tr>\n    <tr>\n      <th>359</th>\n      <td>Demented</td>\n      <td>M</td>\n      <td>73</td>\n      <td>12</td>\n      <td>2.460452</td>\n      <td>23.0</td>\n      <td>0.5</td>\n      <td>1661</td>\n      <td>0.698</td>\n      <td>1.056</td>\n    </tr>\n    <tr>\n      <th>361</th>\n      <td>Nondemented</td>\n      <td>F</td>\n      <td>66</td>\n      <td>13</td>\n      <td>2.000000</td>\n      <td>30.0</td>\n      <td>0.0</td>\n      <td>1495</td>\n      <td>0.746</td>\n      <td>1.174</td>\n    </tr>\n    <tr>\n      <th>365</th>\n      <td>Demented</td>\n      <td>F</td>\n      <td>72</td>\n      <td>16</td>\n      <td>3.000000</td>\n      <td>24.0</td>\n      <td>0.5</td>\n      <td>1354</td>\n      <td>0.733</td>\n      <td>1.296</td>\n    </tr>\n    <tr>\n      <th>367</th>\n      <td>Demented</td>\n      <td>M</td>\n      <td>80</td>\n      <td>16</td>\n      <td>1.000000</td>\n      <td>28.0</td>\n      <td>0.5</td>\n      <td>1704</td>\n      <td>0.711</td>\n      <td>1.030</td>\n    </tr>\n    <tr>\n      <th>370</th>\n      <td>Nondemented</td>\n      <td>F</td>\n      <td>61</td>\n      <td>13</td>\n      <td>2.000000</td>\n      <td>30.0</td>\n      <td>0.0</td>\n      <td>1319</td>\n      <td>0.801</td>\n      <td>1.331</td>\n    </tr>\n  </tbody>\n</table>\n<p>150 rows × 10 columns</p>\n</div>"
     },
     "metadata": {},
     "execution_count": 9
    }
   ],
   "source": [
    "df=df.drop(['Subject ID', 'MRI ID', 'MR Delay', 'Visit', 'Hand'], axis=1) \n",
    "df"
   ]
  },
  {
   "cell_type": "code",
   "execution_count": 10,
   "metadata": {},
   "outputs": [
    {
     "output_type": "execute_result",
     "data": {
      "text/plain": [
       "          Group  Age  EDUC       SES  MMSE  CDR  eTIV   nWBV    ASF  M/F_F  \\\n",
       "0   Nondemented   87    14  2.000000  27.0  0.0  1987  0.696  0.883      0   \n",
       "2      Demented   75    12  2.460452  23.0  0.5  1678  0.736  1.046      0   \n",
       "5   Nondemented   88    18  3.000000  28.0  0.0  1215  0.710  1.444      1   \n",
       "7   Nondemented   80    12  4.000000  28.0  0.0  1689  0.712  1.039      0   \n",
       "10     Demented   71    16  2.460452  28.0  0.5  1357  0.748  1.293      0   \n",
       "\n",
       "    M/F_M  \n",
       "0       1  \n",
       "2       1  \n",
       "5       0  \n",
       "7       1  \n",
       "10      1  "
      ],
      "text/html": "<div>\n<style scoped>\n    .dataframe tbody tr th:only-of-type {\n        vertical-align: middle;\n    }\n\n    .dataframe tbody tr th {\n        vertical-align: top;\n    }\n\n    .dataframe thead th {\n        text-align: right;\n    }\n</style>\n<table border=\"1\" class=\"dataframe\">\n  <thead>\n    <tr style=\"text-align: right;\">\n      <th></th>\n      <th>Group</th>\n      <th>Age</th>\n      <th>EDUC</th>\n      <th>SES</th>\n      <th>MMSE</th>\n      <th>CDR</th>\n      <th>eTIV</th>\n      <th>nWBV</th>\n      <th>ASF</th>\n      <th>M/F_F</th>\n      <th>M/F_M</th>\n    </tr>\n  </thead>\n  <tbody>\n    <tr>\n      <th>0</th>\n      <td>Nondemented</td>\n      <td>87</td>\n      <td>14</td>\n      <td>2.000000</td>\n      <td>27.0</td>\n      <td>0.0</td>\n      <td>1987</td>\n      <td>0.696</td>\n      <td>0.883</td>\n      <td>0</td>\n      <td>1</td>\n    </tr>\n    <tr>\n      <th>2</th>\n      <td>Demented</td>\n      <td>75</td>\n      <td>12</td>\n      <td>2.460452</td>\n      <td>23.0</td>\n      <td>0.5</td>\n      <td>1678</td>\n      <td>0.736</td>\n      <td>1.046</td>\n      <td>0</td>\n      <td>1</td>\n    </tr>\n    <tr>\n      <th>5</th>\n      <td>Nondemented</td>\n      <td>88</td>\n      <td>18</td>\n      <td>3.000000</td>\n      <td>28.0</td>\n      <td>0.0</td>\n      <td>1215</td>\n      <td>0.710</td>\n      <td>1.444</td>\n      <td>1</td>\n      <td>0</td>\n    </tr>\n    <tr>\n      <th>7</th>\n      <td>Nondemented</td>\n      <td>80</td>\n      <td>12</td>\n      <td>4.000000</td>\n      <td>28.0</td>\n      <td>0.0</td>\n      <td>1689</td>\n      <td>0.712</td>\n      <td>1.039</td>\n      <td>0</td>\n      <td>1</td>\n    </tr>\n    <tr>\n      <th>10</th>\n      <td>Demented</td>\n      <td>71</td>\n      <td>16</td>\n      <td>2.460452</td>\n      <td>28.0</td>\n      <td>0.5</td>\n      <td>1357</td>\n      <td>0.748</td>\n      <td>1.293</td>\n      <td>0</td>\n      <td>1</td>\n    </tr>\n  </tbody>\n</table>\n</div>"
     },
     "metadata": {},
     "execution_count": 10
    }
   ],
   "source": [
    "clean = df.copy()\n",
    "data_binary_encoded = pd.get_dummies(clean, columns=[\"M/F\"])\n",
    "data_binary_encoded.head()\n"
   ]
  },
  {
   "cell_type": "code",
   "execution_count": 11,
   "metadata": {},
   "outputs": [
    {
     "output_type": "execute_result",
     "data": {
      "text/plain": [
       "           Group  Age  EDUC       SES  MMSE  CDR  eTIV   nWBV    ASF  Female  \\\n",
       "0    Nondemented   87    14  2.000000  27.0  0.0  1987  0.696  0.883       0   \n",
       "2       Demented   75    12  2.460452  23.0  0.5  1678  0.736  1.046       0   \n",
       "5    Nondemented   88    18  3.000000  28.0  0.0  1215  0.710  1.444       1   \n",
       "7    Nondemented   80    12  4.000000  28.0  0.0  1689  0.712  1.039       0   \n",
       "10      Demented   71    16  2.460452  28.0  0.5  1357  0.748  1.293       0   \n",
       "..           ...  ...   ...       ...   ...  ...   ...    ...    ...     ...   \n",
       "359     Demented   73    12  2.460452  23.0  0.5  1661  0.698  1.056       0   \n",
       "361  Nondemented   66    13  2.000000  30.0  0.0  1495  0.746  1.174       1   \n",
       "365     Demented   72    16  3.000000  24.0  0.5  1354  0.733  1.296       1   \n",
       "367     Demented   80    16  1.000000  28.0  0.5  1704  0.711  1.030       0   \n",
       "370  Nondemented   61    13  2.000000  30.0  0.0  1319  0.801  1.331       1   \n",
       "\n",
       "     Male  \n",
       "0       1  \n",
       "2       1  \n",
       "5       0  \n",
       "7       1  \n",
       "10      1  \n",
       "..    ...  \n",
       "359     1  \n",
       "361     0  \n",
       "365     0  \n",
       "367     1  \n",
       "370     0  \n",
       "\n",
       "[150 rows x 11 columns]"
      ],
      "text/html": "<div>\n<style scoped>\n    .dataframe tbody tr th:only-of-type {\n        vertical-align: middle;\n    }\n\n    .dataframe tbody tr th {\n        vertical-align: top;\n    }\n\n    .dataframe thead th {\n        text-align: right;\n    }\n</style>\n<table border=\"1\" class=\"dataframe\">\n  <thead>\n    <tr style=\"text-align: right;\">\n      <th></th>\n      <th>Group</th>\n      <th>Age</th>\n      <th>EDUC</th>\n      <th>SES</th>\n      <th>MMSE</th>\n      <th>CDR</th>\n      <th>eTIV</th>\n      <th>nWBV</th>\n      <th>ASF</th>\n      <th>Female</th>\n      <th>Male</th>\n    </tr>\n  </thead>\n  <tbody>\n    <tr>\n      <th>0</th>\n      <td>Nondemented</td>\n      <td>87</td>\n      <td>14</td>\n      <td>2.000000</td>\n      <td>27.0</td>\n      <td>0.0</td>\n      <td>1987</td>\n      <td>0.696</td>\n      <td>0.883</td>\n      <td>0</td>\n      <td>1</td>\n    </tr>\n    <tr>\n      <th>2</th>\n      <td>Demented</td>\n      <td>75</td>\n      <td>12</td>\n      <td>2.460452</td>\n      <td>23.0</td>\n      <td>0.5</td>\n      <td>1678</td>\n      <td>0.736</td>\n      <td>1.046</td>\n      <td>0</td>\n      <td>1</td>\n    </tr>\n    <tr>\n      <th>5</th>\n      <td>Nondemented</td>\n      <td>88</td>\n      <td>18</td>\n      <td>3.000000</td>\n      <td>28.0</td>\n      <td>0.0</td>\n      <td>1215</td>\n      <td>0.710</td>\n      <td>1.444</td>\n      <td>1</td>\n      <td>0</td>\n    </tr>\n    <tr>\n      <th>7</th>\n      <td>Nondemented</td>\n      <td>80</td>\n      <td>12</td>\n      <td>4.000000</td>\n      <td>28.0</td>\n      <td>0.0</td>\n      <td>1689</td>\n      <td>0.712</td>\n      <td>1.039</td>\n      <td>0</td>\n      <td>1</td>\n    </tr>\n    <tr>\n      <th>10</th>\n      <td>Demented</td>\n      <td>71</td>\n      <td>16</td>\n      <td>2.460452</td>\n      <td>28.0</td>\n      <td>0.5</td>\n      <td>1357</td>\n      <td>0.748</td>\n      <td>1.293</td>\n      <td>0</td>\n      <td>1</td>\n    </tr>\n    <tr>\n      <th>...</th>\n      <td>...</td>\n      <td>...</td>\n      <td>...</td>\n      <td>...</td>\n      <td>...</td>\n      <td>...</td>\n      <td>...</td>\n      <td>...</td>\n      <td>...</td>\n      <td>...</td>\n      <td>...</td>\n    </tr>\n    <tr>\n      <th>359</th>\n      <td>Demented</td>\n      <td>73</td>\n      <td>12</td>\n      <td>2.460452</td>\n      <td>23.0</td>\n      <td>0.5</td>\n      <td>1661</td>\n      <td>0.698</td>\n      <td>1.056</td>\n      <td>0</td>\n      <td>1</td>\n    </tr>\n    <tr>\n      <th>361</th>\n      <td>Nondemented</td>\n      <td>66</td>\n      <td>13</td>\n      <td>2.000000</td>\n      <td>30.0</td>\n      <td>0.0</td>\n      <td>1495</td>\n      <td>0.746</td>\n      <td>1.174</td>\n      <td>1</td>\n      <td>0</td>\n    </tr>\n    <tr>\n      <th>365</th>\n      <td>Demented</td>\n      <td>72</td>\n      <td>16</td>\n      <td>3.000000</td>\n      <td>24.0</td>\n      <td>0.5</td>\n      <td>1354</td>\n      <td>0.733</td>\n      <td>1.296</td>\n      <td>1</td>\n      <td>0</td>\n    </tr>\n    <tr>\n      <th>367</th>\n      <td>Demented</td>\n      <td>80</td>\n      <td>16</td>\n      <td>1.000000</td>\n      <td>28.0</td>\n      <td>0.5</td>\n      <td>1704</td>\n      <td>0.711</td>\n      <td>1.030</td>\n      <td>0</td>\n      <td>1</td>\n    </tr>\n    <tr>\n      <th>370</th>\n      <td>Nondemented</td>\n      <td>61</td>\n      <td>13</td>\n      <td>2.000000</td>\n      <td>30.0</td>\n      <td>0.0</td>\n      <td>1319</td>\n      <td>0.801</td>\n      <td>1.331</td>\n      <td>1</td>\n      <td>0</td>\n    </tr>\n  </tbody>\n</table>\n<p>150 rows × 11 columns</p>\n</div>"
     },
     "metadata": {},
     "execution_count": 11
    }
   ],
   "source": [
    "data_binary_encoded=data_binary_encoded.rename(columns={'M/F_M':'Male','M/F_F':'Female'})\n",
    "data_binary_encoded"
   ]
  },
  {
   "cell_type": "code",
   "execution_count": 73,
   "metadata": {},
   "outputs": [
    {
     "output_type": "stream",
     "name": "stdout",
     "text": [
      "(150, 10) (150,)\n"
     ]
    }
   ],
   "source": [
    "# Assign X (data) and y (target = DEMENTED/NOT)\n",
    "\n",
    "X = data_binary_encoded.drop(\"Group\", axis=1)\n",
    "y = data_binary_encoded[\"Group\"]\n",
    "print(X.shape, y.shape)"
   ]
  },
  {
   "cell_type": "code",
   "execution_count": 74,
   "metadata": {},
   "outputs": [],
   "source": [
    "# Split our data into training and testing\n",
    "\n",
    "from sklearn.model_selection import train_test_split\n",
    "\n",
    "X_train, X_test, y_train, y_test = train_test_split(X, y, random_state=1)"
   ]
  },
  {
   "cell_type": "code",
   "execution_count": 75,
   "metadata": {},
   "outputs": [
    {
     "output_type": "execute_result",
     "data": {
      "text/plain": [
       "LogisticRegression(max_iter=10000)"
      ]
     },
     "metadata": {},
     "execution_count": 75
    }
   ],
   "source": [
    "# LOGISTIC REGRESSION \n",
    "\n",
    "from sklearn.linear_model import LogisticRegression\n",
    "classifier = LogisticRegression(max_iter=10000)\n",
    "classifier"
   ]
  },
  {
   "cell_type": "code",
   "execution_count": 76,
   "metadata": {},
   "outputs": [
    {
     "output_type": "execute_result",
     "data": {
      "text/plain": [
       "LogisticRegression(max_iter=10000)"
      ]
     },
     "metadata": {},
     "execution_count": 76
    }
   ],
   "source": [
    "# Fit (train) or model using the training data\n",
    "\n",
    "classifier.fit(X_train, y_train)"
   ]
  },
  {
   "cell_type": "code",
   "execution_count": 77,
   "metadata": {},
   "outputs": [
    {
     "output_type": "stream",
     "name": "stdout",
     "text": [
      "Training Data Score: 0.9107142857142857\nTesting Data Score: 0.868421052631579\n"
     ]
    }
   ],
   "source": [
    "# Validate the model using the test data\n",
    "\n",
    "print(f\"Training Data Score: {classifier.score(X_train, y_train)}\")\n",
    "print(f\"Testing Data Score: {classifier.score(X_test, y_test)}\")"
   ]
  },
  {
   "cell_type": "code",
   "execution_count": 78,
   "metadata": {},
   "outputs": [
    {
     "output_type": "stream",
     "name": "stdout",
     "text": [
      "First 10 Predictions:   ['Nondemented' 'Nondemented' 'Nondemented' 'Nondemented' 'Nondemented'\n 'Nondemented' 'Demented' 'Nondemented' 'Demented' 'Demented']\nFirst 10 Actual labels: ['Converted', 'Nondemented', 'Converted', 'Nondemented', 'Nondemented', 'Nondemented', 'Nondemented', 'Converted', 'Demented', 'Demented']\n"
     ]
    }
   ],
   "source": [
    "# Make predictions\n",
    "\n",
    "predictions = classifier.predict(X_test)\n",
    "print(f\"First 10 Predictions:   {predictions[:10]}\")\n",
    "print(f\"First 10 Actual labels: {y_test[:10].tolist()}\")"
   ]
  },
  {
   "cell_type": "code",
   "execution_count": 79,
   "metadata": {},
   "outputs": [
    {
     "output_type": "execute_result",
     "data": {
      "text/plain": [
       "     Prediction       Actual\n",
       "0   Nondemented    Converted\n",
       "1   Nondemented  Nondemented\n",
       "2   Nondemented    Converted\n",
       "3   Nondemented  Nondemented\n",
       "4   Nondemented  Nondemented\n",
       "5   Nondemented  Nondemented\n",
       "6      Demented  Nondemented\n",
       "7   Nondemented    Converted\n",
       "8      Demented     Demented\n",
       "9      Demented     Demented\n",
       "10     Demented     Demented\n",
       "11  Nondemented  Nondemented\n",
       "12     Demented     Demented\n",
       "13  Nondemented  Nondemented\n",
       "14  Nondemented  Nondemented\n",
       "15  Nondemented  Nondemented\n",
       "16     Demented     Demented\n",
       "17     Demented     Demented\n",
       "18  Nondemented    Converted\n",
       "19  Nondemented  Nondemented\n",
       "20  Nondemented  Nondemented\n",
       "21     Demented     Demented\n",
       "22  Nondemented  Nondemented\n",
       "23     Demented     Demented\n",
       "24  Nondemented  Nondemented\n",
       "25     Demented     Demented\n",
       "26     Demented     Demented\n",
       "27  Nondemented  Nondemented\n",
       "28  Nondemented  Nondemented\n",
       "29  Nondemented  Nondemented\n",
       "30     Demented     Demented\n",
       "31  Nondemented  Nondemented\n",
       "32  Nondemented  Nondemented\n",
       "33  Nondemented  Nondemented\n",
       "34     Demented     Demented\n",
       "35     Demented     Demented\n",
       "36     Demented     Demented\n",
       "37     Demented     Demented"
      ],
      "text/html": "<div>\n<style scoped>\n    .dataframe tbody tr th:only-of-type {\n        vertical-align: middle;\n    }\n\n    .dataframe tbody tr th {\n        vertical-align: top;\n    }\n\n    .dataframe thead th {\n        text-align: right;\n    }\n</style>\n<table border=\"1\" class=\"dataframe\">\n  <thead>\n    <tr style=\"text-align: right;\">\n      <th></th>\n      <th>Prediction</th>\n      <th>Actual</th>\n    </tr>\n  </thead>\n  <tbody>\n    <tr>\n      <th>0</th>\n      <td>Nondemented</td>\n      <td>Converted</td>\n    </tr>\n    <tr>\n      <th>1</th>\n      <td>Nondemented</td>\n      <td>Nondemented</td>\n    </tr>\n    <tr>\n      <th>2</th>\n      <td>Nondemented</td>\n      <td>Converted</td>\n    </tr>\n    <tr>\n      <th>3</th>\n      <td>Nondemented</td>\n      <td>Nondemented</td>\n    </tr>\n    <tr>\n      <th>4</th>\n      <td>Nondemented</td>\n      <td>Nondemented</td>\n    </tr>\n    <tr>\n      <th>5</th>\n      <td>Nondemented</td>\n      <td>Nondemented</td>\n    </tr>\n    <tr>\n      <th>6</th>\n      <td>Demented</td>\n      <td>Nondemented</td>\n    </tr>\n    <tr>\n      <th>7</th>\n      <td>Nondemented</td>\n      <td>Converted</td>\n    </tr>\n    <tr>\n      <th>8</th>\n      <td>Demented</td>\n      <td>Demented</td>\n    </tr>\n    <tr>\n      <th>9</th>\n      <td>Demented</td>\n      <td>Demented</td>\n    </tr>\n    <tr>\n      <th>10</th>\n      <td>Demented</td>\n      <td>Demented</td>\n    </tr>\n    <tr>\n      <th>11</th>\n      <td>Nondemented</td>\n      <td>Nondemented</td>\n    </tr>\n    <tr>\n      <th>12</th>\n      <td>Demented</td>\n      <td>Demented</td>\n    </tr>\n    <tr>\n      <th>13</th>\n      <td>Nondemented</td>\n      <td>Nondemented</td>\n    </tr>\n    <tr>\n      <th>14</th>\n      <td>Nondemented</td>\n      <td>Nondemented</td>\n    </tr>\n    <tr>\n      <th>15</th>\n      <td>Nondemented</td>\n      <td>Nondemented</td>\n    </tr>\n    <tr>\n      <th>16</th>\n      <td>Demented</td>\n      <td>Demented</td>\n    </tr>\n    <tr>\n      <th>17</th>\n      <td>Demented</td>\n      <td>Demented</td>\n    </tr>\n    <tr>\n      <th>18</th>\n      <td>Nondemented</td>\n      <td>Converted</td>\n    </tr>\n    <tr>\n      <th>19</th>\n      <td>Nondemented</td>\n      <td>Nondemented</td>\n    </tr>\n    <tr>\n      <th>20</th>\n      <td>Nondemented</td>\n      <td>Nondemented</td>\n    </tr>\n    <tr>\n      <th>21</th>\n      <td>Demented</td>\n      <td>Demented</td>\n    </tr>\n    <tr>\n      <th>22</th>\n      <td>Nondemented</td>\n      <td>Nondemented</td>\n    </tr>\n    <tr>\n      <th>23</th>\n      <td>Demented</td>\n      <td>Demented</td>\n    </tr>\n    <tr>\n      <th>24</th>\n      <td>Nondemented</td>\n      <td>Nondemented</td>\n    </tr>\n    <tr>\n      <th>25</th>\n      <td>Demented</td>\n      <td>Demented</td>\n    </tr>\n    <tr>\n      <th>26</th>\n      <td>Demented</td>\n      <td>Demented</td>\n    </tr>\n    <tr>\n      <th>27</th>\n      <td>Nondemented</td>\n      <td>Nondemented</td>\n    </tr>\n    <tr>\n      <th>28</th>\n      <td>Nondemented</td>\n      <td>Nondemented</td>\n    </tr>\n    <tr>\n      <th>29</th>\n      <td>Nondemented</td>\n      <td>Nondemented</td>\n    </tr>\n    <tr>\n      <th>30</th>\n      <td>Demented</td>\n      <td>Demented</td>\n    </tr>\n    <tr>\n      <th>31</th>\n      <td>Nondemented</td>\n      <td>Nondemented</td>\n    </tr>\n    <tr>\n      <th>32</th>\n      <td>Nondemented</td>\n      <td>Nondemented</td>\n    </tr>\n    <tr>\n      <th>33</th>\n      <td>Nondemented</td>\n      <td>Nondemented</td>\n    </tr>\n    <tr>\n      <th>34</th>\n      <td>Demented</td>\n      <td>Demented</td>\n    </tr>\n    <tr>\n      <th>35</th>\n      <td>Demented</td>\n      <td>Demented</td>\n    </tr>\n    <tr>\n      <th>36</th>\n      <td>Demented</td>\n      <td>Demented</td>\n    </tr>\n    <tr>\n      <th>37</th>\n      <td>Demented</td>\n      <td>Demented</td>\n    </tr>\n  </tbody>\n</table>\n</div>"
     },
     "metadata": {},
     "execution_count": 79
    }
   ],
   "source": [
    "pd.DataFrame({\"Prediction\": predictions, \"Actual\": y_test}).reset_index(drop=True)"
   ]
  },
  {
   "cell_type": "code",
   "execution_count": 25,
   "metadata": {},
   "outputs": [],
   "source": [
    "# SVM\n",
    "\n",
    "target = data_binary_encoded[\"Group\"]\n",
    "target_names = [\"Demented\", \"Nondemented\", \"Converted\"]"
   ]
  },
  {
   "cell_type": "code",
   "execution_count": 29,
   "metadata": {},
   "outputs": [
    {
     "output_type": "execute_result",
     "data": {
      "text/plain": [
       "   Age  EDUC       SES  MMSE  CDR  eTIV   nWBV    ASF  Female  Male\n",
       "0   87    14  2.000000  27.0  0.0  1987  0.696  0.883       0     1\n",
       "1   75    12  2.460452  23.0  0.5  1678  0.736  1.046       0     1\n",
       "2   88    18  3.000000  28.0  0.0  1215  0.710  1.444       1     0\n",
       "3   80    12  4.000000  28.0  0.0  1689  0.712  1.039       0     1\n",
       "4   71    16  2.460452  28.0  0.5  1357  0.748  1.293       0     1"
      ],
      "text/html": "<div>\n<style scoped>\n    .dataframe tbody tr th:only-of-type {\n        vertical-align: middle;\n    }\n\n    .dataframe tbody tr th {\n        vertical-align: top;\n    }\n\n    .dataframe thead th {\n        text-align: right;\n    }\n</style>\n<table border=\"1\" class=\"dataframe\">\n  <thead>\n    <tr style=\"text-align: right;\">\n      <th></th>\n      <th>Age</th>\n      <th>EDUC</th>\n      <th>SES</th>\n      <th>MMSE</th>\n      <th>CDR</th>\n      <th>eTIV</th>\n      <th>nWBV</th>\n      <th>ASF</th>\n      <th>Female</th>\n      <th>Male</th>\n    </tr>\n  </thead>\n  <tbody>\n    <tr>\n      <th>0</th>\n      <td>87</td>\n      <td>14</td>\n      <td>2.000000</td>\n      <td>27.0</td>\n      <td>0.0</td>\n      <td>1987</td>\n      <td>0.696</td>\n      <td>0.883</td>\n      <td>0</td>\n      <td>1</td>\n    </tr>\n    <tr>\n      <th>1</th>\n      <td>75</td>\n      <td>12</td>\n      <td>2.460452</td>\n      <td>23.0</td>\n      <td>0.5</td>\n      <td>1678</td>\n      <td>0.736</td>\n      <td>1.046</td>\n      <td>0</td>\n      <td>1</td>\n    </tr>\n    <tr>\n      <th>2</th>\n      <td>88</td>\n      <td>18</td>\n      <td>3.000000</td>\n      <td>28.0</td>\n      <td>0.0</td>\n      <td>1215</td>\n      <td>0.710</td>\n      <td>1.444</td>\n      <td>1</td>\n      <td>0</td>\n    </tr>\n    <tr>\n      <th>3</th>\n      <td>80</td>\n      <td>12</td>\n      <td>4.000000</td>\n      <td>28.0</td>\n      <td>0.0</td>\n      <td>1689</td>\n      <td>0.712</td>\n      <td>1.039</td>\n      <td>0</td>\n      <td>1</td>\n    </tr>\n    <tr>\n      <th>4</th>\n      <td>71</td>\n      <td>16</td>\n      <td>2.460452</td>\n      <td>28.0</td>\n      <td>0.5</td>\n      <td>1357</td>\n      <td>0.748</td>\n      <td>1.293</td>\n      <td>0</td>\n      <td>1</td>\n    </tr>\n  </tbody>\n</table>\n</div>"
     },
     "metadata": {},
     "execution_count": 29
    }
   ],
   "source": [
    "data = data_binary_encoded.drop(\"Group\", axis=1).reset_index(drop=True)\n",
    "feature_names = data.columns\n",
    "data.head()"
   ]
  },
  {
   "cell_type": "code",
   "execution_count": 80,
   "metadata": {},
   "outputs": [],
   "source": [
    "X_train, X_test, y_train, y_test = train_test_split(data, target)"
   ]
  },
  {
   "cell_type": "code",
   "execution_count": 62,
   "metadata": {},
   "outputs": [
    {
     "output_type": "execute_result",
     "data": {
      "text/plain": [
       "SVC(kernel='linear')"
      ]
     },
     "metadata": {},
     "execution_count": 62
    }
   ],
   "source": [
    "# Support vector machine linear classifier\n",
    "\n",
    "from sklearn.svm import SVC \n",
    "model = SVC(kernel='linear')\n",
    "model.fit(X_train, y_train)"
   ]
  },
  {
   "cell_type": "code",
   "execution_count": 63,
   "metadata": {},
   "outputs": [
    {
     "output_type": "stream",
     "name": "stdout",
     "text": [
      "Test Accuracy: 0.816\n"
     ]
    }
   ],
   "source": [
    "# Model Accuracy\n",
    "\n",
    "print('Test Accuracy: %.3f' % model.score(X_test, y_test))"
   ]
  },
  {
   "cell_type": "code",
   "execution_count": 64,
   "metadata": {},
   "outputs": [
    {
     "output_type": "stream",
     "name": "stdout",
     "text": [
      "              precision    recall  f1-score   support\n",
      "\n",
      "    Demented       0.00      0.00      0.00         7\n",
      " Nondemented       0.94      1.00      0.97        16\n",
      "   Converted       0.71      1.00      0.83        15\n",
      "\n",
      "    accuracy                           0.82        38\n",
      "   macro avg       0.55      0.67      0.60        38\n",
      "weighted avg       0.68      0.82      0.74        38\n",
      "\n",
      "C:\\anaconda\\lib\\site-packages\\sklearn\\metrics\\_classification.py:1245: UndefinedMetricWarning: Precision and F-score are ill-defined and being set to 0.0 in labels with no predicted samples. Use `zero_division` parameter to control this behavior.\n",
      "  _warn_prf(average, modifier, msg_start, len(result))\n",
      "C:\\anaconda\\lib\\site-packages\\sklearn\\metrics\\_classification.py:1245: UndefinedMetricWarning: Precision and F-score are ill-defined and being set to 0.0 in labels with no predicted samples. Use `zero_division` parameter to control this behavior.\n",
      "  _warn_prf(average, modifier, msg_start, len(result))\n",
      "C:\\anaconda\\lib\\site-packages\\sklearn\\metrics\\_classification.py:1245: UndefinedMetricWarning: Precision and F-score are ill-defined and being set to 0.0 in labels with no predicted samples. Use `zero_division` parameter to control this behavior.\n",
      "  _warn_prf(average, modifier, msg_start, len(result))\n"
     ]
    }
   ],
   "source": [
    "# Calculate classification report\n",
    "\n",
    "from sklearn.metrics import classification_report\n",
    "predictions = model.predict(X_test)\n",
    "print(classification_report(y_test, predictions,\n",
    "                            target_names=target_names))"
   ]
  },
  {
   "cell_type": "code",
   "execution_count": 43,
   "metadata": {},
   "outputs": [],
   "source": [
    "from sklearn import tree"
   ]
  },
  {
   "cell_type": "code",
   "execution_count": 81,
   "metadata": {},
   "outputs": [
    {
     "output_type": "execute_result",
     "data": {
      "text/plain": [
       "0.8947368421052632"
      ]
     },
     "metadata": {},
     "execution_count": 81
    }
   ],
   "source": [
    "clf = tree.DecisionTreeClassifier()\n",
    "clf = clf.fit(X_train, y_train)\n",
    "clf.score(X_test, y_test)"
   ]
  },
  {
   "cell_type": "code",
   "execution_count": 93,
   "metadata": {},
   "outputs": [
    {
     "output_type": "stream",
     "name": "stdout",
     "text": [
      "0.9210526315789473\n1.0\n"
     ]
    }
   ],
   "source": [
    "from sklearn.ensemble import RandomForestClassifier\n",
    "rf = RandomForestClassifier(n_estimators=200)\n",
    "rf = rf.fit(X_train, y_train)\n",
    "print(rf.score(X_test, y_test))\n",
    "print(rf.score(X_train, y_train))"
   ]
  },
  {
   "cell_type": "code",
   "execution_count": 46,
   "metadata": {},
   "outputs": [
    {
     "output_type": "execute_result",
     "data": {
      "text/plain": [
       "[(0.4632072957977861, 'CDR'),\n",
       " (0.14908239368337936, 'MMSE'),\n",
       " (0.07056190448494391, 'Age'),\n",
       " (0.06507271878349404, 'nWBV'),\n",
       " (0.06395541386258945, 'eTIV'),\n",
       " (0.06243416800935955, 'ASF'),\n",
       " (0.04917826468527723, 'EDUC'),\n",
       " (0.041712209378634575, 'SES'),\n",
       " (0.021906725753290814, 'Male'),\n",
       " (0.012888905561244961, 'Female')]"
      ]
     },
     "metadata": {},
     "execution_count": 46
    }
   ],
   "source": [
    "sorted(zip(rf.feature_importances_, feature_names), reverse=True)"
   ]
  },
  {
   "cell_type": "code",
   "execution_count": 103,
   "metadata": {},
   "outputs": [],
   "source": [
    "from sklearn.datasets import make_classification\n",
    "from imblearn.over_sampling import RandomOverSampler"
   ]
  },
  {
   "cell_type": "code",
   "execution_count": 104,
   "metadata": {},
   "outputs": [],
   "source": [
    "# define oversampling strategy\n",
    "oversample = RandomOverSampler(sampling_strategy='minority')"
   ]
  },
  {
   "cell_type": "code",
   "execution_count": 105,
   "metadata": {},
   "outputs": [],
   "source": [
    "# define oversampling strategy\n",
    "oversample = RandomOverSampler(sampling_strategy=0.5)"
   ]
  },
  {
   "cell_type": "code",
   "execution_count": 107,
   "metadata": {},
   "outputs": [
    {
     "output_type": "execute_result",
     "data": {
      "text/plain": [
       "RandomOverSampler(sampling_strategy=0.5)"
      ]
     },
     "metadata": {},
     "execution_count": 107
    }
   ],
   "source": [
    "oversample"
   ]
  },
  {
   "cell_type": "code",
   "execution_count": 106,
   "metadata": {},
   "outputs": [
    {
     "output_type": "error",
     "ename": "ValueError",
     "evalue": "\"sampling_strategy\" can be a float only when the type of target is binary. For multi-class, use a dict.",
     "traceback": [
      "\u001b[1;31m---------------------------------------------------------------------------\u001b[0m",
      "\u001b[1;31mValueError\u001b[0m                                Traceback (most recent call last)",
      "\u001b[1;32m<ipython-input-106-2108f2d66b47>\u001b[0m in \u001b[0;36m<module>\u001b[1;34m\u001b[0m\n\u001b[0;32m      1\u001b[0m \u001b[1;31m# fit and apply the transform\u001b[0m\u001b[1;33m\u001b[0m\u001b[1;33m\u001b[0m\u001b[1;33m\u001b[0m\u001b[0m\n\u001b[1;32m----> 2\u001b[1;33m \u001b[0mX_over\u001b[0m\u001b[1;33m,\u001b[0m \u001b[0my_over\u001b[0m \u001b[1;33m=\u001b[0m \u001b[0moversample\u001b[0m\u001b[1;33m.\u001b[0m\u001b[0mfit_resample\u001b[0m\u001b[1;33m(\u001b[0m\u001b[0mX\u001b[0m\u001b[1;33m,\u001b[0m \u001b[0my\u001b[0m\u001b[1;33m)\u001b[0m\u001b[1;33m\u001b[0m\u001b[1;33m\u001b[0m\u001b[0m\n\u001b[0m",
      "\u001b[1;32mC:\\anaconda\\lib\\site-packages\\imblearn\\base.py\u001b[0m in \u001b[0;36mfit_resample\u001b[1;34m(self, X, y)\u001b[0m\n\u001b[0;32m     77\u001b[0m         \u001b[0mX\u001b[0m\u001b[1;33m,\u001b[0m \u001b[0my\u001b[0m\u001b[1;33m,\u001b[0m \u001b[0mbinarize_y\u001b[0m \u001b[1;33m=\u001b[0m \u001b[0mself\u001b[0m\u001b[1;33m.\u001b[0m\u001b[0m_check_X_y\u001b[0m\u001b[1;33m(\u001b[0m\u001b[0mX\u001b[0m\u001b[1;33m,\u001b[0m \u001b[0my\u001b[0m\u001b[1;33m)\u001b[0m\u001b[1;33m\u001b[0m\u001b[1;33m\u001b[0m\u001b[0m\n\u001b[0;32m     78\u001b[0m \u001b[1;33m\u001b[0m\u001b[0m\n\u001b[1;32m---> 79\u001b[1;33m         self.sampling_strategy_ = check_sampling_strategy(\n\u001b[0m\u001b[0;32m     80\u001b[0m             \u001b[0mself\u001b[0m\u001b[1;33m.\u001b[0m\u001b[0msampling_strategy\u001b[0m\u001b[1;33m,\u001b[0m \u001b[0my\u001b[0m\u001b[1;33m,\u001b[0m \u001b[0mself\u001b[0m\u001b[1;33m.\u001b[0m\u001b[0m_sampling_type\u001b[0m\u001b[1;33m\u001b[0m\u001b[1;33m\u001b[0m\u001b[0m\n\u001b[0;32m     81\u001b[0m         )\n",
      "\u001b[1;32mC:\\anaconda\\lib\\site-packages\\imblearn\\utils\\_validation.py\u001b[0m in \u001b[0;36mcheck_sampling_strategy\u001b[1;34m(sampling_strategy, y, sampling_type, **kwargs)\u001b[0m\n\u001b[0;32m    533\u001b[0m         return OrderedDict(\n\u001b[0;32m    534\u001b[0m             sorted(\n\u001b[1;32m--> 535\u001b[1;33m                 \u001b[0m_sampling_strategy_float\u001b[0m\u001b[1;33m(\u001b[0m\u001b[0msampling_strategy\u001b[0m\u001b[1;33m,\u001b[0m \u001b[0my\u001b[0m\u001b[1;33m,\u001b[0m \u001b[0msampling_type\u001b[0m\u001b[1;33m)\u001b[0m\u001b[1;33m.\u001b[0m\u001b[0mitems\u001b[0m\u001b[1;33m(\u001b[0m\u001b[1;33m)\u001b[0m\u001b[1;33m\u001b[0m\u001b[1;33m\u001b[0m\u001b[0m\n\u001b[0m\u001b[0;32m    536\u001b[0m             )\n\u001b[0;32m    537\u001b[0m         )\n",
      "\u001b[1;32mC:\\anaconda\\lib\\site-packages\\imblearn\\utils\\_validation.py\u001b[0m in \u001b[0;36m_sampling_strategy_float\u001b[1;34m(sampling_strategy, y, sampling_type)\u001b[0m\n\u001b[0;32m    357\u001b[0m     \u001b[0mtype_y\u001b[0m \u001b[1;33m=\u001b[0m \u001b[0mtype_of_target\u001b[0m\u001b[1;33m(\u001b[0m\u001b[0my\u001b[0m\u001b[1;33m)\u001b[0m\u001b[1;33m\u001b[0m\u001b[1;33m\u001b[0m\u001b[0m\n\u001b[0;32m    358\u001b[0m     \u001b[1;32mif\u001b[0m \u001b[0mtype_y\u001b[0m \u001b[1;33m!=\u001b[0m \u001b[1;34m\"binary\"\u001b[0m\u001b[1;33m:\u001b[0m\u001b[1;33m\u001b[0m\u001b[1;33m\u001b[0m\u001b[0m\n\u001b[1;32m--> 359\u001b[1;33m         raise ValueError(\n\u001b[0m\u001b[0;32m    360\u001b[0m             \u001b[1;34m'\"sampling_strategy\" can be a float only when the type '\u001b[0m\u001b[1;33m\u001b[0m\u001b[1;33m\u001b[0m\u001b[0m\n\u001b[0;32m    361\u001b[0m             \u001b[1;34m\"of target is binary. For multi-class, use a dict.\"\u001b[0m\u001b[1;33m\u001b[0m\u001b[1;33m\u001b[0m\u001b[0m\n",
      "\u001b[1;31mValueError\u001b[0m: \"sampling_strategy\" can be a float only when the type of target is binary. For multi-class, use a dict."
     ]
    }
   ],
   "source": [
    "# fit and apply the transform\n",
    "X_over, y_over = oversample.fit_resample(X, y)"
   ]
  },
  {
   "cell_type": "code",
   "execution_count": null,
   "metadata": {},
   "outputs": [],
   "source": [
    "# define dataset\n",
    "X, y = make_classification(n_samples=10000, weights=[0.99], flip_y=0)"
   ]
  }
 ],
 "metadata": {
  "kernelspec": {
   "name": "python3",
   "display_name": "Python 3.8.5 64-bit (conda)"
  },
  "language_info": {
   "codemirror_mode": {
    "name": "ipython",
    "version": 3
   },
   "file_extension": ".py",
   "mimetype": "text/x-python",
   "name": "python",
   "nbconvert_exporter": "python",
   "pygments_lexer": "ipython3",
   "version": "3.8.5-final"
  }
 },
 "nbformat": 4,
 "nbformat_minor": 5
}