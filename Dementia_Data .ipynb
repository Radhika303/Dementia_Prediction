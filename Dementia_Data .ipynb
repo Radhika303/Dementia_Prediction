{
 "cells": [
  {
   "cell_type": "code",
   "execution_count": 1,
   "metadata": {},
   "outputs": [],
   "source": [
    "# Importing the libraries\n",
    "\n",
    "import pandas as pd\n",
    "import numpy as np\n",
    "import matplotlib.pyplot as plt\n"
   ]
  },
  {
   "cell_type": "code",
   "execution_count": 2,
   "metadata": {},
   "outputs": [
    {
     "output_type": "execute_result",
     "data": {
      "text/plain": [
       "  Subject ID         MRI ID        Group  Visit  MR Delay M/F Hand  Age  EDUC  \\\n",
       "0  OAS2_0001  OAS2_0001_MR1  Nondemented      1         0   M    R   87    14   \n",
       "1  OAS2_0001  OAS2_0001_MR2  Nondemented      2       457   M    R   88    14   \n",
       "2  OAS2_0002  OAS2_0002_MR1     Demented      1         0   M    R   75    12   \n",
       "3  OAS2_0002  OAS2_0002_MR2     Demented      2       560   M    R   76    12   \n",
       "4  OAS2_0002  OAS2_0002_MR3     Demented      3      1895   M    R   80    12   \n",
       "\n",
       "   SES  MMSE  CDR  eTIV   nWBV    ASF  \n",
       "0  2.0  27.0  0.0  1987  0.696  0.883  \n",
       "1  2.0  30.0  0.0  2004  0.681  0.876  \n",
       "2  NaN  23.0  0.5  1678  0.736  1.046  \n",
       "3  NaN  28.0  0.5  1738  0.713  1.010  \n",
       "4  NaN  22.0  0.5  1698  0.701  1.034  "
      ],
      "text/html": "<div>\n<style scoped>\n    .dataframe tbody tr th:only-of-type {\n        vertical-align: middle;\n    }\n\n    .dataframe tbody tr th {\n        vertical-align: top;\n    }\n\n    .dataframe thead th {\n        text-align: right;\n    }\n</style>\n<table border=\"1\" class=\"dataframe\">\n  <thead>\n    <tr style=\"text-align: right;\">\n      <th></th>\n      <th>Subject ID</th>\n      <th>MRI ID</th>\n      <th>Group</th>\n      <th>Visit</th>\n      <th>MR Delay</th>\n      <th>M/F</th>\n      <th>Hand</th>\n      <th>Age</th>\n      <th>EDUC</th>\n      <th>SES</th>\n      <th>MMSE</th>\n      <th>CDR</th>\n      <th>eTIV</th>\n      <th>nWBV</th>\n      <th>ASF</th>\n    </tr>\n  </thead>\n  <tbody>\n    <tr>\n      <th>0</th>\n      <td>OAS2_0001</td>\n      <td>OAS2_0001_MR1</td>\n      <td>Nondemented</td>\n      <td>1</td>\n      <td>0</td>\n      <td>M</td>\n      <td>R</td>\n      <td>87</td>\n      <td>14</td>\n      <td>2.0</td>\n      <td>27.0</td>\n      <td>0.0</td>\n      <td>1987</td>\n      <td>0.696</td>\n      <td>0.883</td>\n    </tr>\n    <tr>\n      <th>1</th>\n      <td>OAS2_0001</td>\n      <td>OAS2_0001_MR2</td>\n      <td>Nondemented</td>\n      <td>2</td>\n      <td>457</td>\n      <td>M</td>\n      <td>R</td>\n      <td>88</td>\n      <td>14</td>\n      <td>2.0</td>\n      <td>30.0</td>\n      <td>0.0</td>\n      <td>2004</td>\n      <td>0.681</td>\n      <td>0.876</td>\n    </tr>\n    <tr>\n      <th>2</th>\n      <td>OAS2_0002</td>\n      <td>OAS2_0002_MR1</td>\n      <td>Demented</td>\n      <td>1</td>\n      <td>0</td>\n      <td>M</td>\n      <td>R</td>\n      <td>75</td>\n      <td>12</td>\n      <td>NaN</td>\n      <td>23.0</td>\n      <td>0.5</td>\n      <td>1678</td>\n      <td>0.736</td>\n      <td>1.046</td>\n    </tr>\n    <tr>\n      <th>3</th>\n      <td>OAS2_0002</td>\n      <td>OAS2_0002_MR2</td>\n      <td>Demented</td>\n      <td>2</td>\n      <td>560</td>\n      <td>M</td>\n      <td>R</td>\n      <td>76</td>\n      <td>12</td>\n      <td>NaN</td>\n      <td>28.0</td>\n      <td>0.5</td>\n      <td>1738</td>\n      <td>0.713</td>\n      <td>1.010</td>\n    </tr>\n    <tr>\n      <th>4</th>\n      <td>OAS2_0002</td>\n      <td>OAS2_0002_MR3</td>\n      <td>Demented</td>\n      <td>3</td>\n      <td>1895</td>\n      <td>M</td>\n      <td>R</td>\n      <td>80</td>\n      <td>12</td>\n      <td>NaN</td>\n      <td>22.0</td>\n      <td>0.5</td>\n      <td>1698</td>\n      <td>0.701</td>\n      <td>1.034</td>\n    </tr>\n  </tbody>\n</table>\n</div>"
     },
     "metadata": {},
     "execution_count": 2
    }
   ],
   "source": [
    "data = pd.read_csv(\"oasis_longitudinal.csv\")\n",
    "data.head()"
   ]
  },
  {
   "cell_type": "code",
   "execution_count": 3,
   "metadata": {},
   "outputs": [
    {
     "output_type": "execute_result",
     "data": {
      "text/plain": [
       "Subject ID     0\n",
       "MRI ID         0\n",
       "Group          0\n",
       "Visit          0\n",
       "MR Delay       0\n",
       "M/F            0\n",
       "Hand           0\n",
       "Age            0\n",
       "EDUC           0\n",
       "SES           19\n",
       "MMSE           2\n",
       "CDR            0\n",
       "eTIV           0\n",
       "nWBV           0\n",
       "ASF            0\n",
       "dtype: int64"
      ]
     },
     "metadata": {},
     "execution_count": 3
    }
   ],
   "source": [
    "data.isnull().sum()"
   ]
  },
  {
   "cell_type": "code",
   "execution_count": 4,
   "metadata": {},
   "outputs": [
    {
     "output_type": "execute_result",
     "data": {
      "text/plain": [
       "    Subject ID         MRI ID        Group  Visit  MR Delay M/F Hand  Age  \\\n",
       "0    OAS2_0001  OAS2_0001_MR1  Nondemented      1         0   M    R   87   \n",
       "2    OAS2_0002  OAS2_0002_MR1     Demented      1         0   M    R   75   \n",
       "5    OAS2_0004  OAS2_0004_MR1  Nondemented      1         0   F    R   88   \n",
       "7    OAS2_0005  OAS2_0005_MR1  Nondemented      1         0   M    R   80   \n",
       "10   OAS2_0007  OAS2_0007_MR1     Demented      1         0   M    R   71   \n",
       "..         ...            ...          ...    ...       ...  ..  ...  ...   \n",
       "359  OAS2_0182  OAS2_0182_MR1     Demented      1         0   M    R   73   \n",
       "361  OAS2_0183  OAS2_0183_MR1  Nondemented      1         0   F    R   66   \n",
       "365  OAS2_0184  OAS2_0184_MR1     Demented      1         0   F    R   72   \n",
       "367  OAS2_0185  OAS2_0185_MR1     Demented      1         0   M    R   80   \n",
       "370  OAS2_0186  OAS2_0186_MR1  Nondemented      1         0   F    R   61   \n",
       "\n",
       "     EDUC  SES  MMSE  CDR  eTIV   nWBV    ASF  \n",
       "0      14  2.0  27.0  0.0  1987  0.696  0.883  \n",
       "2      12  NaN  23.0  0.5  1678  0.736  1.046  \n",
       "5      18  3.0  28.0  0.0  1215  0.710  1.444  \n",
       "7      12  4.0  28.0  0.0  1689  0.712  1.039  \n",
       "10     16  NaN  28.0  0.5  1357  0.748  1.293  \n",
       "..    ...  ...   ...  ...   ...    ...    ...  \n",
       "359    12  NaN  23.0  0.5  1661  0.698  1.056  \n",
       "361    13  2.0  30.0  0.0  1495  0.746  1.174  \n",
       "365    16  3.0  24.0  0.5  1354  0.733  1.296  \n",
       "367    16  1.0  28.0  0.5  1704  0.711  1.030  \n",
       "370    13  2.0  30.0  0.0  1319  0.801  1.331  \n",
       "\n",
       "[150 rows x 15 columns]"
      ],
      "text/html": "<div>\n<style scoped>\n    .dataframe tbody tr th:only-of-type {\n        vertical-align: middle;\n    }\n\n    .dataframe tbody tr th {\n        vertical-align: top;\n    }\n\n    .dataframe thead th {\n        text-align: right;\n    }\n</style>\n<table border=\"1\" class=\"dataframe\">\n  <thead>\n    <tr style=\"text-align: right;\">\n      <th></th>\n      <th>Subject ID</th>\n      <th>MRI ID</th>\n      <th>Group</th>\n      <th>Visit</th>\n      <th>MR Delay</th>\n      <th>M/F</th>\n      <th>Hand</th>\n      <th>Age</th>\n      <th>EDUC</th>\n      <th>SES</th>\n      <th>MMSE</th>\n      <th>CDR</th>\n      <th>eTIV</th>\n      <th>nWBV</th>\n      <th>ASF</th>\n    </tr>\n  </thead>\n  <tbody>\n    <tr>\n      <th>0</th>\n      <td>OAS2_0001</td>\n      <td>OAS2_0001_MR1</td>\n      <td>Nondemented</td>\n      <td>1</td>\n      <td>0</td>\n      <td>M</td>\n      <td>R</td>\n      <td>87</td>\n      <td>14</td>\n      <td>2.0</td>\n      <td>27.0</td>\n      <td>0.0</td>\n      <td>1987</td>\n      <td>0.696</td>\n      <td>0.883</td>\n    </tr>\n    <tr>\n      <th>2</th>\n      <td>OAS2_0002</td>\n      <td>OAS2_0002_MR1</td>\n      <td>Demented</td>\n      <td>1</td>\n      <td>0</td>\n      <td>M</td>\n      <td>R</td>\n      <td>75</td>\n      <td>12</td>\n      <td>NaN</td>\n      <td>23.0</td>\n      <td>0.5</td>\n      <td>1678</td>\n      <td>0.736</td>\n      <td>1.046</td>\n    </tr>\n    <tr>\n      <th>5</th>\n      <td>OAS2_0004</td>\n      <td>OAS2_0004_MR1</td>\n      <td>Nondemented</td>\n      <td>1</td>\n      <td>0</td>\n      <td>F</td>\n      <td>R</td>\n      <td>88</td>\n      <td>18</td>\n      <td>3.0</td>\n      <td>28.0</td>\n      <td>0.0</td>\n      <td>1215</td>\n      <td>0.710</td>\n      <td>1.444</td>\n    </tr>\n    <tr>\n      <th>7</th>\n      <td>OAS2_0005</td>\n      <td>OAS2_0005_MR1</td>\n      <td>Nondemented</td>\n      <td>1</td>\n      <td>0</td>\n      <td>M</td>\n      <td>R</td>\n      <td>80</td>\n      <td>12</td>\n      <td>4.0</td>\n      <td>28.0</td>\n      <td>0.0</td>\n      <td>1689</td>\n      <td>0.712</td>\n      <td>1.039</td>\n    </tr>\n    <tr>\n      <th>10</th>\n      <td>OAS2_0007</td>\n      <td>OAS2_0007_MR1</td>\n      <td>Demented</td>\n      <td>1</td>\n      <td>0</td>\n      <td>M</td>\n      <td>R</td>\n      <td>71</td>\n      <td>16</td>\n      <td>NaN</td>\n      <td>28.0</td>\n      <td>0.5</td>\n      <td>1357</td>\n      <td>0.748</td>\n      <td>1.293</td>\n    </tr>\n    <tr>\n      <th>...</th>\n      <td>...</td>\n      <td>...</td>\n      <td>...</td>\n      <td>...</td>\n      <td>...</td>\n      <td>...</td>\n      <td>...</td>\n      <td>...</td>\n      <td>...</td>\n      <td>...</td>\n      <td>...</td>\n      <td>...</td>\n      <td>...</td>\n      <td>...</td>\n      <td>...</td>\n    </tr>\n    <tr>\n      <th>359</th>\n      <td>OAS2_0182</td>\n      <td>OAS2_0182_MR1</td>\n      <td>Demented</td>\n      <td>1</td>\n      <td>0</td>\n      <td>M</td>\n      <td>R</td>\n      <td>73</td>\n      <td>12</td>\n      <td>NaN</td>\n      <td>23.0</td>\n      <td>0.5</td>\n      <td>1661</td>\n      <td>0.698</td>\n      <td>1.056</td>\n    </tr>\n    <tr>\n      <th>361</th>\n      <td>OAS2_0183</td>\n      <td>OAS2_0183_MR1</td>\n      <td>Nondemented</td>\n      <td>1</td>\n      <td>0</td>\n      <td>F</td>\n      <td>R</td>\n      <td>66</td>\n      <td>13</td>\n      <td>2.0</td>\n      <td>30.0</td>\n      <td>0.0</td>\n      <td>1495</td>\n      <td>0.746</td>\n      <td>1.174</td>\n    </tr>\n    <tr>\n      <th>365</th>\n      <td>OAS2_0184</td>\n      <td>OAS2_0184_MR1</td>\n      <td>Demented</td>\n      <td>1</td>\n      <td>0</td>\n      <td>F</td>\n      <td>R</td>\n      <td>72</td>\n      <td>16</td>\n      <td>3.0</td>\n      <td>24.0</td>\n      <td>0.5</td>\n      <td>1354</td>\n      <td>0.733</td>\n      <td>1.296</td>\n    </tr>\n    <tr>\n      <th>367</th>\n      <td>OAS2_0185</td>\n      <td>OAS2_0185_MR1</td>\n      <td>Demented</td>\n      <td>1</td>\n      <td>0</td>\n      <td>M</td>\n      <td>R</td>\n      <td>80</td>\n      <td>16</td>\n      <td>1.0</td>\n      <td>28.0</td>\n      <td>0.5</td>\n      <td>1704</td>\n      <td>0.711</td>\n      <td>1.030</td>\n    </tr>\n    <tr>\n      <th>370</th>\n      <td>OAS2_0186</td>\n      <td>OAS2_0186_MR1</td>\n      <td>Nondemented</td>\n      <td>1</td>\n      <td>0</td>\n      <td>F</td>\n      <td>R</td>\n      <td>61</td>\n      <td>13</td>\n      <td>2.0</td>\n      <td>30.0</td>\n      <td>0.0</td>\n      <td>1319</td>\n      <td>0.801</td>\n      <td>1.331</td>\n    </tr>\n  </tbody>\n</table>\n<p>150 rows × 15 columns</p>\n</div>"
     },
     "metadata": {},
     "execution_count": 4
    }
   ],
   "source": [
    "df = data[data[\"Visit\"] == 1]\n",
    "df"
   ]
  },
  {
   "cell_type": "code",
   "execution_count": 5,
   "metadata": {},
   "outputs": [
    {
     "output_type": "execute_result",
     "data": {
      "text/plain": [
       "Subject ID    0\n",
       "MRI ID        0\n",
       "Group         0\n",
       "Visit         0\n",
       "MR Delay      0\n",
       "M/F           0\n",
       "Hand          0\n",
       "Age           0\n",
       "EDUC          0\n",
       "SES           8\n",
       "MMSE          0\n",
       "CDR           0\n",
       "eTIV          0\n",
       "nWBV          0\n",
       "ASF           0\n",
       "dtype: int64"
      ]
     },
     "metadata": {},
     "execution_count": 5
    }
   ],
   "source": [
    "df.isnull().sum()"
   ]
  },
  {
   "cell_type": "code",
   "execution_count": 6,
   "metadata": {},
   "outputs": [
    {
     "output_type": "stream",
     "name": "stderr",
     "text": [
      "<ipython-input-6-de35f1517ac6>:1: SettingWithCopyWarning: \nA value is trying to be set on a copy of a slice from a DataFrame.\nTry using .loc[row_indexer,col_indexer] = value instead\n\nSee the caveats in the documentation: https://pandas.pydata.org/pandas-docs/stable/user_guide/indexing.html#returning-a-view-versus-a-copy\n  df['SES']= df['SES'].fillna(data['SES'].mean())\n"
     ]
    }
   ],
   "source": [
    "df['SES']= df['SES'].fillna(data['SES'].mean())\n",
    "    "
   ]
  },
  {
   "cell_type": "code",
   "execution_count": 7,
   "metadata": {},
   "outputs": [
    {
     "output_type": "execute_result",
     "data": {
      "text/plain": [
       "Subject ID    0\n",
       "MRI ID        0\n",
       "Group         0\n",
       "Visit         0\n",
       "MR Delay      0\n",
       "M/F           0\n",
       "Hand          0\n",
       "Age           0\n",
       "EDUC          0\n",
       "SES           0\n",
       "MMSE          0\n",
       "CDR           0\n",
       "eTIV          0\n",
       "nWBV          0\n",
       "ASF           0\n",
       "dtype: int64"
      ]
     },
     "metadata": {},
     "execution_count": 7
    }
   ],
   "source": [
    "df.isnull().sum()"
   ]
  },
  {
   "cell_type": "code",
   "execution_count": 8,
   "metadata": {},
   "outputs": [
    {
     "output_type": "execute_result",
     "data": {
      "text/plain": [
       "           Group M/F  Age  EDUC       SES  MMSE  CDR  eTIV   nWBV    ASF\n",
       "0    Nondemented   M   87    14  2.000000  27.0  0.0  1987  0.696  0.883\n",
       "2       Demented   M   75    12  2.460452  23.0  0.5  1678  0.736  1.046\n",
       "5    Nondemented   F   88    18  3.000000  28.0  0.0  1215  0.710  1.444\n",
       "7    Nondemented   M   80    12  4.000000  28.0  0.0  1689  0.712  1.039\n",
       "10      Demented   M   71    16  2.460452  28.0  0.5  1357  0.748  1.293\n",
       "..           ...  ..  ...   ...       ...   ...  ...   ...    ...    ...\n",
       "359     Demented   M   73    12  2.460452  23.0  0.5  1661  0.698  1.056\n",
       "361  Nondemented   F   66    13  2.000000  30.0  0.0  1495  0.746  1.174\n",
       "365     Demented   F   72    16  3.000000  24.0  0.5  1354  0.733  1.296\n",
       "367     Demented   M   80    16  1.000000  28.0  0.5  1704  0.711  1.030\n",
       "370  Nondemented   F   61    13  2.000000  30.0  0.0  1319  0.801  1.331\n",
       "\n",
       "[150 rows x 10 columns]"
      ],
      "text/html": "<div>\n<style scoped>\n    .dataframe tbody tr th:only-of-type {\n        vertical-align: middle;\n    }\n\n    .dataframe tbody tr th {\n        vertical-align: top;\n    }\n\n    .dataframe thead th {\n        text-align: right;\n    }\n</style>\n<table border=\"1\" class=\"dataframe\">\n  <thead>\n    <tr style=\"text-align: right;\">\n      <th></th>\n      <th>Group</th>\n      <th>M/F</th>\n      <th>Age</th>\n      <th>EDUC</th>\n      <th>SES</th>\n      <th>MMSE</th>\n      <th>CDR</th>\n      <th>eTIV</th>\n      <th>nWBV</th>\n      <th>ASF</th>\n    </tr>\n  </thead>\n  <tbody>\n    <tr>\n      <th>0</th>\n      <td>Nondemented</td>\n      <td>M</td>\n      <td>87</td>\n      <td>14</td>\n      <td>2.000000</td>\n      <td>27.0</td>\n      <td>0.0</td>\n      <td>1987</td>\n      <td>0.696</td>\n      <td>0.883</td>\n    </tr>\n    <tr>\n      <th>2</th>\n      <td>Demented</td>\n      <td>M</td>\n      <td>75</td>\n      <td>12</td>\n      <td>2.460452</td>\n      <td>23.0</td>\n      <td>0.5</td>\n      <td>1678</td>\n      <td>0.736</td>\n      <td>1.046</td>\n    </tr>\n    <tr>\n      <th>5</th>\n      <td>Nondemented</td>\n      <td>F</td>\n      <td>88</td>\n      <td>18</td>\n      <td>3.000000</td>\n      <td>28.0</td>\n      <td>0.0</td>\n      <td>1215</td>\n      <td>0.710</td>\n      <td>1.444</td>\n    </tr>\n    <tr>\n      <th>7</th>\n      <td>Nondemented</td>\n      <td>M</td>\n      <td>80</td>\n      <td>12</td>\n      <td>4.000000</td>\n      <td>28.0</td>\n      <td>0.0</td>\n      <td>1689</td>\n      <td>0.712</td>\n      <td>1.039</td>\n    </tr>\n    <tr>\n      <th>10</th>\n      <td>Demented</td>\n      <td>M</td>\n      <td>71</td>\n      <td>16</td>\n      <td>2.460452</td>\n      <td>28.0</td>\n      <td>0.5</td>\n      <td>1357</td>\n      <td>0.748</td>\n      <td>1.293</td>\n    </tr>\n    <tr>\n      <th>...</th>\n      <td>...</td>\n      <td>...</td>\n      <td>...</td>\n      <td>...</td>\n      <td>...</td>\n      <td>...</td>\n      <td>...</td>\n      <td>...</td>\n      <td>...</td>\n      <td>...</td>\n    </tr>\n    <tr>\n      <th>359</th>\n      <td>Demented</td>\n      <td>M</td>\n      <td>73</td>\n      <td>12</td>\n      <td>2.460452</td>\n      <td>23.0</td>\n      <td>0.5</td>\n      <td>1661</td>\n      <td>0.698</td>\n      <td>1.056</td>\n    </tr>\n    <tr>\n      <th>361</th>\n      <td>Nondemented</td>\n      <td>F</td>\n      <td>66</td>\n      <td>13</td>\n      <td>2.000000</td>\n      <td>30.0</td>\n      <td>0.0</td>\n      <td>1495</td>\n      <td>0.746</td>\n      <td>1.174</td>\n    </tr>\n    <tr>\n      <th>365</th>\n      <td>Demented</td>\n      <td>F</td>\n      <td>72</td>\n      <td>16</td>\n      <td>3.000000</td>\n      <td>24.0</td>\n      <td>0.5</td>\n      <td>1354</td>\n      <td>0.733</td>\n      <td>1.296</td>\n    </tr>\n    <tr>\n      <th>367</th>\n      <td>Demented</td>\n      <td>M</td>\n      <td>80</td>\n      <td>16</td>\n      <td>1.000000</td>\n      <td>28.0</td>\n      <td>0.5</td>\n      <td>1704</td>\n      <td>0.711</td>\n      <td>1.030</td>\n    </tr>\n    <tr>\n      <th>370</th>\n      <td>Nondemented</td>\n      <td>F</td>\n      <td>61</td>\n      <td>13</td>\n      <td>2.000000</td>\n      <td>30.0</td>\n      <td>0.0</td>\n      <td>1319</td>\n      <td>0.801</td>\n      <td>1.331</td>\n    </tr>\n  </tbody>\n</table>\n<p>150 rows × 10 columns</p>\n</div>"
     },
     "metadata": {},
     "execution_count": 8
    }
   ],
   "source": [
    "df=df.drop(['Subject ID', 'MRI ID', 'MR Delay', 'Visit', 'Hand'], axis=1) \n",
    "df"
   ]
  },
  {
   "cell_type": "code",
   "execution_count": 9,
   "metadata": {},
   "outputs": [
    {
     "output_type": "execute_result",
     "data": {
      "text/plain": [
       "          Group  Age  EDUC       SES  MMSE  CDR  eTIV   nWBV    ASF  M/F_F  \\\n",
       "0   Nondemented   87    14  2.000000  27.0  0.0  1987  0.696  0.883      0   \n",
       "2      Demented   75    12  2.460452  23.0  0.5  1678  0.736  1.046      0   \n",
       "5   Nondemented   88    18  3.000000  28.0  0.0  1215  0.710  1.444      1   \n",
       "7   Nondemented   80    12  4.000000  28.0  0.0  1689  0.712  1.039      0   \n",
       "10     Demented   71    16  2.460452  28.0  0.5  1357  0.748  1.293      0   \n",
       "\n",
       "    M/F_M  \n",
       "0       1  \n",
       "2       1  \n",
       "5       0  \n",
       "7       1  \n",
       "10      1  "
      ],
      "text/html": "<div>\n<style scoped>\n    .dataframe tbody tr th:only-of-type {\n        vertical-align: middle;\n    }\n\n    .dataframe tbody tr th {\n        vertical-align: top;\n    }\n\n    .dataframe thead th {\n        text-align: right;\n    }\n</style>\n<table border=\"1\" class=\"dataframe\">\n  <thead>\n    <tr style=\"text-align: right;\">\n      <th></th>\n      <th>Group</th>\n      <th>Age</th>\n      <th>EDUC</th>\n      <th>SES</th>\n      <th>MMSE</th>\n      <th>CDR</th>\n      <th>eTIV</th>\n      <th>nWBV</th>\n      <th>ASF</th>\n      <th>M/F_F</th>\n      <th>M/F_M</th>\n    </tr>\n  </thead>\n  <tbody>\n    <tr>\n      <th>0</th>\n      <td>Nondemented</td>\n      <td>87</td>\n      <td>14</td>\n      <td>2.000000</td>\n      <td>27.0</td>\n      <td>0.0</td>\n      <td>1987</td>\n      <td>0.696</td>\n      <td>0.883</td>\n      <td>0</td>\n      <td>1</td>\n    </tr>\n    <tr>\n      <th>2</th>\n      <td>Demented</td>\n      <td>75</td>\n      <td>12</td>\n      <td>2.460452</td>\n      <td>23.0</td>\n      <td>0.5</td>\n      <td>1678</td>\n      <td>0.736</td>\n      <td>1.046</td>\n      <td>0</td>\n      <td>1</td>\n    </tr>\n    <tr>\n      <th>5</th>\n      <td>Nondemented</td>\n      <td>88</td>\n      <td>18</td>\n      <td>3.000000</td>\n      <td>28.0</td>\n      <td>0.0</td>\n      <td>1215</td>\n      <td>0.710</td>\n      <td>1.444</td>\n      <td>1</td>\n      <td>0</td>\n    </tr>\n    <tr>\n      <th>7</th>\n      <td>Nondemented</td>\n      <td>80</td>\n      <td>12</td>\n      <td>4.000000</td>\n      <td>28.0</td>\n      <td>0.0</td>\n      <td>1689</td>\n      <td>0.712</td>\n      <td>1.039</td>\n      <td>0</td>\n      <td>1</td>\n    </tr>\n    <tr>\n      <th>10</th>\n      <td>Demented</td>\n      <td>71</td>\n      <td>16</td>\n      <td>2.460452</td>\n      <td>28.0</td>\n      <td>0.5</td>\n      <td>1357</td>\n      <td>0.748</td>\n      <td>1.293</td>\n      <td>0</td>\n      <td>1</td>\n    </tr>\n  </tbody>\n</table>\n</div>"
     },
     "metadata": {},
     "execution_count": 9
    }
   ],
   "source": [
    "clean = df.copy()\n",
    "data_binary_encoded = pd.get_dummies(clean, columns=[\"M/F\"])\n",
    "data_binary_encoded.head()\n"
   ]
  },
  {
   "cell_type": "code",
   "execution_count": 10,
   "metadata": {},
   "outputs": [
    {
     "output_type": "execute_result",
     "data": {
      "text/plain": [
       "           Group  Age  EDUC       SES  MMSE  CDR  eTIV   nWBV    ASF  Female  \\\n",
       "0    Nondemented   87    14  2.000000  27.0  0.0  1987  0.696  0.883       0   \n",
       "2       Demented   75    12  2.460452  23.0  0.5  1678  0.736  1.046       0   \n",
       "5    Nondemented   88    18  3.000000  28.0  0.0  1215  0.710  1.444       1   \n",
       "7    Nondemented   80    12  4.000000  28.0  0.0  1689  0.712  1.039       0   \n",
       "10      Demented   71    16  2.460452  28.0  0.5  1357  0.748  1.293       0   \n",
       "..           ...  ...   ...       ...   ...  ...   ...    ...    ...     ...   \n",
       "359     Demented   73    12  2.460452  23.0  0.5  1661  0.698  1.056       0   \n",
       "361  Nondemented   66    13  2.000000  30.0  0.0  1495  0.746  1.174       1   \n",
       "365     Demented   72    16  3.000000  24.0  0.5  1354  0.733  1.296       1   \n",
       "367     Demented   80    16  1.000000  28.0  0.5  1704  0.711  1.030       0   \n",
       "370  Nondemented   61    13  2.000000  30.0  0.0  1319  0.801  1.331       1   \n",
       "\n",
       "     Male  \n",
       "0       1  \n",
       "2       1  \n",
       "5       0  \n",
       "7       1  \n",
       "10      1  \n",
       "..    ...  \n",
       "359     1  \n",
       "361     0  \n",
       "365     0  \n",
       "367     1  \n",
       "370     0  \n",
       "\n",
       "[150 rows x 11 columns]"
      ],
      "text/html": "<div>\n<style scoped>\n    .dataframe tbody tr th:only-of-type {\n        vertical-align: middle;\n    }\n\n    .dataframe tbody tr th {\n        vertical-align: top;\n    }\n\n    .dataframe thead th {\n        text-align: right;\n    }\n</style>\n<table border=\"1\" class=\"dataframe\">\n  <thead>\n    <tr style=\"text-align: right;\">\n      <th></th>\n      <th>Group</th>\n      <th>Age</th>\n      <th>EDUC</th>\n      <th>SES</th>\n      <th>MMSE</th>\n      <th>CDR</th>\n      <th>eTIV</th>\n      <th>nWBV</th>\n      <th>ASF</th>\n      <th>Female</th>\n      <th>Male</th>\n    </tr>\n  </thead>\n  <tbody>\n    <tr>\n      <th>0</th>\n      <td>Nondemented</td>\n      <td>87</td>\n      <td>14</td>\n      <td>2.000000</td>\n      <td>27.0</td>\n      <td>0.0</td>\n      <td>1987</td>\n      <td>0.696</td>\n      <td>0.883</td>\n      <td>0</td>\n      <td>1</td>\n    </tr>\n    <tr>\n      <th>2</th>\n      <td>Demented</td>\n      <td>75</td>\n      <td>12</td>\n      <td>2.460452</td>\n      <td>23.0</td>\n      <td>0.5</td>\n      <td>1678</td>\n      <td>0.736</td>\n      <td>1.046</td>\n      <td>0</td>\n      <td>1</td>\n    </tr>\n    <tr>\n      <th>5</th>\n      <td>Nondemented</td>\n      <td>88</td>\n      <td>18</td>\n      <td>3.000000</td>\n      <td>28.0</td>\n      <td>0.0</td>\n      <td>1215</td>\n      <td>0.710</td>\n      <td>1.444</td>\n      <td>1</td>\n      <td>0</td>\n    </tr>\n    <tr>\n      <th>7</th>\n      <td>Nondemented</td>\n      <td>80</td>\n      <td>12</td>\n      <td>4.000000</td>\n      <td>28.0</td>\n      <td>0.0</td>\n      <td>1689</td>\n      <td>0.712</td>\n      <td>1.039</td>\n      <td>0</td>\n      <td>1</td>\n    </tr>\n    <tr>\n      <th>10</th>\n      <td>Demented</td>\n      <td>71</td>\n      <td>16</td>\n      <td>2.460452</td>\n      <td>28.0</td>\n      <td>0.5</td>\n      <td>1357</td>\n      <td>0.748</td>\n      <td>1.293</td>\n      <td>0</td>\n      <td>1</td>\n    </tr>\n    <tr>\n      <th>...</th>\n      <td>...</td>\n      <td>...</td>\n      <td>...</td>\n      <td>...</td>\n      <td>...</td>\n      <td>...</td>\n      <td>...</td>\n      <td>...</td>\n      <td>...</td>\n      <td>...</td>\n      <td>...</td>\n    </tr>\n    <tr>\n      <th>359</th>\n      <td>Demented</td>\n      <td>73</td>\n      <td>12</td>\n      <td>2.460452</td>\n      <td>23.0</td>\n      <td>0.5</td>\n      <td>1661</td>\n      <td>0.698</td>\n      <td>1.056</td>\n      <td>0</td>\n      <td>1</td>\n    </tr>\n    <tr>\n      <th>361</th>\n      <td>Nondemented</td>\n      <td>66</td>\n      <td>13</td>\n      <td>2.000000</td>\n      <td>30.0</td>\n      <td>0.0</td>\n      <td>1495</td>\n      <td>0.746</td>\n      <td>1.174</td>\n      <td>1</td>\n      <td>0</td>\n    </tr>\n    <tr>\n      <th>365</th>\n      <td>Demented</td>\n      <td>72</td>\n      <td>16</td>\n      <td>3.000000</td>\n      <td>24.0</td>\n      <td>0.5</td>\n      <td>1354</td>\n      <td>0.733</td>\n      <td>1.296</td>\n      <td>1</td>\n      <td>0</td>\n    </tr>\n    <tr>\n      <th>367</th>\n      <td>Demented</td>\n      <td>80</td>\n      <td>16</td>\n      <td>1.000000</td>\n      <td>28.0</td>\n      <td>0.5</td>\n      <td>1704</td>\n      <td>0.711</td>\n      <td>1.030</td>\n      <td>0</td>\n      <td>1</td>\n    </tr>\n    <tr>\n      <th>370</th>\n      <td>Nondemented</td>\n      <td>61</td>\n      <td>13</td>\n      <td>2.000000</td>\n      <td>30.0</td>\n      <td>0.0</td>\n      <td>1319</td>\n      <td>0.801</td>\n      <td>1.331</td>\n      <td>1</td>\n      <td>0</td>\n    </tr>\n  </tbody>\n</table>\n<p>150 rows × 11 columns</p>\n</div>"
     },
     "metadata": {},
     "execution_count": 10
    }
   ],
   "source": [
    "data_binary_encoded=data_binary_encoded.rename(columns={'M/F_M':'Male','M/F_F':'Female'})\n",
    "data_binary_encoded"
   ]
  },
  {
   "cell_type": "code",
   "execution_count": 11,
   "metadata": {},
   "outputs": [
    {
     "output_type": "stream",
     "name": "stdout",
     "text": [
      "(150, 10) (150,)\n"
     ]
    }
   ],
   "source": [
    "# Assign X (data) and y (target = DEMENTED/NOT)\n",
    "\n",
    "X = data_binary_encoded.drop(\"Group\", axis=1)\n",
    "y = data_binary_encoded[\"Group\"]\n",
    "print(X.shape, y.shape)"
   ]
  },
  {
   "cell_type": "code",
   "execution_count": 12,
   "metadata": {},
   "outputs": [],
   "source": [
    "# Split our data into training and testing\n",
    "\n",
    "from sklearn.model_selection import train_test_split\n",
    "\n",
    "X_train, X_test, y_train, y_test = train_test_split(X, y, random_state=1)"
   ]
  },
  {
   "cell_type": "code",
   "execution_count": 13,
   "metadata": {},
   "outputs": [
    {
     "output_type": "execute_result",
     "data": {
      "text/plain": [
       "LogisticRegression(max_iter=10000)"
      ]
     },
     "metadata": {},
     "execution_count": 13
    }
   ],
   "source": [
    "# LOGISTIC REGRESSION \n",
    "\n",
    "from sklearn.linear_model import LogisticRegression\n",
    "classifier = LogisticRegression(max_iter=10000)\n",
    "classifier"
   ]
  },
  {
   "cell_type": "code",
   "execution_count": 14,
   "metadata": {},
   "outputs": [
    {
     "output_type": "execute_result",
     "data": {
      "text/plain": [
       "LogisticRegression(max_iter=10000)"
      ]
     },
     "metadata": {},
     "execution_count": 14
    }
   ],
   "source": [
    "# Fit (train) or model using the training data\n",
    "\n",
    "classifier.fit(X_train, y_train)"
   ]
  },
  {
   "cell_type": "code",
   "execution_count": 15,
   "metadata": {},
   "outputs": [
    {
     "output_type": "stream",
     "name": "stdout",
     "text": [
      "Training Data Score: 0.9107142857142857\nTesting Data Score: 0.868421052631579\n"
     ]
    }
   ],
   "source": [
    "# Validate the model using the test data\n",
    "\n",
    "print(f\"Training Data Score: {classifier.score(X_train, y_train)}\")\n",
    "print(f\"Testing Data Score: {classifier.score(X_test, y_test)}\")"
   ]
  },
  {
   "cell_type": "code",
   "execution_count": 16,
   "metadata": {},
   "outputs": [
    {
     "output_type": "stream",
     "name": "stdout",
     "text": [
      "First 10 Predictions:   ['Nondemented' 'Nondemented' 'Nondemented' 'Nondemented' 'Nondemented'\n 'Nondemented' 'Demented' 'Nondemented' 'Demented' 'Demented']\nFirst 10 Actual labels: ['Converted', 'Nondemented', 'Converted', 'Nondemented', 'Nondemented', 'Nondemented', 'Nondemented', 'Converted', 'Demented', 'Demented']\n"
     ]
    }
   ],
   "source": [
    "# Make predictions\n",
    "\n",
    "predictions = classifier.predict(X_test)\n",
    "print(f\"First 10 Predictions:   {predictions[:10]}\")\n",
    "print(f\"First 10 Actual labels: {y_test[:10].tolist()}\")"
   ]
  },
  {
   "cell_type": "code",
   "execution_count": 17,
   "metadata": {},
   "outputs": [
    {
     "output_type": "execute_result",
     "data": {
      "text/plain": [
       "     Prediction       Actual\n",
       "0   Nondemented    Converted\n",
       "1   Nondemented  Nondemented\n",
       "2   Nondemented    Converted\n",
       "3   Nondemented  Nondemented\n",
       "4   Nondemented  Nondemented\n",
       "5   Nondemented  Nondemented\n",
       "6      Demented  Nondemented\n",
       "7   Nondemented    Converted\n",
       "8      Demented     Demented\n",
       "9      Demented     Demented\n",
       "10     Demented     Demented\n",
       "11  Nondemented  Nondemented\n",
       "12     Demented     Demented\n",
       "13  Nondemented  Nondemented\n",
       "14  Nondemented  Nondemented\n",
       "15  Nondemented  Nondemented\n",
       "16     Demented     Demented\n",
       "17     Demented     Demented\n",
       "18  Nondemented    Converted\n",
       "19  Nondemented  Nondemented\n",
       "20  Nondemented  Nondemented\n",
       "21     Demented     Demented\n",
       "22  Nondemented  Nondemented\n",
       "23     Demented     Demented\n",
       "24  Nondemented  Nondemented\n",
       "25     Demented     Demented\n",
       "26     Demented     Demented\n",
       "27  Nondemented  Nondemented\n",
       "28  Nondemented  Nondemented\n",
       "29  Nondemented  Nondemented\n",
       "30     Demented     Demented\n",
       "31  Nondemented  Nondemented\n",
       "32  Nondemented  Nondemented\n",
       "33  Nondemented  Nondemented\n",
       "34     Demented     Demented\n",
       "35     Demented     Demented\n",
       "36     Demented     Demented\n",
       "37     Demented     Demented"
      ],
      "text/html": "<div>\n<style scoped>\n    .dataframe tbody tr th:only-of-type {\n        vertical-align: middle;\n    }\n\n    .dataframe tbody tr th {\n        vertical-align: top;\n    }\n\n    .dataframe thead th {\n        text-align: right;\n    }\n</style>\n<table border=\"1\" class=\"dataframe\">\n  <thead>\n    <tr style=\"text-align: right;\">\n      <th></th>\n      <th>Prediction</th>\n      <th>Actual</th>\n    </tr>\n  </thead>\n  <tbody>\n    <tr>\n      <th>0</th>\n      <td>Nondemented</td>\n      <td>Converted</td>\n    </tr>\n    <tr>\n      <th>1</th>\n      <td>Nondemented</td>\n      <td>Nondemented</td>\n    </tr>\n    <tr>\n      <th>2</th>\n      <td>Nondemented</td>\n      <td>Converted</td>\n    </tr>\n    <tr>\n      <th>3</th>\n      <td>Nondemented</td>\n      <td>Nondemented</td>\n    </tr>\n    <tr>\n      <th>4</th>\n      <td>Nondemented</td>\n      <td>Nondemented</td>\n    </tr>\n    <tr>\n      <th>5</th>\n      <td>Nondemented</td>\n      <td>Nondemented</td>\n    </tr>\n    <tr>\n      <th>6</th>\n      <td>Demented</td>\n      <td>Nondemented</td>\n    </tr>\n    <tr>\n      <th>7</th>\n      <td>Nondemented</td>\n      <td>Converted</td>\n    </tr>\n    <tr>\n      <th>8</th>\n      <td>Demented</td>\n      <td>Demented</td>\n    </tr>\n    <tr>\n      <th>9</th>\n      <td>Demented</td>\n      <td>Demented</td>\n    </tr>\n    <tr>\n      <th>10</th>\n      <td>Demented</td>\n      <td>Demented</td>\n    </tr>\n    <tr>\n      <th>11</th>\n      <td>Nondemented</td>\n      <td>Nondemented</td>\n    </tr>\n    <tr>\n      <th>12</th>\n      <td>Demented</td>\n      <td>Demented</td>\n    </tr>\n    <tr>\n      <th>13</th>\n      <td>Nondemented</td>\n      <td>Nondemented</td>\n    </tr>\n    <tr>\n      <th>14</th>\n      <td>Nondemented</td>\n      <td>Nondemented</td>\n    </tr>\n    <tr>\n      <th>15</th>\n      <td>Nondemented</td>\n      <td>Nondemented</td>\n    </tr>\n    <tr>\n      <th>16</th>\n      <td>Demented</td>\n      <td>Demented</td>\n    </tr>\n    <tr>\n      <th>17</th>\n      <td>Demented</td>\n      <td>Demented</td>\n    </tr>\n    <tr>\n      <th>18</th>\n      <td>Nondemented</td>\n      <td>Converted</td>\n    </tr>\n    <tr>\n      <th>19</th>\n      <td>Nondemented</td>\n      <td>Nondemented</td>\n    </tr>\n    <tr>\n      <th>20</th>\n      <td>Nondemented</td>\n      <td>Nondemented</td>\n    </tr>\n    <tr>\n      <th>21</th>\n      <td>Demented</td>\n      <td>Demented</td>\n    </tr>\n    <tr>\n      <th>22</th>\n      <td>Nondemented</td>\n      <td>Nondemented</td>\n    </tr>\n    <tr>\n      <th>23</th>\n      <td>Demented</td>\n      <td>Demented</td>\n    </tr>\n    <tr>\n      <th>24</th>\n      <td>Nondemented</td>\n      <td>Nondemented</td>\n    </tr>\n    <tr>\n      <th>25</th>\n      <td>Demented</td>\n      <td>Demented</td>\n    </tr>\n    <tr>\n      <th>26</th>\n      <td>Demented</td>\n      <td>Demented</td>\n    </tr>\n    <tr>\n      <th>27</th>\n      <td>Nondemented</td>\n      <td>Nondemented</td>\n    </tr>\n    <tr>\n      <th>28</th>\n      <td>Nondemented</td>\n      <td>Nondemented</td>\n    </tr>\n    <tr>\n      <th>29</th>\n      <td>Nondemented</td>\n      <td>Nondemented</td>\n    </tr>\n    <tr>\n      <th>30</th>\n      <td>Demented</td>\n      <td>Demented</td>\n    </tr>\n    <tr>\n      <th>31</th>\n      <td>Nondemented</td>\n      <td>Nondemented</td>\n    </tr>\n    <tr>\n      <th>32</th>\n      <td>Nondemented</td>\n      <td>Nondemented</td>\n    </tr>\n    <tr>\n      <th>33</th>\n      <td>Nondemented</td>\n      <td>Nondemented</td>\n    </tr>\n    <tr>\n      <th>34</th>\n      <td>Demented</td>\n      <td>Demented</td>\n    </tr>\n    <tr>\n      <th>35</th>\n      <td>Demented</td>\n      <td>Demented</td>\n    </tr>\n    <tr>\n      <th>36</th>\n      <td>Demented</td>\n      <td>Demented</td>\n    </tr>\n    <tr>\n      <th>37</th>\n      <td>Demented</td>\n      <td>Demented</td>\n    </tr>\n  </tbody>\n</table>\n</div>"
     },
     "metadata": {},
     "execution_count": 17
    }
   ],
   "source": [
    "pd.DataFrame({\"Prediction\": predictions, \"Actual\": y_test}).reset_index(drop=True)"
   ]
  },
  {
   "cell_type": "code",
   "execution_count": 18,
   "metadata": {},
   "outputs": [],
   "source": [
    "# SVM\n",
    "\n",
    "target = data_binary_encoded[\"Group\"]\n",
    "target_names = [\"Demented\", \"Nondemented\", \"Converted\"]"
   ]
  },
  {
   "cell_type": "code",
   "execution_count": 19,
   "metadata": {},
   "outputs": [
    {
     "output_type": "execute_result",
     "data": {
      "text/plain": [
       "   Age  EDUC       SES  MMSE  CDR  eTIV   nWBV    ASF  Female  Male\n",
       "0   87    14  2.000000  27.0  0.0  1987  0.696  0.883       0     1\n",
       "1   75    12  2.460452  23.0  0.5  1678  0.736  1.046       0     1\n",
       "2   88    18  3.000000  28.0  0.0  1215  0.710  1.444       1     0\n",
       "3   80    12  4.000000  28.0  0.0  1689  0.712  1.039       0     1\n",
       "4   71    16  2.460452  28.0  0.5  1357  0.748  1.293       0     1"
      ],
      "text/html": "<div>\n<style scoped>\n    .dataframe tbody tr th:only-of-type {\n        vertical-align: middle;\n    }\n\n    .dataframe tbody tr th {\n        vertical-align: top;\n    }\n\n    .dataframe thead th {\n        text-align: right;\n    }\n</style>\n<table border=\"1\" class=\"dataframe\">\n  <thead>\n    <tr style=\"text-align: right;\">\n      <th></th>\n      <th>Age</th>\n      <th>EDUC</th>\n      <th>SES</th>\n      <th>MMSE</th>\n      <th>CDR</th>\n      <th>eTIV</th>\n      <th>nWBV</th>\n      <th>ASF</th>\n      <th>Female</th>\n      <th>Male</th>\n    </tr>\n  </thead>\n  <tbody>\n    <tr>\n      <th>0</th>\n      <td>87</td>\n      <td>14</td>\n      <td>2.000000</td>\n      <td>27.0</td>\n      <td>0.0</td>\n      <td>1987</td>\n      <td>0.696</td>\n      <td>0.883</td>\n      <td>0</td>\n      <td>1</td>\n    </tr>\n    <tr>\n      <th>1</th>\n      <td>75</td>\n      <td>12</td>\n      <td>2.460452</td>\n      <td>23.0</td>\n      <td>0.5</td>\n      <td>1678</td>\n      <td>0.736</td>\n      <td>1.046</td>\n      <td>0</td>\n      <td>1</td>\n    </tr>\n    <tr>\n      <th>2</th>\n      <td>88</td>\n      <td>18</td>\n      <td>3.000000</td>\n      <td>28.0</td>\n      <td>0.0</td>\n      <td>1215</td>\n      <td>0.710</td>\n      <td>1.444</td>\n      <td>1</td>\n      <td>0</td>\n    </tr>\n    <tr>\n      <th>3</th>\n      <td>80</td>\n      <td>12</td>\n      <td>4.000000</td>\n      <td>28.0</td>\n      <td>0.0</td>\n      <td>1689</td>\n      <td>0.712</td>\n      <td>1.039</td>\n      <td>0</td>\n      <td>1</td>\n    </tr>\n    <tr>\n      <th>4</th>\n      <td>71</td>\n      <td>16</td>\n      <td>2.460452</td>\n      <td>28.0</td>\n      <td>0.5</td>\n      <td>1357</td>\n      <td>0.748</td>\n      <td>1.293</td>\n      <td>0</td>\n      <td>1</td>\n    </tr>\n  </tbody>\n</table>\n</div>"
     },
     "metadata": {},
     "execution_count": 19
    }
   ],
   "source": [
    "data = data_binary_encoded.drop(\"Group\", axis=1).reset_index(drop=True)\n",
    "feature_names = data.columns\n",
    "data.head()"
   ]
  },
  {
   "cell_type": "code",
   "execution_count": 20,
   "metadata": {},
   "outputs": [],
   "source": [
    "X_train, X_test, y_train, y_test = train_test_split(data, target)"
   ]
  },
  {
   "cell_type": "code",
   "execution_count": 21,
   "metadata": {},
   "outputs": [
    {
     "output_type": "execute_result",
     "data": {
      "text/plain": [
       "SVC(kernel='linear')"
      ]
     },
     "metadata": {},
     "execution_count": 21
    }
   ],
   "source": [
    "# Support vector machine linear classifier\n",
    "\n",
    "from sklearn.svm import SVC \n",
    "model = SVC(kernel='linear')\n",
    "model.fit(X_train, y_train)"
   ]
  },
  {
   "cell_type": "code",
   "execution_count": 22,
   "metadata": {},
   "outputs": [
    {
     "output_type": "stream",
     "name": "stdout",
     "text": [
      "Test Accuracy: 0.842\n"
     ]
    }
   ],
   "source": [
    "# Model Accuracy\n",
    "\n",
    "print('Test Accuracy: %.3f' % model.score(X_test, y_test))"
   ]
  },
  {
   "cell_type": "code",
   "execution_count": 23,
   "metadata": {},
   "outputs": [
    {
     "output_type": "stream",
     "name": "stdout",
     "text": [
      "              precision    recall  f1-score   support\n",
      "\n",
      "    Demented       0.00      0.00      0.00         6\n",
      " Nondemented       1.00      1.00      1.00        15\n",
      "   Converted       0.74      1.00      0.85        17\n",
      "\n",
      "    accuracy                           0.84        38\n",
      "   macro avg       0.58      0.67      0.62        38\n",
      "weighted avg       0.73      0.84      0.78        38\n",
      "\n",
      "C:\\anaconda\\lib\\site-packages\\sklearn\\metrics\\_classification.py:1245: UndefinedMetricWarning: Precision and F-score are ill-defined and being set to 0.0 in labels with no predicted samples. Use `zero_division` parameter to control this behavior.\n",
      "  _warn_prf(average, modifier, msg_start, len(result))\n",
      "C:\\anaconda\\lib\\site-packages\\sklearn\\metrics\\_classification.py:1245: UndefinedMetricWarning: Precision and F-score are ill-defined and being set to 0.0 in labels with no predicted samples. Use `zero_division` parameter to control this behavior.\n",
      "  _warn_prf(average, modifier, msg_start, len(result))\n",
      "C:\\anaconda\\lib\\site-packages\\sklearn\\metrics\\_classification.py:1245: UndefinedMetricWarning: Precision and F-score are ill-defined and being set to 0.0 in labels with no predicted samples. Use `zero_division` parameter to control this behavior.\n",
      "  _warn_prf(average, modifier, msg_start, len(result))\n"
     ]
    }
   ],
   "source": [
    "# Calculate classification report\n",
    "\n",
    "from sklearn.metrics import classification_report\n",
    "predictions = model.predict(X_test)\n",
    "print(classification_report(y_test, predictions,\n",
    "                            target_names=target_names))"
   ]
  },
  {
   "cell_type": "code",
   "execution_count": 24,
   "metadata": {},
   "outputs": [],
   "source": [
    "from sklearn import tree"
   ]
  },
  {
   "cell_type": "code",
   "execution_count": 25,
   "metadata": {},
   "outputs": [
    {
     "output_type": "execute_result",
     "data": {
      "text/plain": [
       "0.7894736842105263"
      ]
     },
     "metadata": {},
     "execution_count": 25
    }
   ],
   "source": [
    "clf = tree.DecisionTreeClassifier()\n",
    "clf = clf.fit(X_train, y_train)\n",
    "clf.score(X_test, y_test)"
   ]
  },
  {
   "cell_type": "code",
   "execution_count": 26,
   "metadata": {},
   "outputs": [
    {
     "output_type": "stream",
     "name": "stdout",
     "text": [
      "0.8421052631578947\n1.0\n"
     ]
    }
   ],
   "source": [
    "from sklearn.ensemble import RandomForestClassifier\n",
    "rf = RandomForestClassifier(n_estimators=200)\n",
    "rf = rf.fit(X_train, y_train)\n",
    "print(rf.score(X_test, y_test))\n",
    "print(rf.score(X_train, y_train))"
   ]
  },
  {
   "cell_type": "code",
   "execution_count": 27,
   "metadata": {},
   "outputs": [
    {
     "output_type": "execute_result",
     "data": {
      "text/plain": [
       "[(0.41763733675906545, 'CDR'),\n",
       " (0.23150079494223108, 'MMSE'),\n",
       " (0.06419045895030233, 'Age'),\n",
       " (0.05658893298623804, 'ASF'),\n",
       " (0.054500469014184795, 'eTIV'),\n",
       " (0.05285584735701053, 'nWBV'),\n",
       " (0.04796105518884297, 'EDUC'),\n",
       " (0.039308245982577754, 'SES'),\n",
       " (0.019160700077396533, 'Male'),\n",
       " (0.016296158742150416, 'Female')]"
      ]
     },
     "metadata": {},
     "execution_count": 27
    }
   ],
   "source": [
    "sorted(zip(rf.feature_importances_, feature_names), reverse=True)"
   ]
  },
  {
   "cell_type": "code",
   "execution_count": 36,
   "metadata": {},
   "outputs": [],
   "source": [
    "# OVERSAMPLING\n",
    "\n",
    "from sklearn.datasets import make_classification\n",
    "from imblearn.over_sampling import RandomOverSampler\n",
    "from collections import Counter"
   ]
  },
  {
   "cell_type": "code",
   "execution_count": 40,
   "metadata": {},
   "outputs": [],
   "source": [
    "# define dataset\n",
    "\n",
    "X, y = make_classification(n_samples=10000, weights=[0.99], flip_y=0)"
   ]
  },
  {
   "cell_type": "code",
   "execution_count": 41,
   "metadata": {},
   "outputs": [
    {
     "output_type": "stream",
     "name": "stdout",
     "text": [
      "Counter({0: 9900, 1: 100})\n"
     ]
    }
   ],
   "source": [
    "# summarize class distribution\n",
    "print(Counter(y))"
   ]
  },
  {
   "cell_type": "code",
   "execution_count": 42,
   "metadata": {},
   "outputs": [],
   "source": [
    "# define oversampling strategy\n",
    "oversample = RandomOverSampler(sampling_strategy='minority')"
   ]
  },
  {
   "cell_type": "code",
   "execution_count": 43,
   "metadata": {},
   "outputs": [],
   "source": [
    "# fit and apply the transform\n",
    "X_over, y_over = oversample.fit_resample(X, y)"
   ]
  },
  {
   "cell_type": "code",
   "execution_count": 44,
   "metadata": {},
   "outputs": [
    {
     "output_type": "stream",
     "name": "stdout",
     "text": [
      "Counter({0: 9900, 1: 9900})\n"
     ]
    }
   ],
   "source": [
    "# summarize class distribution\n",
    "print(Counter(y_over))"
   ]
  },
  {
   "cell_type": "code",
   "execution_count": 46,
   "metadata": {},
   "outputs": [
    {
     "output_type": "execute_result",
     "data": {
      "text/plain": [
       "array([[ 0.59192693,  0.90304657, -0.93280393, ...,  1.54339586,\n",
       "        -1.10092892, -0.78278095],\n",
       "       [-1.05257578,  0.25424359,  0.42103285, ..., -0.20403662,\n",
       "         0.38086409,  1.3098947 ],\n",
       "       [-0.36018222,  0.41350543, -0.66290608, ...,  0.00667924,\n",
       "        -1.87323897, -0.25365958],\n",
       "       ...,\n",
       "       [ 1.68135261,  1.04092934, -0.43372557, ..., -0.63744163,\n",
       "         2.98744008, -1.36595808],\n",
       "       [-0.76338554,  0.41384046,  1.17722478, ..., -0.04091678,\n",
       "        -0.90433732,  0.86346039],\n",
       "       [ 0.5206528 , -0.2836588 , -1.67833644, ..., -0.24421248,\n",
       "         1.50384186, -0.73955154]])"
      ]
     },
     "metadata": {},
     "execution_count": 46
    }
   ],
   "source": [
    "# PCA\n",
    "\n",
    "# standardize data\n",
    "from sklearn.preprocessing import StandardScaler \n",
    "X_std = StandardScaler().fit_transform(X)\n",
    "X_std"
   ]
  },
  {
   "cell_type": "code",
   "execution_count": 51,
   "metadata": {},
   "outputs": [
    {
     "output_type": "stream",
     "name": "stdout",
     "text": [
      "Eigenvectors \n[[ 5.72206409e-01 -8.01912204e-01  1.58254925e-01  4.04226032e-03\n  -3.97764866e-03  4.26241713e-02 -1.54985494e-02 -1.97931335e-02\n  -2.38387857e-02 -2.62513350e-02  1.19444226e-02 -4.33170458e-02\n  -1.62992113e-02 -4.00215731e-03 -6.70363631e-03 -8.47971430e-03\n  -2.41553983e-02  1.77463509e-02 -3.37439068e-02 -4.73945295e-03]\n [-8.65595165e-03  1.95166834e-16  2.22248990e-17 -1.50922614e-01\n   2.97097333e-01 -8.91752193e-02 -2.16879334e-01  2.03680105e-01\n  -1.60902690e-01 -1.68779452e-02 -2.74786357e-01 -2.44715257e-01\n  -2.25501770e-01  1.08672345e-02  2.49454975e-01 -3.74180949e-01\n   2.75191696e-01 -8.68589119e-02 -1.52410504e-01  5.20697907e-01]\n [ 4.58143044e-03  2.27307819e-17  1.01152355e-16 -9.44640956e-02\n   2.14109380e-01 -5.47128328e-02  3.46353209e-01 -2.56703391e-01\n   1.73033652e-01 -3.12150426e-01 -3.12724650e-01 -6.77038643e-02\n  -2.85439587e-02 -1.66859167e-01  2.23624955e-01  5.65194769e-01\n   2.39848768e-01  1.83709827e-01 -1.78055861e-01  7.42454531e-02]\n [-1.36721950e-04  2.37453540e-17  1.08291048e-16 -3.26556261e-01\n   4.28972421e-01  8.32992366e-02  1.00334379e-01 -2.74666687e-02\n   7.68774842e-02 -2.96834902e-01  3.74308272e-01 -2.69579534e-01\n   9.57620337e-02  2.99891399e-02 -1.00095527e-01  3.31194492e-02\n  -1.02869651e-01 -2.31053554e-01  5.38467765e-01  9.83940917e-02]\n [ 4.20980807e-03 -1.08926969e-17 -4.35918055e-17  5.90478444e-02\n   1.47538291e-01  2.25919496e-01 -3.04848722e-01  2.70099527e-01\n   3.48949639e-01  1.65248778e-02  1.87229763e-01  1.17746749e-01\n   2.31547567e-01  2.82464615e-01 -1.67633953e-01  1.70503929e-01\n   1.64547314e-01  5.33558648e-01 -4.85564118e-02  2.86621916e-01]\n [ 2.87150928e-03 -2.53840794e-18 -3.34001984e-18 -2.09580495e-01\n   2.37705853e-01 -2.82922956e-01 -2.52085344e-01  3.98343524e-01\n   8.60782541e-02 -1.93434887e-02 -2.35508423e-01 -1.88697610e-01\n   1.62759857e-01  1.08712890e-01  2.14377657e-01  1.24766307e-01\n  -4.22811650e-01  5.62638732e-02 -1.37307249e-01 -4.44766009e-01]\n [ 2.61601138e-01  2.49425194e-02 -3.40495135e-01 -3.47535902e-02\n   7.33758184e-02 -3.80112186e-01  1.49146424e-01  2.11916755e-01\n   1.32682439e-01  3.29698735e-01 -9.46428026e-02  4.07266825e-01\n   1.77501418e-01  8.58913874e-02  9.17161062e-02  1.21445386e-01\n   2.69888487e-01 -2.63777336e-01  2.92372266e-01  7.70371338e-02]\n [-8.57434651e-03  2.74634724e-17  9.97065898e-17  3.04068202e-01\n   3.58713078e-01 -1.55275179e-01 -8.99836291e-02  1.35767787e-01\n  -3.12911258e-01  2.33418515e-01  4.67959466e-01 -8.89655791e-02\n  -2.41403700e-01 -3.37252146e-01  9.43301869e-02  2.10820115e-01\n   2.29429410e-01  1.52833345e-01 -3.51454515e-02 -2.15095015e-01]\n [-1.40675620e-03 -2.24528888e-17 -1.00025810e-16  3.58015151e-01\n   4.06847699e-01  4.31179645e-01  1.40666537e-01  1.80377748e-01\n   6.09288504e-02  8.57175204e-02 -3.79838204e-01  2.15304941e-01\n  -3.60353215e-01  1.77114955e-02 -1.58707574e-01  3.93924157e-02\n  -2.68969187e-01 -1.06706274e-01  1.58347761e-01 -2.55592248e-02]\n [ 4.46975294e-03 -5.93885423e-17 -3.14771036e-16 -1.72769706e-01\n   5.58948192e-02 -2.73539385e-01 -2.78049591e-02 -2.91660269e-01\n   3.84982623e-01  2.78776282e-01  8.63894077e-02 -1.57482598e-01\n  -5.79186950e-01  3.72395164e-01 -2.33104852e-01  1.62771776e-02\n   2.65200219e-02  8.86579606e-03 -9.15679418e-02 -1.01227270e-01]\n [-5.73490137e-01 -5.18230181e-01 -6.23574165e-01  1.62541159e-03\n  -7.67571279e-03  1.92561424e-02 -8.69753567e-03 -1.44332136e-02\n   1.62352205e-03 -2.66858823e-02  3.55437027e-03 -2.28223994e-02\n  -1.23495757e-02 -9.59399286e-03 -7.98139187e-03 -1.09381360e-02\n  -1.93616177e-02  2.43827903e-02 -1.39186128e-02 -7.53406902e-03]\n [ 1.31452458e-02 -3.55139626e-17 -9.20396665e-17  9.12363137e-02\n  -3.39812005e-01 -8.57619852e-03 -3.06620831e-01  1.67048788e-01\n   9.35217488e-02 -3.47527352e-01 -1.87018075e-01 -6.43196167e-02\n  -3.25327330e-01 -2.85922860e-02  1.12247427e-01  2.68569145e-02\n   3.25072508e-01  1.25602685e-01  5.27431372e-01 -2.56501877e-01]\n [ 5.79096992e-04  1.38044591e-17  7.21738872e-17 -3.32588823e-02\n  -2.63772378e-01  4.81547391e-02  5.03705199e-01  3.71838084e-01\n   2.05495505e-02  3.52517424e-01 -8.99711881e-02 -5.35666734e-01\n   1.47330430e-02 -7.96639990e-02 -9.69588868e-02  1.35879437e-02\n  -1.60100358e-02  2.51218143e-01  1.63796800e-01  9.45856880e-02]\n [-9.37557858e-03 -1.60902597e-17 -1.36021528e-16  3.68636977e-01\n   4.56047194e-02  2.98226005e-01 -2.74538466e-02 -1.61376025e-01\n   3.09372713e-01  1.77552664e-01  5.56750465e-02 -3.42312022e-01\n   2.42116436e-01  2.36602875e-01  4.50801385e-01 -6.87214632e-02\n   2.18695703e-01 -3.01371044e-01 -3.95004030e-02 -1.89558251e-01]\n [ 1.38636781e-02 -1.01335060e-17 -3.90058216e-17  1.73821393e-01\n   1.69480024e-01 -1.94309293e-01 -4.54384791e-03  2.41531463e-02\n   4.00481147e-01 -1.38761926e-01 -1.31932627e-01 -1.12549312e-01\n   2.12967283e-01 -4.44705486e-01 -4.80543486e-01 -3.45112041e-01\n   2.16451130e-01 -6.78546123e-02 -1.32794689e-01 -1.74827254e-01]\n [ 7.15927401e-03 -5.87468321e-18 -8.11118501e-18 -3.08930707e-01\n   2.20643545e-01  1.64476730e-01 -2.65471027e-02 -3.77573582e-01\n  -4.22091400e-02  3.37550532e-01 -1.83923858e-01  1.31486861e-01\n   1.20791972e-01 -1.61175256e-01  1.77339158e-01 -3.29818259e-01\n   5.77724273e-02  4.56084212e-01  2.72221251e-01 -2.28947125e-01]\n [-9.16848848e-03  7.45228285e-18 -4.91502213e-18  1.39940408e-02\n  -4.69044372e-02  3.00313946e-02 -4.84122113e-01 -2.52793692e-01\n  -1.66481139e-01  3.17621301e-01 -2.86604851e-01 -2.69414445e-01\n   1.75889294e-01 -1.51802711e-01 -3.00572511e-01  4.23893682e-01\n  -2.88994217e-02 -1.86128178e-01  1.59950580e-01  1.73030986e-01]\n [ 4.92214418e-03 -6.56007589e-18 -4.97698882e-17 -2.86440608e-01\n  -1.81976438e-01  2.35770700e-01 -1.60276578e-01  1.35915807e-01\n   4.51969744e-01  1.72334945e-01  1.84027642e-01  1.26695586e-01\n  -2.03316955e-01 -5.45173527e-01  2.62080927e-01  8.64710683e-02\n  -1.73643447e-01 -1.70419997e-01 -8.47109312e-02  1.41711353e-01]\n [ 1.28885753e-02  2.02891515e-17  1.53790639e-16  4.57211038e-01\n  -6.73416274e-03 -4.17239130e-01 -3.31506673e-02 -2.27175204e-01\n   1.91631281e-01 -4.84669835e-02  2.55699022e-02 -5.04102174e-02\n   1.19203191e-02 -1.04697554e-01  2.41931675e-01 -1.00970101e-01\n  -4.48350085e-01  2.31077047e-01  2.48274602e-01  3.54682559e-01]\n [-5.23695961e-01 -2.96229923e-01  6.85692134e-01 -1.67124147e-02\n   3.03740038e-02 -1.81078644e-01  6.97292453e-02  9.66742984e-02\n   7.28646490e-02  1.45509313e-01 -4.65212629e-02  1.91479591e-01\n   8.06731190e-02  3.48500345e-02  3.98324266e-02  5.23161615e-02\n   1.21986266e-01 -1.12906165e-01  1.40313971e-01  3.24967418e-02]]\n\nEigenvalues \n[ 3.03010119e+00 -7.02479967e-16  2.88048902e-16  1.07310952e+00\n  1.06461753e+00  9.23817946e-01  1.04133348e+00  1.03429501e+00\n  1.03388607e+00  9.45674384e-01  9.52316271e-01  9.61499933e-01\n  1.01487295e+00  9.70452327e-01  1.00739620e+00  1.00086547e+00\n  9.94886881e-01  9.90342184e-01  9.83273882e-01  9.79258982e-01]\n"
     ]
    }
   ],
   "source": [
    "cov_mat = np.cov(X_std.T) \n",
    "eig_vals, eig_vecs = np.linalg.eig(cov_mat) \n",
    "print('Eigenvectors \\n%s' %eig_vecs) \n",
    "print('\\nEigenvalues \\n%s' %eig_vals)"
   ]
  },
  {
   "cell_type": "code",
   "execution_count": 54,
   "metadata": {},
   "outputs": [
    {
     "output_type": "stream",
     "name": "stdout",
     "text": [
      "<class 'list'>\n"
     ]
    }
   ],
   "source": [
    "#Make a list of (eigenvalue, eigenvector) tuples \n",
    "eig_pairs = [(np.abs(eig_vals[i]), eig_vecs[:,i]) \n",
    "for i in range(len(eig_vals))] \n",
    "print(type(eig_pairs)) "
   ]
  },
  {
   "cell_type": "code",
   "execution_count": 55,
   "metadata": {},
   "outputs": [
    {
     "output_type": "stream",
     "name": "stdout",
     "text": [
      "\n [(0.9792589824651896, array([-0.00473945,  0.52069791,  0.07424545,  0.09839409,  0.28662192,\n       -0.44476601,  0.07703713, -0.21509501, -0.02555922, -0.10122727,\n       -0.00753407, -0.25650188,  0.09458569, -0.18955825, -0.17482725,\n       -0.22894712,  0.17303099,  0.14171135,  0.35468256,  0.03249674])), (0.9832738817425837, array([-0.03374391, -0.1524105 , -0.17805586,  0.53846777, -0.04855641,\n       -0.13730725,  0.29237227, -0.03514545,  0.15834776, -0.09156794,\n       -0.01391861,  0.52743137,  0.1637968 , -0.0395004 , -0.13279469,\n        0.27222125,  0.15995058, -0.08471093,  0.2482746 ,  0.14031397])), (0.9903421840702893, array([ 0.01774635, -0.08685891,  0.18370983, -0.23105355,  0.53355865,\n        0.05626387, -0.26377734,  0.15283334, -0.10670627,  0.0088658 ,\n        0.02438279,  0.12560268,  0.25121814, -0.30137104, -0.06785461,\n        0.45608421, -0.18612818, -0.17042   ,  0.23107705, -0.11290616])), (0.9948868807672762, array([-0.0241554 ,  0.2751917 ,  0.23984877, -0.10286965,  0.16454731,\n       -0.42281165,  0.26988849,  0.22942941, -0.26896919,  0.02652002,\n       -0.01936162,  0.32507251, -0.01601004,  0.2186957 ,  0.21645113,\n        0.05777243, -0.02889942, -0.17364345, -0.44835008,  0.12198627])), (1.0008654717123715, array([-0.00847971, -0.37418095,  0.56519477,  0.03311945,  0.17050393,\n        0.12476631,  0.12144539,  0.21082011,  0.03939242,  0.01627718,\n       -0.01093814,  0.02685691,  0.01358794, -0.06872146, -0.34511204,\n       -0.32981826,  0.42389368,  0.08647107, -0.1009701 ,  0.05231616])), (1.0073961953777837, array([-0.00670364,  0.24945497,  0.22362495, -0.10009553, -0.16763395,\n        0.21437766,  0.09171611,  0.09433019, -0.15870757, -0.23310485,\n       -0.00798139,  0.11224743, -0.09695889,  0.45080139, -0.48054349,\n        0.17733916, -0.30057251,  0.26208093,  0.24193168,  0.03983243])), (0.9704523267423973, array([-0.00400216,  0.01086723, -0.16685917,  0.02998914,  0.28246461,\n        0.10871289,  0.08589139, -0.33725215,  0.0177115 ,  0.37239516,\n       -0.00959399, -0.02859229, -0.079664  ,  0.23660288, -0.44470549,\n       -0.16117526, -0.15180271, -0.54517353, -0.10469755,  0.03485003])), (1.0148729468892257, array([-0.01629921, -0.22550177, -0.02854396,  0.09576203,  0.23154757,\n        0.16275986,  0.17750142, -0.2414037 , -0.36035321, -0.57918695,\n       -0.01234958, -0.32532733,  0.01473304,  0.24211644,  0.21296728,\n        0.12079197,  0.17588929, -0.20331696,  0.01192032,  0.08067312])), (0.9614999333040658, array([-0.04331705, -0.24471526, -0.06770386, -0.26957953,  0.11774675,\n       -0.18869761,  0.40726682, -0.08896558,  0.21530494, -0.1574826 ,\n       -0.0228224 , -0.06431962, -0.53566673, -0.34231202, -0.11254931,\n        0.13148686, -0.26941444,  0.12669559, -0.05041022,  0.19147959])), (0.9523162712306945, array([ 0.01194442, -0.27478636, -0.31272465,  0.37430827,  0.18722976,\n       -0.23550842, -0.0946428 ,  0.46795947, -0.3798382 ,  0.08638941,\n        0.00355437, -0.18701808, -0.08997119,  0.05567505, -0.13193263,\n       -0.18392386, -0.28660485,  0.18402764,  0.0255699 , -0.04652126])), (0.9456743836229672, array([-0.02625134, -0.01687795, -0.31215043, -0.2968349 ,  0.01652488,\n       -0.01934349,  0.32969873,  0.23341852,  0.08571752,  0.27877628,\n       -0.02668588, -0.34752735,  0.35251742,  0.17755266, -0.13876193,\n        0.33755053,  0.3176213 ,  0.17233494, -0.04846698,  0.14550931])), (1.0338860676484083, array([-0.02383879, -0.16090269,  0.17303365,  0.07687748,  0.34894964,\n        0.08607825,  0.13268244, -0.31291126,  0.06092885,  0.38498262,\n        0.00162352,  0.09352175,  0.02054955,  0.30937271,  0.40048115,\n       -0.04220914, -0.16648114,  0.45196974,  0.19163128,  0.07286465])), (1.0342950074758055, array([-0.01979313,  0.2036801 , -0.25670339, -0.02746667,  0.27009953,\n        0.39834352,  0.21191676,  0.13576779,  0.18037775, -0.29166027,\n       -0.01443321,  0.16704879,  0.37183808, -0.16137603,  0.02415315,\n       -0.37757358, -0.25279369,  0.13591581, -0.2271752 ,  0.0966743 ])), (1.0413334834032253, array([-0.01549855, -0.21687933,  0.34635321,  0.10033438, -0.30484872,\n       -0.25208534,  0.14914642, -0.08998363,  0.14066654, -0.02780496,\n       -0.00869754, -0.30662083,  0.5037052 , -0.02745385, -0.00454385,\n       -0.0265471 , -0.48412211, -0.16027658, -0.03315067,  0.06972925])), (0.9238179460898985, array([ 0.04262417, -0.08917522, -0.05471283,  0.08329924,  0.2259195 ,\n       -0.28292296, -0.38011219, -0.15527518,  0.43117964, -0.27353939,\n        0.01925614, -0.0085762 ,  0.04815474,  0.298226  , -0.19430929,\n        0.16447673,  0.03003139,  0.2357707 , -0.41723913, -0.18107864])), (1.0646175301770504, array([-0.00397765,  0.29709733,  0.21410938,  0.42897242,  0.14753829,\n        0.23770585,  0.07337582,  0.35871308,  0.4068477 ,  0.05589482,\n       -0.00767571, -0.33981201, -0.26377238,  0.04560472,  0.16948002,\n        0.22064354, -0.04690444, -0.18197644, -0.00673416,  0.030374  ])), (1.073109521062845, array([ 0.00404226, -0.15092261, -0.0944641 , -0.32655626,  0.05904784,\n       -0.2095805 , -0.03475359,  0.3040682 ,  0.35801515, -0.17276971,\n        0.00162541,  0.09123631, -0.03325888,  0.36863698,  0.17382139,\n       -0.30893071,  0.01399404, -0.28644061,  0.45721104, -0.01671241])), (2.8804890188058505e-16, array([ 1.58254925e-01,  2.22248990e-17,  1.01152355e-16,  1.08291048e-16,\n       -4.35918055e-17, -3.34001984e-18, -3.40495135e-01,  9.97065898e-17,\n       -1.00025810e-16, -3.14771036e-16, -6.23574165e-01, -9.20396665e-17,\n        7.21738872e-17, -1.36021528e-16, -3.90058216e-17, -8.11118501e-18,\n       -4.91502213e-18, -4.97698882e-17,  1.53790639e-16,  6.85692134e-01])), (7.024799669372445e-16, array([-8.01912204e-01,  1.95166834e-16,  2.27307819e-17,  2.37453540e-17,\n       -1.08926969e-17, -2.53840794e-18,  2.49425194e-02,  2.74634724e-17,\n       -2.24528888e-17, -5.93885423e-17, -5.18230181e-01, -3.55139626e-17,\n        1.38044591e-17, -1.60902597e-17, -1.01335060e-17, -5.87468321e-18,\n        7.45228285e-18, -6.56007589e-18,  2.02891515e-17, -2.96229923e-01])), (3.030101186237924, array([ 5.72206409e-01, -8.65595165e-03,  4.58143044e-03, -1.36721950e-04,\n        4.20980807e-03,  2.87150928e-03,  2.61601138e-01, -8.57434651e-03,\n       -1.40675620e-03,  4.46975294e-03, -5.73490137e-01,  1.31452458e-02,\n        5.79096992e-04, -9.37557858e-03,  1.38636781e-02,  7.15927401e-03,\n       -9.16848848e-03,  4.92214418e-03,  1.28885753e-02, -5.23695961e-01]))]\n"
     ]
    }
   ],
   "source": [
    "#Sort the (eigenvalue, eigenvector) tuples from high to low eig_pairs.sort() \n",
    "eig_pairs.reverse() \n",
    "print(\"\\n\",eig_pairs) "
   ]
  },
  {
   "cell_type": "code",
   "execution_count": 56,
   "metadata": {},
   "outputs": [
    {
     "output_type": "stream",
     "name": "stdout",
     "text": [
      "\n\n\nEigenvalues in descending order:\n0.9792589824651896\n0.9832738817425837\n0.9903421840702893\n0.9948868807672762\n1.0008654717123715\n1.0073961953777837\n0.9704523267423973\n1.0148729468892257\n0.9614999333040658\n0.9523162712306945\n0.9456743836229672\n1.0338860676484083\n1.0342950074758055\n1.0413334834032253\n0.9238179460898985\n1.0646175301770504\n1.073109521062845\n2.8804890188058505e-16\n7.024799669372445e-16\n3.030101186237924\n"
     ]
    }
   ],
   "source": [
    "#Visually confirm that the list is correctly sorted by decreasing eigenvalues \n",
    "print('\\n\\n\\nEigenvalues in descending order:') \n",
    "for i in eig_pairs: \n",
    "    print(i[0])"
   ]
  },
  {
   "cell_type": "code",
   "execution_count": 57,
   "metadata": {},
   "outputs": [
    {
     "output_type": "stream",
     "name": "stdout",
     "text": [
      "\n 20.002000200019996\n"
     ]
    }
   ],
   "source": [
    "tot = sum(eig_vals) \n",
    "print(\"\\n\",tot) "
   ]
  },
  {
   "cell_type": "code",
   "execution_count": 58,
   "metadata": {},
   "outputs": [
    {
     "output_type": "stream",
     "name": "stdout",
     "text": [
      "\n\n1. Variance Explained\n [15.148990880596505, 5.365011050553695, 5.3225553421201655, 5.206146750274426, 5.170957889875291, 5.168913395208219, 5.073857297972685, 5.0364772787912315, 5.003826925826003, 4.973936960395998, 4.951215749259412, 4.915877771772049, 4.895805282834717, 4.851776407548617, 4.8070189165536785, 4.761105198017859, 4.7278990809230255, 4.618627821476449, 1.4401004849519854e-15, -3.512048594702755e-15]\n"
     ]
    }
   ],
   "source": [
    "var_exp = [(i / tot)*100 for i in sorted(eig_vals, reverse=True)] \n",
    "print(\"\\n\\n1. Variance Explained\\n\",var_exp) "
   ]
  },
  {
   "cell_type": "code",
   "execution_count": 59,
   "metadata": {},
   "outputs": [
    {
     "output_type": "stream",
     "name": "stdout",
     "text": [
      "\n\n2. Cumulative Variance Explained\n [ 15.14899088  20.51400193  25.83655727  31.04270402  36.21366191\n  41.38257531  46.45643261  51.49290989  56.49673681  61.47067377\n  66.42188952  71.33776729  76.23357258  81.08534898  85.8923679\n  90.6534731   95.38137218 100.         100.         100.        ]\n\n\n3. Percentage of variance the first two principal components each contain\n  [15.148990880596505, 5.365011050553695]\n\n\n4. Percentage of variance the first two principal components together contain\n 20.5140019311502\n"
     ]
    }
   ],
   "source": [
    "cum_var_exp = np.cumsum(var_exp) \n",
    "print(\"\\n\\n2. Cumulative Variance Explained\\n\",cum_var_exp) \n",
    "print(\"\\n\\n3. Percentage of variance the first two principal components each contain\\n \",var_exp[0:2]) \n",
    "print(\"\\n\\n4. Percentage of variance the first two principal components together contain\\n\",sum(var_exp[0:2]))"
   ]
  },
  {
   "cell_type": "code",
   "execution_count": 63,
   "metadata": {},
   "outputs": [
    {
     "output_type": "stream",
     "name": "stdout",
     "text": [
      "[-0.00473945  0.52069791  0.07424545  0.09839409  0.28662192 -0.44476601\n  0.07703713 -0.21509501 -0.02555922 -0.10122727 -0.00753407 -0.25650188\n  0.09458569 -0.18955825 -0.17482725 -0.22894712  0.17303099  0.14171135\n  0.35468256  0.03249674]\n[-0.03374391 -0.1524105  -0.17805586  0.53846777 -0.04855641 -0.13730725\n  0.29237227 -0.03514545  0.15834776 -0.09156794 -0.01391861  0.52743137\n  0.1637968  -0.0395004  -0.13279469  0.27222125  0.15995058 -0.08471093\n  0.2482746   0.14031397]\n"
     ]
    }
   ],
   "source": [
    "print(eig_pairs[0][1]) \n",
    "print(eig_pairs[1][1]) \n",
    "matrix_w = np.hstack((eig_pairs[0][1].reshape(20,1), eig_pairs[1][1].reshape(20,1))) \n",
    "#hstack: Stacks arrays in sequence horizontally (column wise). print('Matrix W:\\n', matrix_w)"
   ]
  },
  {
   "cell_type": "code",
   "execution_count": 64,
   "metadata": {},
   "outputs": [
    {
     "output_type": "stream",
     "name": "stdout",
     "text": [
      "Matrix W:\n [[-0.00473945 -0.03374391]\n [ 0.52069791 -0.1524105 ]\n [ 0.07424545 -0.17805586]\n [ 0.09839409  0.53846777]\n [ 0.28662192 -0.04855641]\n [-0.44476601 -0.13730725]\n [ 0.07703713  0.29237227]\n [-0.21509501 -0.03514545]\n [-0.02555922  0.15834776]\n [-0.10122727 -0.09156794]\n [-0.00753407 -0.01391861]\n [-0.25650188  0.52743137]\n [ 0.09458569  0.1637968 ]\n [-0.18955825 -0.0395004 ]\n [-0.17482725 -0.13279469]\n [-0.22894712  0.27222125]\n [ 0.17303099  0.15995058]\n [ 0.14171135 -0.08471093]\n [ 0.35468256  0.2482746 ]\n [ 0.03249674  0.14031397]]\n"
     ]
    }
   ],
   "source": [
    "print('Matrix W:\\n', matrix_w)"
   ]
  },
  {
   "cell_type": "code",
   "execution_count": 65,
   "metadata": {},
   "outputs": [
    {
     "output_type": "execute_result",
     "data": {
      "text/plain": [
       "   principal component 1  principal component 2\n",
       "0              -0.456682              -1.168668\n",
       "1               1.175870               0.262180\n",
       "2              -0.017453              -0.584101\n",
       "3               0.891889              -1.878507\n",
       "4               0.681435               0.548744"
      ],
      "text/html": "<div>\n<style scoped>\n    .dataframe tbody tr th:only-of-type {\n        vertical-align: middle;\n    }\n\n    .dataframe tbody tr th {\n        vertical-align: top;\n    }\n\n    .dataframe thead th {\n        text-align: right;\n    }\n</style>\n<table border=\"1\" class=\"dataframe\">\n  <thead>\n    <tr style=\"text-align: right;\">\n      <th></th>\n      <th>principal component 1</th>\n      <th>principal component 2</th>\n    </tr>\n  </thead>\n  <tbody>\n    <tr>\n      <th>0</th>\n      <td>-0.456682</td>\n      <td>-1.168668</td>\n    </tr>\n    <tr>\n      <th>1</th>\n      <td>1.175870</td>\n      <td>0.262180</td>\n    </tr>\n    <tr>\n      <th>2</th>\n      <td>-0.017453</td>\n      <td>-0.584101</td>\n    </tr>\n    <tr>\n      <th>3</th>\n      <td>0.891889</td>\n      <td>-1.878507</td>\n    </tr>\n    <tr>\n      <th>4</th>\n      <td>0.681435</td>\n      <td>0.548744</td>\n    </tr>\n  </tbody>\n</table>\n</div>"
     },
     "metadata": {},
     "execution_count": 65
    }
   ],
   "source": [
    "# projection onto the new feature space\n",
    "\n",
    "Y = X_std.dot(matrix_w) \n",
    "principalDf = pd.DataFrame(data = Y , columns = ['principal component 1', 'principal component 2']) \n",
    "principalDf.head()"
   ]
  },
  {
   "cell_type": "code",
   "execution_count": 76,
   "metadata": {},
   "outputs": [
    {
     "output_type": "execute_result",
     "data": {
      "text/plain": [
       "   principal component 1  principal component 2  Group\n",
       "0              -0.456682              -1.168668      0\n",
       "1               1.175870               0.262180      0\n",
       "2              -0.017453              -0.584101      0\n",
       "3               0.891889              -1.878507      0\n",
       "4               0.681435               0.548744      1"
      ],
      "text/html": "<div>\n<style scoped>\n    .dataframe tbody tr th:only-of-type {\n        vertical-align: middle;\n    }\n\n    .dataframe tbody tr th {\n        vertical-align: top;\n    }\n\n    .dataframe thead th {\n        text-align: right;\n    }\n</style>\n<table border=\"1\" class=\"dataframe\">\n  <thead>\n    <tr style=\"text-align: right;\">\n      <th></th>\n      <th>principal component 1</th>\n      <th>principal component 2</th>\n      <th>Group</th>\n    </tr>\n  </thead>\n  <tbody>\n    <tr>\n      <th>0</th>\n      <td>-0.456682</td>\n      <td>-1.168668</td>\n      <td>0</td>\n    </tr>\n    <tr>\n      <th>1</th>\n      <td>1.175870</td>\n      <td>0.262180</td>\n      <td>0</td>\n    </tr>\n    <tr>\n      <th>2</th>\n      <td>-0.017453</td>\n      <td>-0.584101</td>\n      <td>0</td>\n    </tr>\n    <tr>\n      <th>3</th>\n      <td>0.891889</td>\n      <td>-1.878507</td>\n      <td>0</td>\n    </tr>\n    <tr>\n      <th>4</th>\n      <td>0.681435</td>\n      <td>0.548744</td>\n      <td>1</td>\n    </tr>\n  </tbody>\n</table>\n</div>"
     },
     "metadata": {},
     "execution_count": 76
    }
   ],
   "source": [
    "finalDf = pd.concat([principalDf,pd.DataFrame(y,columns = ['Group'])], axis = 1) \n",
    "finalDf.head()"
   ]
  },
  {
   "cell_type": "code",
   "execution_count": 78,
   "metadata": {},
   "outputs": [
    {
     "output_type": "display_data",
     "data": {
      "text/plain": "<Figure size 576x360 with 1 Axes>",
      "image/svg+xml": "<?xml version=\"1.0\" encoding=\"utf-8\" standalone=\"no\"?>\r\n<!DOCTYPE svg PUBLIC \"-//W3C//DTD SVG 1.1//EN\"\r\n  \"http://www.w3.org/Graphics/SVG/1.1/DTD/svg11.dtd\">\r\n<!-- Created with matplotlib (https://matplotlib.org/) -->\r\n<svg height=\"342.592187pt\" version=\"1.1\" viewBox=\"0 0 516.9625 342.592187\" width=\"516.9625pt\" xmlns=\"http://www.w3.org/2000/svg\" xmlns:xlink=\"http://www.w3.org/1999/xlink\">\r\n <metadata>\r\n  <rdf:RDF xmlns:cc=\"http://creativecommons.org/ns#\" xmlns:dc=\"http://purl.org/dc/elements/1.1/\" xmlns:rdf=\"http://www.w3.org/1999/02/22-rdf-syntax-ns#\">\r\n   <cc:Work>\r\n    <dc:type rdf:resource=\"http://purl.org/dc/dcmitype/StillImage\"/>\r\n    <dc:date>2021-04-12T19:56:30.512135</dc:date>\r\n    <dc:format>image/svg+xml</dc:format>\r\n    <dc:creator>\r\n     <cc:Agent>\r\n      <dc:title>Matplotlib v3.3.4, https://matplotlib.org/</dc:title>\r\n     </cc:Agent>\r\n    </dc:creator>\r\n   </cc:Work>\r\n  </rdf:RDF>\r\n </metadata>\r\n <defs>\r\n  <style type=\"text/css\">*{stroke-linecap:butt;stroke-linejoin:round;}</style>\r\n </defs>\r\n <g id=\"figure_1\">\r\n  <g id=\"patch_1\">\r\n   <path d=\"M 0 342.592187 \r\nL 516.9625 342.592187 \r\nL 516.9625 0 \r\nL 0 0 \r\nz\r\n\" style=\"fill:none;\"/>\r\n  </g>\r\n  <g id=\"axes_1\">\r\n   <g id=\"patch_2\">\r\n    <path d=\"M 63.3625 300.196875 \r\nL 509.7625 300.196875 \r\nL 509.7625 28.396875 \r\nL 63.3625 28.396875 \r\nz\r\n\" style=\"fill:#ffffff;\"/>\r\n   </g>\r\n   <g id=\"PathCollection_1\"/>\r\n   <g id=\"matplotlib.axis_1\">\r\n    <g id=\"xtick_1\">\r\n     <g id=\"line2d_1\">\r\n      <path clip-path=\"url(#p4a62b1706a)\" d=\"M 124.235227 300.196875 \r\nL 124.235227 28.396875 \r\n\" style=\"fill:none;stroke:#b0b0b0;stroke-linecap:square;stroke-width:0.8;\"/>\r\n     </g>\r\n     <g id=\"line2d_2\">\r\n      <defs>\r\n       <path d=\"M 0 0 \r\nL 0 3.5 \r\n\" id=\"me04c120b6b\" style=\"stroke:#000000;stroke-width:0.8;\"/>\r\n      </defs>\r\n      <g>\r\n       <use style=\"stroke:#000000;stroke-width:0.8;\" x=\"124.235227\" xlink:href=\"#me04c120b6b\" y=\"300.196875\"/>\r\n      </g>\r\n     </g>\r\n     <g id=\"text_1\">\r\n      <!-- −0.04 -->\r\n      <g transform=\"translate(108.912571 314.795312)scale(0.1 -0.1)\">\r\n       <defs>\r\n        <path d=\"M 10.59375 35.5 \r\nL 73.1875 35.5 \r\nL 73.1875 27.203125 \r\nL 10.59375 27.203125 \r\nz\r\n\" id=\"DejaVuSans-8722\"/>\r\n        <path d=\"M 31.78125 66.40625 \r\nQ 24.171875 66.40625 20.328125 58.90625 \r\nQ 16.5 51.421875 16.5 36.375 \r\nQ 16.5 21.390625 20.328125 13.890625 \r\nQ 24.171875 6.390625 31.78125 6.390625 \r\nQ 39.453125 6.390625 43.28125 13.890625 \r\nQ 47.125 21.390625 47.125 36.375 \r\nQ 47.125 51.421875 43.28125 58.90625 \r\nQ 39.453125 66.40625 31.78125 66.40625 \r\nz\r\nM 31.78125 74.21875 \r\nQ 44.046875 74.21875 50.515625 64.515625 \r\nQ 56.984375 54.828125 56.984375 36.375 \r\nQ 56.984375 17.96875 50.515625 8.265625 \r\nQ 44.046875 -1.421875 31.78125 -1.421875 \r\nQ 19.53125 -1.421875 13.0625 8.265625 \r\nQ 6.59375 17.96875 6.59375 36.375 \r\nQ 6.59375 54.828125 13.0625 64.515625 \r\nQ 19.53125 74.21875 31.78125 74.21875 \r\nz\r\n\" id=\"DejaVuSans-48\"/>\r\n        <path d=\"M 10.6875 12.40625 \r\nL 21 12.40625 \r\nL 21 0 \r\nL 10.6875 0 \r\nz\r\n\" id=\"DejaVuSans-46\"/>\r\n        <path d=\"M 37.796875 64.3125 \r\nL 12.890625 25.390625 \r\nL 37.796875 25.390625 \r\nz\r\nM 35.203125 72.90625 \r\nL 47.609375 72.90625 \r\nL 47.609375 25.390625 \r\nL 58.015625 25.390625 \r\nL 58.015625 17.1875 \r\nL 47.609375 17.1875 \r\nL 47.609375 0 \r\nL 37.796875 0 \r\nL 37.796875 17.1875 \r\nL 4.890625 17.1875 \r\nL 4.890625 26.703125 \r\nz\r\n\" id=\"DejaVuSans-52\"/>\r\n       </defs>\r\n       <use xlink:href=\"#DejaVuSans-8722\"/>\r\n       <use x=\"83.789062\" xlink:href=\"#DejaVuSans-48\"/>\r\n       <use x=\"147.412109\" xlink:href=\"#DejaVuSans-46\"/>\r\n       <use x=\"179.199219\" xlink:href=\"#DejaVuSans-48\"/>\r\n       <use x=\"242.822266\" xlink:href=\"#DejaVuSans-52\"/>\r\n      </g>\r\n     </g>\r\n    </g>\r\n    <g id=\"xtick_2\">\r\n     <g id=\"line2d_3\">\r\n      <path clip-path=\"url(#p4a62b1706a)\" d=\"M 205.398864 300.196875 \r\nL 205.398864 28.396875 \r\n\" style=\"fill:none;stroke:#b0b0b0;stroke-linecap:square;stroke-width:0.8;\"/>\r\n     </g>\r\n     <g id=\"line2d_4\">\r\n      <g>\r\n       <use style=\"stroke:#000000;stroke-width:0.8;\" x=\"205.398864\" xlink:href=\"#me04c120b6b\" y=\"300.196875\"/>\r\n      </g>\r\n     </g>\r\n     <g id=\"text_2\">\r\n      <!-- −0.02 -->\r\n      <g transform=\"translate(190.076207 314.795312)scale(0.1 -0.1)\">\r\n       <defs>\r\n        <path d=\"M 19.1875 8.296875 \r\nL 53.609375 8.296875 \r\nL 53.609375 0 \r\nL 7.328125 0 \r\nL 7.328125 8.296875 \r\nQ 12.9375 14.109375 22.625 23.890625 \r\nQ 32.328125 33.6875 34.8125 36.53125 \r\nQ 39.546875 41.84375 41.421875 45.53125 \r\nQ 43.3125 49.21875 43.3125 52.78125 \r\nQ 43.3125 58.59375 39.234375 62.25 \r\nQ 35.15625 65.921875 28.609375 65.921875 \r\nQ 23.96875 65.921875 18.8125 64.3125 \r\nQ 13.671875 62.703125 7.8125 59.421875 \r\nL 7.8125 69.390625 \r\nQ 13.765625 71.78125 18.9375 73 \r\nQ 24.125 74.21875 28.421875 74.21875 \r\nQ 39.75 74.21875 46.484375 68.546875 \r\nQ 53.21875 62.890625 53.21875 53.421875 \r\nQ 53.21875 48.921875 51.53125 44.890625 \r\nQ 49.859375 40.875 45.40625 35.40625 \r\nQ 44.1875 33.984375 37.640625 27.21875 \r\nQ 31.109375 20.453125 19.1875 8.296875 \r\nz\r\n\" id=\"DejaVuSans-50\"/>\r\n       </defs>\r\n       <use xlink:href=\"#DejaVuSans-8722\"/>\r\n       <use x=\"83.789062\" xlink:href=\"#DejaVuSans-48\"/>\r\n       <use x=\"147.412109\" xlink:href=\"#DejaVuSans-46\"/>\r\n       <use x=\"179.199219\" xlink:href=\"#DejaVuSans-48\"/>\r\n       <use x=\"242.822266\" xlink:href=\"#DejaVuSans-50\"/>\r\n      </g>\r\n     </g>\r\n    </g>\r\n    <g id=\"xtick_3\">\r\n     <g id=\"line2d_5\">\r\n      <path clip-path=\"url(#p4a62b1706a)\" d=\"M 286.5625 300.196875 \r\nL 286.5625 28.396875 \r\n\" style=\"fill:none;stroke:#b0b0b0;stroke-linecap:square;stroke-width:0.8;\"/>\r\n     </g>\r\n     <g id=\"line2d_6\">\r\n      <g>\r\n       <use style=\"stroke:#000000;stroke-width:0.8;\" x=\"286.5625\" xlink:href=\"#me04c120b6b\" y=\"300.196875\"/>\r\n      </g>\r\n     </g>\r\n     <g id=\"text_3\">\r\n      <!-- 0.00 -->\r\n      <g transform=\"translate(275.429688 314.795312)scale(0.1 -0.1)\">\r\n       <use xlink:href=\"#DejaVuSans-48\"/>\r\n       <use x=\"63.623047\" xlink:href=\"#DejaVuSans-46\"/>\r\n       <use x=\"95.410156\" xlink:href=\"#DejaVuSans-48\"/>\r\n       <use x=\"159.033203\" xlink:href=\"#DejaVuSans-48\"/>\r\n      </g>\r\n     </g>\r\n    </g>\r\n    <g id=\"xtick_4\">\r\n     <g id=\"line2d_7\">\r\n      <path clip-path=\"url(#p4a62b1706a)\" d=\"M 367.726136 300.196875 \r\nL 367.726136 28.396875 \r\n\" style=\"fill:none;stroke:#b0b0b0;stroke-linecap:square;stroke-width:0.8;\"/>\r\n     </g>\r\n     <g id=\"line2d_8\">\r\n      <g>\r\n       <use style=\"stroke:#000000;stroke-width:0.8;\" x=\"367.726136\" xlink:href=\"#me04c120b6b\" y=\"300.196875\"/>\r\n      </g>\r\n     </g>\r\n     <g id=\"text_4\">\r\n      <!-- 0.02 -->\r\n      <g transform=\"translate(356.593324 314.795312)scale(0.1 -0.1)\">\r\n       <use xlink:href=\"#DejaVuSans-48\"/>\r\n       <use x=\"63.623047\" xlink:href=\"#DejaVuSans-46\"/>\r\n       <use x=\"95.410156\" xlink:href=\"#DejaVuSans-48\"/>\r\n       <use x=\"159.033203\" xlink:href=\"#DejaVuSans-50\"/>\r\n      </g>\r\n     </g>\r\n    </g>\r\n    <g id=\"xtick_5\">\r\n     <g id=\"line2d_9\">\r\n      <path clip-path=\"url(#p4a62b1706a)\" d=\"M 448.889773 300.196875 \r\nL 448.889773 28.396875 \r\n\" style=\"fill:none;stroke:#b0b0b0;stroke-linecap:square;stroke-width:0.8;\"/>\r\n     </g>\r\n     <g id=\"line2d_10\">\r\n      <g>\r\n       <use style=\"stroke:#000000;stroke-width:0.8;\" x=\"448.889773\" xlink:href=\"#me04c120b6b\" y=\"300.196875\"/>\r\n      </g>\r\n     </g>\r\n     <g id=\"text_5\">\r\n      <!-- 0.04 -->\r\n      <g transform=\"translate(437.75696 314.795312)scale(0.1 -0.1)\">\r\n       <use xlink:href=\"#DejaVuSans-48\"/>\r\n       <use x=\"63.623047\" xlink:href=\"#DejaVuSans-46\"/>\r\n       <use x=\"95.410156\" xlink:href=\"#DejaVuSans-48\"/>\r\n       <use x=\"159.033203\" xlink:href=\"#DejaVuSans-52\"/>\r\n      </g>\r\n     </g>\r\n    </g>\r\n    <g id=\"text_6\">\r\n     <!-- Principal Component 1 -->\r\n     <g transform=\"translate(201.520703 332.272656)scale(0.15 -0.15)\">\r\n      <defs>\r\n       <path d=\"M 19.671875 64.796875 \r\nL 19.671875 37.40625 \r\nL 32.078125 37.40625 \r\nQ 38.96875 37.40625 42.71875 40.96875 \r\nQ 46.484375 44.53125 46.484375 51.125 \r\nQ 46.484375 57.671875 42.71875 61.234375 \r\nQ 38.96875 64.796875 32.078125 64.796875 \r\nz\r\nM 9.8125 72.90625 \r\nL 32.078125 72.90625 \r\nQ 44.34375 72.90625 50.609375 67.359375 \r\nQ 56.890625 61.8125 56.890625 51.125 \r\nQ 56.890625 40.328125 50.609375 34.8125 \r\nQ 44.34375 29.296875 32.078125 29.296875 \r\nL 19.671875 29.296875 \r\nL 19.671875 0 \r\nL 9.8125 0 \r\nz\r\n\" id=\"DejaVuSans-80\"/>\r\n       <path d=\"M 41.109375 46.296875 \r\nQ 39.59375 47.171875 37.8125 47.578125 \r\nQ 36.03125 48 33.890625 48 \r\nQ 26.265625 48 22.1875 43.046875 \r\nQ 18.109375 38.09375 18.109375 28.8125 \r\nL 18.109375 0 \r\nL 9.078125 0 \r\nL 9.078125 54.6875 \r\nL 18.109375 54.6875 \r\nL 18.109375 46.1875 \r\nQ 20.953125 51.171875 25.484375 53.578125 \r\nQ 30.03125 56 36.53125 56 \r\nQ 37.453125 56 38.578125 55.875 \r\nQ 39.703125 55.765625 41.0625 55.515625 \r\nz\r\n\" id=\"DejaVuSans-114\"/>\r\n       <path d=\"M 9.421875 54.6875 \r\nL 18.40625 54.6875 \r\nL 18.40625 0 \r\nL 9.421875 0 \r\nz\r\nM 9.421875 75.984375 \r\nL 18.40625 75.984375 \r\nL 18.40625 64.59375 \r\nL 9.421875 64.59375 \r\nz\r\n\" id=\"DejaVuSans-105\"/>\r\n       <path d=\"M 54.890625 33.015625 \r\nL 54.890625 0 \r\nL 45.90625 0 \r\nL 45.90625 32.71875 \r\nQ 45.90625 40.484375 42.875 44.328125 \r\nQ 39.84375 48.1875 33.796875 48.1875 \r\nQ 26.515625 48.1875 22.3125 43.546875 \r\nQ 18.109375 38.921875 18.109375 30.90625 \r\nL 18.109375 0 \r\nL 9.078125 0 \r\nL 9.078125 54.6875 \r\nL 18.109375 54.6875 \r\nL 18.109375 46.1875 \r\nQ 21.34375 51.125 25.703125 53.5625 \r\nQ 30.078125 56 35.796875 56 \r\nQ 45.21875 56 50.046875 50.171875 \r\nQ 54.890625 44.34375 54.890625 33.015625 \r\nz\r\n\" id=\"DejaVuSans-110\"/>\r\n       <path d=\"M 48.78125 52.59375 \r\nL 48.78125 44.1875 \r\nQ 44.96875 46.296875 41.140625 47.34375 \r\nQ 37.3125 48.390625 33.40625 48.390625 \r\nQ 24.65625 48.390625 19.8125 42.84375 \r\nQ 14.984375 37.3125 14.984375 27.296875 \r\nQ 14.984375 17.28125 19.8125 11.734375 \r\nQ 24.65625 6.203125 33.40625 6.203125 \r\nQ 37.3125 6.203125 41.140625 7.25 \r\nQ 44.96875 8.296875 48.78125 10.40625 \r\nL 48.78125 2.09375 \r\nQ 45.015625 0.34375 40.984375 -0.53125 \r\nQ 36.96875 -1.421875 32.421875 -1.421875 \r\nQ 20.0625 -1.421875 12.78125 6.34375 \r\nQ 5.515625 14.109375 5.515625 27.296875 \r\nQ 5.515625 40.671875 12.859375 48.328125 \r\nQ 20.21875 56 33.015625 56 \r\nQ 37.15625 56 41.109375 55.140625 \r\nQ 45.0625 54.296875 48.78125 52.59375 \r\nz\r\n\" id=\"DejaVuSans-99\"/>\r\n       <path d=\"M 18.109375 8.203125 \r\nL 18.109375 -20.796875 \r\nL 9.078125 -20.796875 \r\nL 9.078125 54.6875 \r\nL 18.109375 54.6875 \r\nL 18.109375 46.390625 \r\nQ 20.953125 51.265625 25.265625 53.625 \r\nQ 29.59375 56 35.59375 56 \r\nQ 45.5625 56 51.78125 48.09375 \r\nQ 58.015625 40.1875 58.015625 27.296875 \r\nQ 58.015625 14.40625 51.78125 6.484375 \r\nQ 45.5625 -1.421875 35.59375 -1.421875 \r\nQ 29.59375 -1.421875 25.265625 0.953125 \r\nQ 20.953125 3.328125 18.109375 8.203125 \r\nz\r\nM 48.6875 27.296875 \r\nQ 48.6875 37.203125 44.609375 42.84375 \r\nQ 40.53125 48.484375 33.40625 48.484375 \r\nQ 26.265625 48.484375 22.1875 42.84375 \r\nQ 18.109375 37.203125 18.109375 27.296875 \r\nQ 18.109375 17.390625 22.1875 11.75 \r\nQ 26.265625 6.109375 33.40625 6.109375 \r\nQ 40.53125 6.109375 44.609375 11.75 \r\nQ 48.6875 17.390625 48.6875 27.296875 \r\nz\r\n\" id=\"DejaVuSans-112\"/>\r\n       <path d=\"M 34.28125 27.484375 \r\nQ 23.390625 27.484375 19.1875 25 \r\nQ 14.984375 22.515625 14.984375 16.5 \r\nQ 14.984375 11.71875 18.140625 8.90625 \r\nQ 21.296875 6.109375 26.703125 6.109375 \r\nQ 34.1875 6.109375 38.703125 11.40625 \r\nQ 43.21875 16.703125 43.21875 25.484375 \r\nL 43.21875 27.484375 \r\nz\r\nM 52.203125 31.203125 \r\nL 52.203125 0 \r\nL 43.21875 0 \r\nL 43.21875 8.296875 \r\nQ 40.140625 3.328125 35.546875 0.953125 \r\nQ 30.953125 -1.421875 24.3125 -1.421875 \r\nQ 15.921875 -1.421875 10.953125 3.296875 \r\nQ 6 8.015625 6 15.921875 \r\nQ 6 25.140625 12.171875 29.828125 \r\nQ 18.359375 34.515625 30.609375 34.515625 \r\nL 43.21875 34.515625 \r\nL 43.21875 35.40625 \r\nQ 43.21875 41.609375 39.140625 45 \r\nQ 35.0625 48.390625 27.6875 48.390625 \r\nQ 23 48.390625 18.546875 47.265625 \r\nQ 14.109375 46.140625 10.015625 43.890625 \r\nL 10.015625 52.203125 \r\nQ 14.9375 54.109375 19.578125 55.046875 \r\nQ 24.21875 56 28.609375 56 \r\nQ 40.484375 56 46.34375 49.84375 \r\nQ 52.203125 43.703125 52.203125 31.203125 \r\nz\r\n\" id=\"DejaVuSans-97\"/>\r\n       <path d=\"M 9.421875 75.984375 \r\nL 18.40625 75.984375 \r\nL 18.40625 0 \r\nL 9.421875 0 \r\nz\r\n\" id=\"DejaVuSans-108\"/>\r\n       <path id=\"DejaVuSans-32\"/>\r\n       <path d=\"M 64.40625 67.28125 \r\nL 64.40625 56.890625 \r\nQ 59.421875 61.53125 53.78125 63.8125 \r\nQ 48.140625 66.109375 41.796875 66.109375 \r\nQ 29.296875 66.109375 22.65625 58.46875 \r\nQ 16.015625 50.828125 16.015625 36.375 \r\nQ 16.015625 21.96875 22.65625 14.328125 \r\nQ 29.296875 6.6875 41.796875 6.6875 \r\nQ 48.140625 6.6875 53.78125 8.984375 \r\nQ 59.421875 11.28125 64.40625 15.921875 \r\nL 64.40625 5.609375 \r\nQ 59.234375 2.09375 53.4375 0.328125 \r\nQ 47.65625 -1.421875 41.21875 -1.421875 \r\nQ 24.65625 -1.421875 15.125 8.703125 \r\nQ 5.609375 18.84375 5.609375 36.375 \r\nQ 5.609375 53.953125 15.125 64.078125 \r\nQ 24.65625 74.21875 41.21875 74.21875 \r\nQ 47.75 74.21875 53.53125 72.484375 \r\nQ 59.328125 70.75 64.40625 67.28125 \r\nz\r\n\" id=\"DejaVuSans-67\"/>\r\n       <path d=\"M 30.609375 48.390625 \r\nQ 23.390625 48.390625 19.1875 42.75 \r\nQ 14.984375 37.109375 14.984375 27.296875 \r\nQ 14.984375 17.484375 19.15625 11.84375 \r\nQ 23.34375 6.203125 30.609375 6.203125 \r\nQ 37.796875 6.203125 41.984375 11.859375 \r\nQ 46.1875 17.53125 46.1875 27.296875 \r\nQ 46.1875 37.015625 41.984375 42.703125 \r\nQ 37.796875 48.390625 30.609375 48.390625 \r\nz\r\nM 30.609375 56 \r\nQ 42.328125 56 49.015625 48.375 \r\nQ 55.71875 40.765625 55.71875 27.296875 \r\nQ 55.71875 13.875 49.015625 6.21875 \r\nQ 42.328125 -1.421875 30.609375 -1.421875 \r\nQ 18.84375 -1.421875 12.171875 6.21875 \r\nQ 5.515625 13.875 5.515625 27.296875 \r\nQ 5.515625 40.765625 12.171875 48.375 \r\nQ 18.84375 56 30.609375 56 \r\nz\r\n\" id=\"DejaVuSans-111\"/>\r\n       <path d=\"M 52 44.1875 \r\nQ 55.375 50.25 60.0625 53.125 \r\nQ 64.75 56 71.09375 56 \r\nQ 79.640625 56 84.28125 50.015625 \r\nQ 88.921875 44.046875 88.921875 33.015625 \r\nL 88.921875 0 \r\nL 79.890625 0 \r\nL 79.890625 32.71875 \r\nQ 79.890625 40.578125 77.09375 44.375 \r\nQ 74.3125 48.1875 68.609375 48.1875 \r\nQ 61.625 48.1875 57.5625 43.546875 \r\nQ 53.515625 38.921875 53.515625 30.90625 \r\nL 53.515625 0 \r\nL 44.484375 0 \r\nL 44.484375 32.71875 \r\nQ 44.484375 40.625 41.703125 44.40625 \r\nQ 38.921875 48.1875 33.109375 48.1875 \r\nQ 26.21875 48.1875 22.15625 43.53125 \r\nQ 18.109375 38.875 18.109375 30.90625 \r\nL 18.109375 0 \r\nL 9.078125 0 \r\nL 9.078125 54.6875 \r\nL 18.109375 54.6875 \r\nL 18.109375 46.1875 \r\nQ 21.1875 51.21875 25.484375 53.609375 \r\nQ 29.78125 56 35.6875 56 \r\nQ 41.65625 56 45.828125 52.96875 \r\nQ 50 49.953125 52 44.1875 \r\nz\r\n\" id=\"DejaVuSans-109\"/>\r\n       <path d=\"M 56.203125 29.59375 \r\nL 56.203125 25.203125 \r\nL 14.890625 25.203125 \r\nQ 15.484375 15.921875 20.484375 11.0625 \r\nQ 25.484375 6.203125 34.421875 6.203125 \r\nQ 39.59375 6.203125 44.453125 7.46875 \r\nQ 49.3125 8.734375 54.109375 11.28125 \r\nL 54.109375 2.78125 \r\nQ 49.265625 0.734375 44.1875 -0.34375 \r\nQ 39.109375 -1.421875 33.890625 -1.421875 \r\nQ 20.796875 -1.421875 13.15625 6.1875 \r\nQ 5.515625 13.8125 5.515625 26.8125 \r\nQ 5.515625 40.234375 12.765625 48.109375 \r\nQ 20.015625 56 32.328125 56 \r\nQ 43.359375 56 49.78125 48.890625 \r\nQ 56.203125 41.796875 56.203125 29.59375 \r\nz\r\nM 47.21875 32.234375 \r\nQ 47.125 39.59375 43.09375 43.984375 \r\nQ 39.0625 48.390625 32.421875 48.390625 \r\nQ 24.90625 48.390625 20.390625 44.140625 \r\nQ 15.875 39.890625 15.1875 32.171875 \r\nz\r\n\" id=\"DejaVuSans-101\"/>\r\n       <path d=\"M 18.3125 70.21875 \r\nL 18.3125 54.6875 \r\nL 36.8125 54.6875 \r\nL 36.8125 47.703125 \r\nL 18.3125 47.703125 \r\nL 18.3125 18.015625 \r\nQ 18.3125 11.328125 20.140625 9.421875 \r\nQ 21.96875 7.515625 27.59375 7.515625 \r\nL 36.8125 7.515625 \r\nL 36.8125 0 \r\nL 27.59375 0 \r\nQ 17.1875 0 13.234375 3.875 \r\nQ 9.28125 7.765625 9.28125 18.015625 \r\nL 9.28125 47.703125 \r\nL 2.6875 47.703125 \r\nL 2.6875 54.6875 \r\nL 9.28125 54.6875 \r\nL 9.28125 70.21875 \r\nz\r\n\" id=\"DejaVuSans-116\"/>\r\n       <path d=\"M 12.40625 8.296875 \r\nL 28.515625 8.296875 \r\nL 28.515625 63.921875 \r\nL 10.984375 60.40625 \r\nL 10.984375 69.390625 \r\nL 28.421875 72.90625 \r\nL 38.28125 72.90625 \r\nL 38.28125 8.296875 \r\nL 54.390625 8.296875 \r\nL 54.390625 0 \r\nL 12.40625 0 \r\nz\r\n\" id=\"DejaVuSans-49\"/>\r\n      </defs>\r\n      <use xlink:href=\"#DejaVuSans-80\"/>\r\n      <use x=\"58.552734\" xlink:href=\"#DejaVuSans-114\"/>\r\n      <use x=\"99.666016\" xlink:href=\"#DejaVuSans-105\"/>\r\n      <use x=\"127.449219\" xlink:href=\"#DejaVuSans-110\"/>\r\n      <use x=\"190.828125\" xlink:href=\"#DejaVuSans-99\"/>\r\n      <use x=\"245.808594\" xlink:href=\"#DejaVuSans-105\"/>\r\n      <use x=\"273.591797\" xlink:href=\"#DejaVuSans-112\"/>\r\n      <use x=\"337.068359\" xlink:href=\"#DejaVuSans-97\"/>\r\n      <use x=\"398.347656\" xlink:href=\"#DejaVuSans-108\"/>\r\n      <use x=\"426.130859\" xlink:href=\"#DejaVuSans-32\"/>\r\n      <use x=\"457.917969\" xlink:href=\"#DejaVuSans-67\"/>\r\n      <use x=\"527.742188\" xlink:href=\"#DejaVuSans-111\"/>\r\n      <use x=\"588.923828\" xlink:href=\"#DejaVuSans-109\"/>\r\n      <use x=\"686.335938\" xlink:href=\"#DejaVuSans-112\"/>\r\n      <use x=\"749.8125\" xlink:href=\"#DejaVuSans-111\"/>\r\n      <use x=\"810.994141\" xlink:href=\"#DejaVuSans-110\"/>\r\n      <use x=\"874.373047\" xlink:href=\"#DejaVuSans-101\"/>\r\n      <use x=\"935.896484\" xlink:href=\"#DejaVuSans-110\"/>\r\n      <use x=\"999.275391\" xlink:href=\"#DejaVuSans-116\"/>\r\n      <use x=\"1038.484375\" xlink:href=\"#DejaVuSans-32\"/>\r\n      <use x=\"1070.271484\" xlink:href=\"#DejaVuSans-49\"/>\r\n     </g>\r\n    </g>\r\n   </g>\r\n   <g id=\"matplotlib.axis_2\">\r\n    <g id=\"ytick_1\">\r\n     <g id=\"line2d_11\">\r\n      <path clip-path=\"url(#p4a62b1706a)\" d=\"M 63.3625 263.133239 \r\nL 509.7625 263.133239 \r\n\" style=\"fill:none;stroke:#b0b0b0;stroke-linecap:square;stroke-width:0.8;\"/>\r\n     </g>\r\n     <g id=\"line2d_12\">\r\n      <defs>\r\n       <path d=\"M 0 0 \r\nL -3.5 0 \r\n\" id=\"ma4dff92235\" style=\"stroke:#000000;stroke-width:0.8;\"/>\r\n      </defs>\r\n      <g>\r\n       <use style=\"stroke:#000000;stroke-width:0.8;\" x=\"63.3625\" xlink:href=\"#ma4dff92235\" y=\"263.133239\"/>\r\n      </g>\r\n     </g>\r\n     <g id=\"text_7\">\r\n      <!-- −0.04 -->\r\n      <g transform=\"translate(25.717188 266.932457)scale(0.1 -0.1)\">\r\n       <use xlink:href=\"#DejaVuSans-8722\"/>\r\n       <use x=\"83.789062\" xlink:href=\"#DejaVuSans-48\"/>\r\n       <use x=\"147.412109\" xlink:href=\"#DejaVuSans-46\"/>\r\n       <use x=\"179.199219\" xlink:href=\"#DejaVuSans-48\"/>\r\n       <use x=\"242.822266\" xlink:href=\"#DejaVuSans-52\"/>\r\n      </g>\r\n     </g>\r\n    </g>\r\n    <g id=\"ytick_2\">\r\n     <g id=\"line2d_13\">\r\n      <path clip-path=\"url(#p4a62b1706a)\" d=\"M 63.3625 213.715057 \r\nL 509.7625 213.715057 \r\n\" style=\"fill:none;stroke:#b0b0b0;stroke-linecap:square;stroke-width:0.8;\"/>\r\n     </g>\r\n     <g id=\"line2d_14\">\r\n      <g>\r\n       <use style=\"stroke:#000000;stroke-width:0.8;\" x=\"63.3625\" xlink:href=\"#ma4dff92235\" y=\"213.715057\"/>\r\n      </g>\r\n     </g>\r\n     <g id=\"text_8\">\r\n      <!-- −0.02 -->\r\n      <g transform=\"translate(25.717188 217.514276)scale(0.1 -0.1)\">\r\n       <use xlink:href=\"#DejaVuSans-8722\"/>\r\n       <use x=\"83.789062\" xlink:href=\"#DejaVuSans-48\"/>\r\n       <use x=\"147.412109\" xlink:href=\"#DejaVuSans-46\"/>\r\n       <use x=\"179.199219\" xlink:href=\"#DejaVuSans-48\"/>\r\n       <use x=\"242.822266\" xlink:href=\"#DejaVuSans-50\"/>\r\n      </g>\r\n     </g>\r\n    </g>\r\n    <g id=\"ytick_3\">\r\n     <g id=\"line2d_15\">\r\n      <path clip-path=\"url(#p4a62b1706a)\" d=\"M 63.3625 164.296875 \r\nL 509.7625 164.296875 \r\n\" style=\"fill:none;stroke:#b0b0b0;stroke-linecap:square;stroke-width:0.8;\"/>\r\n     </g>\r\n     <g id=\"line2d_16\">\r\n      <g>\r\n       <use style=\"stroke:#000000;stroke-width:0.8;\" x=\"63.3625\" xlink:href=\"#ma4dff92235\" y=\"164.296875\"/>\r\n      </g>\r\n     </g>\r\n     <g id=\"text_9\">\r\n      <!-- 0.00 -->\r\n      <g transform=\"translate(34.096875 168.096094)scale(0.1 -0.1)\">\r\n       <use xlink:href=\"#DejaVuSans-48\"/>\r\n       <use x=\"63.623047\" xlink:href=\"#DejaVuSans-46\"/>\r\n       <use x=\"95.410156\" xlink:href=\"#DejaVuSans-48\"/>\r\n       <use x=\"159.033203\" xlink:href=\"#DejaVuSans-48\"/>\r\n      </g>\r\n     </g>\r\n    </g>\r\n    <g id=\"ytick_4\">\r\n     <g id=\"line2d_17\">\r\n      <path clip-path=\"url(#p4a62b1706a)\" d=\"M 63.3625 114.878693 \r\nL 509.7625 114.878693 \r\n\" style=\"fill:none;stroke:#b0b0b0;stroke-linecap:square;stroke-width:0.8;\"/>\r\n     </g>\r\n     <g id=\"line2d_18\">\r\n      <g>\r\n       <use style=\"stroke:#000000;stroke-width:0.8;\" x=\"63.3625\" xlink:href=\"#ma4dff92235\" y=\"114.878693\"/>\r\n      </g>\r\n     </g>\r\n     <g id=\"text_10\">\r\n      <!-- 0.02 -->\r\n      <g transform=\"translate(34.096875 118.677912)scale(0.1 -0.1)\">\r\n       <use xlink:href=\"#DejaVuSans-48\"/>\r\n       <use x=\"63.623047\" xlink:href=\"#DejaVuSans-46\"/>\r\n       <use x=\"95.410156\" xlink:href=\"#DejaVuSans-48\"/>\r\n       <use x=\"159.033203\" xlink:href=\"#DejaVuSans-50\"/>\r\n      </g>\r\n     </g>\r\n    </g>\r\n    <g id=\"ytick_5\">\r\n     <g id=\"line2d_19\">\r\n      <path clip-path=\"url(#p4a62b1706a)\" d=\"M 63.3625 65.460511 \r\nL 509.7625 65.460511 \r\n\" style=\"fill:none;stroke:#b0b0b0;stroke-linecap:square;stroke-width:0.8;\"/>\r\n     </g>\r\n     <g id=\"line2d_20\">\r\n      <g>\r\n       <use style=\"stroke:#000000;stroke-width:0.8;\" x=\"63.3625\" xlink:href=\"#ma4dff92235\" y=\"65.460511\"/>\r\n      </g>\r\n     </g>\r\n     <g id=\"text_11\">\r\n      <!-- 0.04 -->\r\n      <g transform=\"translate(34.096875 69.25973)scale(0.1 -0.1)\">\r\n       <use xlink:href=\"#DejaVuSans-48\"/>\r\n       <use x=\"63.623047\" xlink:href=\"#DejaVuSans-46\"/>\r\n       <use x=\"95.410156\" xlink:href=\"#DejaVuSans-48\"/>\r\n       <use x=\"159.033203\" xlink:href=\"#DejaVuSans-52\"/>\r\n      </g>\r\n     </g>\r\n    </g>\r\n    <g id=\"text_12\">\r\n     <!-- Principal Component 2 -->\r\n     <g transform=\"translate(18.597656 249.338672)rotate(-90)scale(0.15 -0.15)\">\r\n      <use xlink:href=\"#DejaVuSans-80\"/>\r\n      <use x=\"58.552734\" xlink:href=\"#DejaVuSans-114\"/>\r\n      <use x=\"99.666016\" xlink:href=\"#DejaVuSans-105\"/>\r\n      <use x=\"127.449219\" xlink:href=\"#DejaVuSans-110\"/>\r\n      <use x=\"190.828125\" xlink:href=\"#DejaVuSans-99\"/>\r\n      <use x=\"245.808594\" xlink:href=\"#DejaVuSans-105\"/>\r\n      <use x=\"273.591797\" xlink:href=\"#DejaVuSans-112\"/>\r\n      <use x=\"337.068359\" xlink:href=\"#DejaVuSans-97\"/>\r\n      <use x=\"398.347656\" xlink:href=\"#DejaVuSans-108\"/>\r\n      <use x=\"426.130859\" xlink:href=\"#DejaVuSans-32\"/>\r\n      <use x=\"457.917969\" xlink:href=\"#DejaVuSans-67\"/>\r\n      <use x=\"527.742188\" xlink:href=\"#DejaVuSans-111\"/>\r\n      <use x=\"588.923828\" xlink:href=\"#DejaVuSans-109\"/>\r\n      <use x=\"686.335938\" xlink:href=\"#DejaVuSans-112\"/>\r\n      <use x=\"749.8125\" xlink:href=\"#DejaVuSans-111\"/>\r\n      <use x=\"810.994141\" xlink:href=\"#DejaVuSans-110\"/>\r\n      <use x=\"874.373047\" xlink:href=\"#DejaVuSans-101\"/>\r\n      <use x=\"935.896484\" xlink:href=\"#DejaVuSans-110\"/>\r\n      <use x=\"999.275391\" xlink:href=\"#DejaVuSans-116\"/>\r\n      <use x=\"1038.484375\" xlink:href=\"#DejaVuSans-32\"/>\r\n      <use x=\"1070.271484\" xlink:href=\"#DejaVuSans-50\"/>\r\n     </g>\r\n    </g>\r\n   </g>\r\n   <g id=\"patch_3\">\r\n    <path d=\"M 63.3625 300.196875 \r\nL 63.3625 28.396875 \r\n\" style=\"fill:none;stroke:#000000;stroke-linecap:square;stroke-linejoin:miter;stroke-width:0.8;\"/>\r\n   </g>\r\n   <g id=\"patch_4\">\r\n    <path d=\"M 509.7625 300.196875 \r\nL 509.7625 28.396875 \r\n\" style=\"fill:none;stroke:#000000;stroke-linecap:square;stroke-linejoin:miter;stroke-width:0.8;\"/>\r\n   </g>\r\n   <g id=\"patch_5\">\r\n    <path d=\"M 63.3625 300.196875 \r\nL 509.7625 300.196875 \r\n\" style=\"fill:none;stroke:#000000;stroke-linecap:square;stroke-linejoin:miter;stroke-width:0.8;\"/>\r\n   </g>\r\n   <g id=\"patch_6\">\r\n    <path d=\"M 63.3625 28.396875 \r\nL 509.7625 28.396875 \r\n\" style=\"fill:none;stroke:#000000;stroke-linecap:square;stroke-linejoin:miter;stroke-width:0.8;\"/>\r\n   </g>\r\n   <g id=\"text_13\">\r\n    <!-- 2 Component PCA -->\r\n    <g transform=\"translate(195.932813 22.396875)scale(0.2 -0.2)\">\r\n     <defs>\r\n      <path d=\"M 34.1875 63.1875 \r\nL 20.796875 26.90625 \r\nL 47.609375 26.90625 \r\nz\r\nM 28.609375 72.90625 \r\nL 39.796875 72.90625 \r\nL 67.578125 0 \r\nL 57.328125 0 \r\nL 50.6875 18.703125 \r\nL 17.828125 18.703125 \r\nL 11.1875 0 \r\nL 0.78125 0 \r\nz\r\n\" id=\"DejaVuSans-65\"/>\r\n     </defs>\r\n     <use xlink:href=\"#DejaVuSans-50\"/>\r\n     <use x=\"63.623047\" xlink:href=\"#DejaVuSans-32\"/>\r\n     <use x=\"95.410156\" xlink:href=\"#DejaVuSans-67\"/>\r\n     <use x=\"165.234375\" xlink:href=\"#DejaVuSans-111\"/>\r\n     <use x=\"226.416016\" xlink:href=\"#DejaVuSans-109\"/>\r\n     <use x=\"323.828125\" xlink:href=\"#DejaVuSans-112\"/>\r\n     <use x=\"387.304688\" xlink:href=\"#DejaVuSans-111\"/>\r\n     <use x=\"448.486328\" xlink:href=\"#DejaVuSans-110\"/>\r\n     <use x=\"511.865234\" xlink:href=\"#DejaVuSans-101\"/>\r\n     <use x=\"573.388672\" xlink:href=\"#DejaVuSans-110\"/>\r\n     <use x=\"636.767578\" xlink:href=\"#DejaVuSans-116\"/>\r\n     <use x=\"675.976562\" xlink:href=\"#DejaVuSans-32\"/>\r\n     <use x=\"707.763672\" xlink:href=\"#DejaVuSans-80\"/>\r\n     <use x=\"768.066406\" xlink:href=\"#DejaVuSans-67\"/>\r\n     <use x=\"837.890625\" xlink:href=\"#DejaVuSans-65\"/>\r\n    </g>\r\n   </g>\r\n   <g id=\"legend_1\">\r\n    <g id=\"patch_7\">\r\n     <path d=\"M 418.25625 51.075 \r\nL 502.7625 51.075 \r\nQ 504.7625 51.075 504.7625 49.075 \r\nL 504.7625 35.396875 \r\nQ 504.7625 33.396875 502.7625 33.396875 \r\nL 418.25625 33.396875 \r\nQ 416.25625 33.396875 416.25625 35.396875 \r\nL 416.25625 49.075 \r\nQ 416.25625 51.075 418.25625 51.075 \r\nz\r\n\" style=\"fill:#ffffff;opacity:0.8;stroke:#cccccc;stroke-linejoin:miter;\"/>\r\n    </g>\r\n    <g id=\"PathCollection_2\">\r\n     <defs>\r\n      <path d=\"M 0 3.535534 \r\nC 0.937635 3.535534 1.836992 3.163008 2.5 2.5 \r\nC 3.163008 1.836992 3.535534 0.937635 3.535534 0 \r\nC 3.535534 -0.937635 3.163008 -1.836992 2.5 -2.5 \r\nC 1.836992 -3.163008 0.937635 -3.535534 0 -3.535534 \r\nC -0.937635 -3.535534 -1.836992 -3.163008 -2.5 -2.5 \r\nC -3.163008 -1.836992 -3.535534 -0.937635 -3.535534 0 \r\nC -3.535534 0.937635 -3.163008 1.836992 -2.5 2.5 \r\nC -1.836992 3.163008 -0.937635 3.535534 0 3.535534 \r\nz\r\n\" id=\"mbf73fb60f4\" style=\"stroke:#0000ff;\"/>\r\n     </defs>\r\n     <g>\r\n      <use style=\"fill:#0000ff;stroke:#0000ff;\" x=\"430.25625\" xlink:href=\"#mbf73fb60f4\" y=\"42.370312\"/>\r\n     </g>\r\n    </g>\r\n    <g id=\"text_14\">\r\n     <!-- Demented -->\r\n     <g transform=\"translate(448.25625 44.995312)scale(0.1 -0.1)\">\r\n      <defs>\r\n       <path d=\"M 19.671875 64.796875 \r\nL 19.671875 8.109375 \r\nL 31.59375 8.109375 \r\nQ 46.6875 8.109375 53.6875 14.9375 \r\nQ 60.6875 21.78125 60.6875 36.53125 \r\nQ 60.6875 51.171875 53.6875 57.984375 \r\nQ 46.6875 64.796875 31.59375 64.796875 \r\nz\r\nM 9.8125 72.90625 \r\nL 30.078125 72.90625 \r\nQ 51.265625 72.90625 61.171875 64.09375 \r\nQ 71.09375 55.28125 71.09375 36.53125 \r\nQ 71.09375 17.671875 61.125 8.828125 \r\nQ 51.171875 0 30.078125 0 \r\nL 9.8125 0 \r\nz\r\n\" id=\"DejaVuSans-68\"/>\r\n       <path d=\"M 45.40625 46.390625 \r\nL 45.40625 75.984375 \r\nL 54.390625 75.984375 \r\nL 54.390625 0 \r\nL 45.40625 0 \r\nL 45.40625 8.203125 \r\nQ 42.578125 3.328125 38.25 0.953125 \r\nQ 33.9375 -1.421875 27.875 -1.421875 \r\nQ 17.96875 -1.421875 11.734375 6.484375 \r\nQ 5.515625 14.40625 5.515625 27.296875 \r\nQ 5.515625 40.1875 11.734375 48.09375 \r\nQ 17.96875 56 27.875 56 \r\nQ 33.9375 56 38.25 53.625 \r\nQ 42.578125 51.265625 45.40625 46.390625 \r\nz\r\nM 14.796875 27.296875 \r\nQ 14.796875 17.390625 18.875 11.75 \r\nQ 22.953125 6.109375 30.078125 6.109375 \r\nQ 37.203125 6.109375 41.296875 11.75 \r\nQ 45.40625 17.390625 45.40625 27.296875 \r\nQ 45.40625 37.203125 41.296875 42.84375 \r\nQ 37.203125 48.484375 30.078125 48.484375 \r\nQ 22.953125 48.484375 18.875 42.84375 \r\nQ 14.796875 37.203125 14.796875 27.296875 \r\nz\r\n\" id=\"DejaVuSans-100\"/>\r\n      </defs>\r\n      <use xlink:href=\"#DejaVuSans-68\"/>\r\n      <use x=\"77.001953\" xlink:href=\"#DejaVuSans-101\"/>\r\n      <use x=\"138.525391\" xlink:href=\"#DejaVuSans-109\"/>\r\n      <use x=\"235.9375\" xlink:href=\"#DejaVuSans-101\"/>\r\n      <use x=\"297.460938\" xlink:href=\"#DejaVuSans-110\"/>\r\n      <use x=\"360.839844\" xlink:href=\"#DejaVuSans-116\"/>\r\n      <use x=\"400.048828\" xlink:href=\"#DejaVuSans-101\"/>\r\n      <use x=\"461.572266\" xlink:href=\"#DejaVuSans-100\"/>\r\n     </g>\r\n    </g>\r\n   </g>\r\n  </g>\r\n </g>\r\n <defs>\r\n  <clipPath id=\"p4a62b1706a\">\r\n   <rect height=\"271.8\" width=\"446.4\" x=\"63.3625\" y=\"28.396875\"/>\r\n  </clipPath>\r\n </defs>\r\n</svg>\r\n",
      "image/png": "[encoded data removed]"
     },
     "metadata": {
      "needs_background": "light"
     }
    }
   ],
   "source": [
    "# visualize 2D Projection\n",
    "\n",
    "fig = plt.figure(figsize = (8,5)) \n",
    "ax = fig.add_subplot(1,1,1) \n",
    "ax.set_xlabel('Principal Component 1', fontsize = 15) \n",
    "ax.set_ylabel('Principal Component 2', fontsize = 15) \n",
    "ax.set_title('2 Component PCA', fontsize = 20) \n",
    "targets = ['Demented', 'Nondemented', 'Converted'] \n",
    "colors = ['r', 'g', 'b'] \n",
    "\n",
    "for target, color in zip(targets,colors): \n",
    "    indicesToKeep = finalDf['Group'] == target  \n",
    "\n",
    "ax.scatter(finalDf.loc[indicesToKeep, 'principal component 1'] , finalDf.loc[indicesToKeep, 'principal component 2'] , c = color , s = 50) \n",
    "ax.legend(targets) \n",
    "ax.grid()"
   ]
  },
  {
   "cell_type": "code",
   "execution_count": 80,
   "metadata": {},
   "outputs": [],
   "source": [
    "# use of Python library to directly compute Principal Components\n",
    "\n",
    "from sklearn.decomposition import PCA\n",
    "pca = PCA(n_components=2) "
   ]
  },
  {
   "cell_type": "code",
   "execution_count": 81,
   "metadata": {},
   "outputs": [
    {
     "output_type": "execute_result",
     "data": {
      "text/plain": [
       "   principal component 1  principal component 2\n",
       "0               0.887653               0.108022\n",
       "1              -1.684698               0.673312\n",
       "2              -0.963298              -0.945207\n",
       "3               0.398579               0.420155\n",
       "4              -0.796240              -0.877539"
      ],
      "text/html": "<div>\n<style scoped>\n    .dataframe tbody tr th:only-of-type {\n        vertical-align: middle;\n    }\n\n    .dataframe tbody tr th {\n        vertical-align: top;\n    }\n\n    .dataframe thead th {\n        text-align: right;\n    }\n</style>\n<table border=\"1\" class=\"dataframe\">\n  <thead>\n    <tr style=\"text-align: right;\">\n      <th></th>\n      <th>principal component 1</th>\n      <th>principal component 2</th>\n    </tr>\n  </thead>\n  <tbody>\n    <tr>\n      <th>0</th>\n      <td>0.887653</td>\n      <td>0.108022</td>\n    </tr>\n    <tr>\n      <th>1</th>\n      <td>-1.684698</td>\n      <td>0.673312</td>\n    </tr>\n    <tr>\n      <th>2</th>\n      <td>-0.963298</td>\n      <td>-0.945207</td>\n    </tr>\n    <tr>\n      <th>3</th>\n      <td>0.398579</td>\n      <td>0.420155</td>\n    </tr>\n    <tr>\n      <th>4</th>\n      <td>-0.796240</td>\n      <td>-0.877539</td>\n    </tr>\n  </tbody>\n</table>\n</div>"
     },
     "metadata": {},
     "execution_count": 81
    }
   ],
   "source": [
    "principalComponents = pca.fit_transform(X_std) \n",
    "principalDf = pd.DataFrame(data = principalComponents , columns = ['principal component 1', 'principal component 2'])\n",
    "principalDf.head(5)"
   ]
  },
  {
   "cell_type": "code",
   "execution_count": 82,
   "metadata": {},
   "outputs": [
    {
     "output_type": "execute_result",
     "data": {
      "text/plain": [
       "   principal component 1  principal component 2        Group\n",
       "0               0.887653               0.108022  Nondemented\n",
       "1              -1.684698               0.673312          NaN\n",
       "2              -0.963298              -0.945207     Demented\n",
       "3               0.398579               0.420155          NaN\n",
       "4              -0.796240              -0.877539          NaN"
      ],
      "text/html": "<div>\n<style scoped>\n    .dataframe tbody tr th:only-of-type {\n        vertical-align: middle;\n    }\n\n    .dataframe tbody tr th {\n        vertical-align: top;\n    }\n\n    .dataframe thead th {\n        text-align: right;\n    }\n</style>\n<table border=\"1\" class=\"dataframe\">\n  <thead>\n    <tr style=\"text-align: right;\">\n      <th></th>\n      <th>principal component 1</th>\n      <th>principal component 2</th>\n      <th>Group</th>\n    </tr>\n  </thead>\n  <tbody>\n    <tr>\n      <th>0</th>\n      <td>0.887653</td>\n      <td>0.108022</td>\n      <td>Nondemented</td>\n    </tr>\n    <tr>\n      <th>1</th>\n      <td>-1.684698</td>\n      <td>0.673312</td>\n      <td>NaN</td>\n    </tr>\n    <tr>\n      <th>2</th>\n      <td>-0.963298</td>\n      <td>-0.945207</td>\n      <td>Demented</td>\n    </tr>\n    <tr>\n      <th>3</th>\n      <td>0.398579</td>\n      <td>0.420155</td>\n      <td>NaN</td>\n    </tr>\n    <tr>\n      <th>4</th>\n      <td>-0.796240</td>\n      <td>-0.877539</td>\n      <td>NaN</td>\n    </tr>\n  </tbody>\n</table>\n</div>"
     },
     "metadata": {},
     "execution_count": 82
    }
   ],
   "source": [
    "finalDf = pd.concat([principalDf, data_binary_encoded[['Group']]], axis = 1) \n",
    "finalDf.head(5)"
   ]
  },
  {
   "cell_type": "code",
   "execution_count": null,
   "metadata": {},
   "outputs": [],
   "source": []
  }
 ],
 "metadata": {
  "kernelspec": {
   "name": "python3",
   "display_name": "Python 3.8.5 64-bit (conda)"
  },
  "language_info": {
   "codemirror_mode": {
    "name": "ipython",
    "version": 3
   },
   "file_extension": ".py",
   "mimetype": "text/x-python",
   "name": "python",
   "nbconvert_exporter": "python",
   "pygments_lexer": "ipython3",
   "version": "3.8.5-final"
  }
 },
 "nbformat": 4,
 "nbformat_minor": 5
}