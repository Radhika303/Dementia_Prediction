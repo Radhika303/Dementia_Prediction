{
 "cells": [
  {
   "cell_type": "code",
   "execution_count": 14,
   "metadata": {},
   "outputs": [],
   "source": [
    "# Importing the libraries\n",
    "\n",
    "import pandas as pd\n",
    "import numpy as np\n",
    "import matplotlib.pyplot as plt"
   ]
  },
  {
   "cell_type": "code",
   "execution_count": 15,
   "metadata": {},
   "outputs": [
    {
     "output_type": "execute_result",
     "data": {
      "text/plain": [
       "  Subject ID         MRI ID        Group  Visit  MR Delay M/F Hand  Age  EDUC  \\\n",
       "0  OAS2_0001  OAS2_0001_MR1  Nondemented      1         0   M    R   87    14   \n",
       "1  OAS2_0001  OAS2_0001_MR2  Nondemented      2       457   M    R   88    14   \n",
       "2  OAS2_0002  OAS2_0002_MR1     Demented      1         0   M    R   75    12   \n",
       "3  OAS2_0002  OAS2_0002_MR2     Demented      2       560   M    R   76    12   \n",
       "4  OAS2_0002  OAS2_0002_MR3     Demented      3      1895   M    R   80    12   \n",
       "\n",
       "   SES  MMSE  CDR  eTIV   nWBV    ASF  \n",
       "0  2.0  27.0  0.0  1987  0.696  0.883  \n",
       "1  2.0  30.0  0.0  2004  0.681  0.876  \n",
       "2  NaN  23.0  0.5  1678  0.736  1.046  \n",
       "3  NaN  28.0  0.5  1738  0.713  1.010  \n",
       "4  NaN  22.0  0.5  1698  0.701  1.034  "
      ],
      "text/html": "<div>\n<style scoped>\n    .dataframe tbody tr th:only-of-type {\n        vertical-align: middle;\n    }\n\n    .dataframe tbody tr th {\n        vertical-align: top;\n    }\n\n    .dataframe thead th {\n        text-align: right;\n    }\n</style>\n<table border=\"1\" class=\"dataframe\">\n  <thead>\n    <tr style=\"text-align: right;\">\n      <th></th>\n      <th>Subject ID</th>\n      <th>MRI ID</th>\n      <th>Group</th>\n      <th>Visit</th>\n      <th>MR Delay</th>\n      <th>M/F</th>\n      <th>Hand</th>\n      <th>Age</th>\n      <th>EDUC</th>\n      <th>SES</th>\n      <th>MMSE</th>\n      <th>CDR</th>\n      <th>eTIV</th>\n      <th>nWBV</th>\n      <th>ASF</th>\n    </tr>\n  </thead>\n  <tbody>\n    <tr>\n      <th>0</th>\n      <td>OAS2_0001</td>\n      <td>OAS2_0001_MR1</td>\n      <td>Nondemented</td>\n      <td>1</td>\n      <td>0</td>\n      <td>M</td>\n      <td>R</td>\n      <td>87</td>\n      <td>14</td>\n      <td>2.0</td>\n      <td>27.0</td>\n      <td>0.0</td>\n      <td>1987</td>\n      <td>0.696</td>\n      <td>0.883</td>\n    </tr>\n    <tr>\n      <th>1</th>\n      <td>OAS2_0001</td>\n      <td>OAS2_0001_MR2</td>\n      <td>Nondemented</td>\n      <td>2</td>\n      <td>457</td>\n      <td>M</td>\n      <td>R</td>\n      <td>88</td>\n      <td>14</td>\n      <td>2.0</td>\n      <td>30.0</td>\n      <td>0.0</td>\n      <td>2004</td>\n      <td>0.681</td>\n      <td>0.876</td>\n    </tr>\n    <tr>\n      <th>2</th>\n      <td>OAS2_0002</td>\n      <td>OAS2_0002_MR1</td>\n      <td>Demented</td>\n      <td>1</td>\n      <td>0</td>\n      <td>M</td>\n      <td>R</td>\n      <td>75</td>\n      <td>12</td>\n      <td>NaN</td>\n      <td>23.0</td>\n      <td>0.5</td>\n      <td>1678</td>\n      <td>0.736</td>\n      <td>1.046</td>\n    </tr>\n    <tr>\n      <th>3</th>\n      <td>OAS2_0002</td>\n      <td>OAS2_0002_MR2</td>\n      <td>Demented</td>\n      <td>2</td>\n      <td>560</td>\n      <td>M</td>\n      <td>R</td>\n      <td>76</td>\n      <td>12</td>\n      <td>NaN</td>\n      <td>28.0</td>\n      <td>0.5</td>\n      <td>1738</td>\n      <td>0.713</td>\n      <td>1.010</td>\n    </tr>\n    <tr>\n      <th>4</th>\n      <td>OAS2_0002</td>\n      <td>OAS2_0002_MR3</td>\n      <td>Demented</td>\n      <td>3</td>\n      <td>1895</td>\n      <td>M</td>\n      <td>R</td>\n      <td>80</td>\n      <td>12</td>\n      <td>NaN</td>\n      <td>22.0</td>\n      <td>0.5</td>\n      <td>1698</td>\n      <td>0.701</td>\n      <td>1.034</td>\n    </tr>\n  </tbody>\n</table>\n</div>"
     },
     "metadata": {},
     "execution_count": 15
    }
   ],
   "source": [
    "data = pd.read_csv(\"oasis_longitudinal.csv\")\n",
    "data.head()"
   ]
  },
  {
   "cell_type": "code",
   "execution_count": 16,
   "metadata": {},
   "outputs": [
    {
     "output_type": "execute_result",
     "data": {
      "text/plain": [
       "Subject ID     0\n",
       "MRI ID         0\n",
       "Group          0\n",
       "Visit          0\n",
       "MR Delay       0\n",
       "M/F            0\n",
       "Hand           0\n",
       "Age            0\n",
       "EDUC           0\n",
       "SES           19\n",
       "MMSE           2\n",
       "CDR            0\n",
       "eTIV           0\n",
       "nWBV           0\n",
       "ASF            0\n",
       "dtype: int64"
      ]
     },
     "metadata": {},
     "execution_count": 16
    }
   ],
   "source": [
    "data.isnull().sum()"
   ]
  },
  {
   "cell_type": "code",
   "execution_count": 17,
   "metadata": {},
   "outputs": [
    {
     "output_type": "execute_result",
     "data": {
      "text/plain": [
       "    Subject ID         MRI ID        Group  Visit  MR Delay M/F Hand  Age  \\\n",
       "0    OAS2_0001  OAS2_0001_MR1  Nondemented      1         0   M    R   87   \n",
       "2    OAS2_0002  OAS2_0002_MR1     Demented      1         0   M    R   75   \n",
       "5    OAS2_0004  OAS2_0004_MR1  Nondemented      1         0   F    R   88   \n",
       "7    OAS2_0005  OAS2_0005_MR1  Nondemented      1         0   M    R   80   \n",
       "10   OAS2_0007  OAS2_0007_MR1     Demented      1         0   M    R   71   \n",
       "..         ...            ...          ...    ...       ...  ..  ...  ...   \n",
       "359  OAS2_0182  OAS2_0182_MR1     Demented      1         0   M    R   73   \n",
       "361  OAS2_0183  OAS2_0183_MR1  Nondemented      1         0   F    R   66   \n",
       "365  OAS2_0184  OAS2_0184_MR1     Demented      1         0   F    R   72   \n",
       "367  OAS2_0185  OAS2_0185_MR1     Demented      1         0   M    R   80   \n",
       "370  OAS2_0186  OAS2_0186_MR1  Nondemented      1         0   F    R   61   \n",
       "\n",
       "     EDUC  SES  MMSE  CDR  eTIV   nWBV    ASF  \n",
       "0      14  2.0  27.0  0.0  1987  0.696  0.883  \n",
       "2      12  NaN  23.0  0.5  1678  0.736  1.046  \n",
       "5      18  3.0  28.0  0.0  1215  0.710  1.444  \n",
       "7      12  4.0  28.0  0.0  1689  0.712  1.039  \n",
       "10     16  NaN  28.0  0.5  1357  0.748  1.293  \n",
       "..    ...  ...   ...  ...   ...    ...    ...  \n",
       "359    12  NaN  23.0  0.5  1661  0.698  1.056  \n",
       "361    13  2.0  30.0  0.0  1495  0.746  1.174  \n",
       "365    16  3.0  24.0  0.5  1354  0.733  1.296  \n",
       "367    16  1.0  28.0  0.5  1704  0.711  1.030  \n",
       "370    13  2.0  30.0  0.0  1319  0.801  1.331  \n",
       "\n",
       "[150 rows x 15 columns]"
      ],
      "text/html": "<div>\n<style scoped>\n    .dataframe tbody tr th:only-of-type {\n        vertical-align: middle;\n    }\n\n    .dataframe tbody tr th {\n        vertical-align: top;\n    }\n\n    .dataframe thead th {\n        text-align: right;\n    }\n</style>\n<table border=\"1\" class=\"dataframe\">\n  <thead>\n    <tr style=\"text-align: right;\">\n      <th></th>\n      <th>Subject ID</th>\n      <th>MRI ID</th>\n      <th>Group</th>\n      <th>Visit</th>\n      <th>MR Delay</th>\n      <th>M/F</th>\n      <th>Hand</th>\n      <th>Age</th>\n      <th>EDUC</th>\n      <th>SES</th>\n      <th>MMSE</th>\n      <th>CDR</th>\n      <th>eTIV</th>\n      <th>nWBV</th>\n      <th>ASF</th>\n    </tr>\n  </thead>\n  <tbody>\n    <tr>\n      <th>0</th>\n      <td>OAS2_0001</td>\n      <td>OAS2_0001_MR1</td>\n      <td>Nondemented</td>\n      <td>1</td>\n      <td>0</td>\n      <td>M</td>\n      <td>R</td>\n      <td>87</td>\n      <td>14</td>\n      <td>2.0</td>\n      <td>27.0</td>\n      <td>0.0</td>\n      <td>1987</td>\n      <td>0.696</td>\n      <td>0.883</td>\n    </tr>\n    <tr>\n      <th>2</th>\n      <td>OAS2_0002</td>\n      <td>OAS2_0002_MR1</td>\n      <td>Demented</td>\n      <td>1</td>\n      <td>0</td>\n      <td>M</td>\n      <td>R</td>\n      <td>75</td>\n      <td>12</td>\n      <td>NaN</td>\n      <td>23.0</td>\n      <td>0.5</td>\n      <td>1678</td>\n      <td>0.736</td>\n      <td>1.046</td>\n    </tr>\n    <tr>\n      <th>5</th>\n      <td>OAS2_0004</td>\n      <td>OAS2_0004_MR1</td>\n      <td>Nondemented</td>\n      <td>1</td>\n      <td>0</td>\n      <td>F</td>\n      <td>R</td>\n      <td>88</td>\n      <td>18</td>\n      <td>3.0</td>\n      <td>28.0</td>\n      <td>0.0</td>\n      <td>1215</td>\n      <td>0.710</td>\n      <td>1.444</td>\n    </tr>\n    <tr>\n      <th>7</th>\n      <td>OAS2_0005</td>\n      <td>OAS2_0005_MR1</td>\n      <td>Nondemented</td>\n      <td>1</td>\n      <td>0</td>\n      <td>M</td>\n      <td>R</td>\n      <td>80</td>\n      <td>12</td>\n      <td>4.0</td>\n      <td>28.0</td>\n      <td>0.0</td>\n      <td>1689</td>\n      <td>0.712</td>\n      <td>1.039</td>\n    </tr>\n    <tr>\n      <th>10</th>\n      <td>OAS2_0007</td>\n      <td>OAS2_0007_MR1</td>\n      <td>Demented</td>\n      <td>1</td>\n      <td>0</td>\n      <td>M</td>\n      <td>R</td>\n      <td>71</td>\n      <td>16</td>\n      <td>NaN</td>\n      <td>28.0</td>\n      <td>0.5</td>\n      <td>1357</td>\n      <td>0.748</td>\n      <td>1.293</td>\n    </tr>\n    <tr>\n      <th>...</th>\n      <td>...</td>\n      <td>...</td>\n      <td>...</td>\n      <td>...</td>\n      <td>...</td>\n      <td>...</td>\n      <td>...</td>\n      <td>...</td>\n      <td>...</td>\n      <td>...</td>\n      <td>...</td>\n      <td>...</td>\n      <td>...</td>\n      <td>...</td>\n      <td>...</td>\n    </tr>\n    <tr>\n      <th>359</th>\n      <td>OAS2_0182</td>\n      <td>OAS2_0182_MR1</td>\n      <td>Demented</td>\n      <td>1</td>\n      <td>0</td>\n      <td>M</td>\n      <td>R</td>\n      <td>73</td>\n      <td>12</td>\n      <td>NaN</td>\n      <td>23.0</td>\n      <td>0.5</td>\n      <td>1661</td>\n      <td>0.698</td>\n      <td>1.056</td>\n    </tr>\n    <tr>\n      <th>361</th>\n      <td>OAS2_0183</td>\n      <td>OAS2_0183_MR1</td>\n      <td>Nondemented</td>\n      <td>1</td>\n      <td>0</td>\n      <td>F</td>\n      <td>R</td>\n      <td>66</td>\n      <td>13</td>\n      <td>2.0</td>\n      <td>30.0</td>\n      <td>0.0</td>\n      <td>1495</td>\n      <td>0.746</td>\n      <td>1.174</td>\n    </tr>\n    <tr>\n      <th>365</th>\n      <td>OAS2_0184</td>\n      <td>OAS2_0184_MR1</td>\n      <td>Demented</td>\n      <td>1</td>\n      <td>0</td>\n      <td>F</td>\n      <td>R</td>\n      <td>72</td>\n      <td>16</td>\n      <td>3.0</td>\n      <td>24.0</td>\n      <td>0.5</td>\n      <td>1354</td>\n      <td>0.733</td>\n      <td>1.296</td>\n    </tr>\n    <tr>\n      <th>367</th>\n      <td>OAS2_0185</td>\n      <td>OAS2_0185_MR1</td>\n      <td>Demented</td>\n      <td>1</td>\n      <td>0</td>\n      <td>M</td>\n      <td>R</td>\n      <td>80</td>\n      <td>16</td>\n      <td>1.0</td>\n      <td>28.0</td>\n      <td>0.5</td>\n      <td>1704</td>\n      <td>0.711</td>\n      <td>1.030</td>\n    </tr>\n    <tr>\n      <th>370</th>\n      <td>OAS2_0186</td>\n      <td>OAS2_0186_MR1</td>\n      <td>Nondemented</td>\n      <td>1</td>\n      <td>0</td>\n      <td>F</td>\n      <td>R</td>\n      <td>61</td>\n      <td>13</td>\n      <td>2.0</td>\n      <td>30.0</td>\n      <td>0.0</td>\n      <td>1319</td>\n      <td>0.801</td>\n      <td>1.331</td>\n    </tr>\n  </tbody>\n</table>\n<p>150 rows × 15 columns</p>\n</div>"
     },
     "metadata": {},
     "execution_count": 17
    }
   ],
   "source": [
    "df = data[data[\"Visit\"] == 1]\n",
    "df"
   ]
  },
  {
   "cell_type": "code",
   "execution_count": 18,
   "metadata": {},
   "outputs": [
    {
     "output_type": "execute_result",
     "data": {
      "text/plain": [
       "Subject ID    0\n",
       "MRI ID        0\n",
       "Group         0\n",
       "Visit         0\n",
       "MR Delay      0\n",
       "M/F           0\n",
       "Hand          0\n",
       "Age           0\n",
       "EDUC          0\n",
       "SES           8\n",
       "MMSE          0\n",
       "CDR           0\n",
       "eTIV          0\n",
       "nWBV          0\n",
       "ASF           0\n",
       "dtype: int64"
      ]
     },
     "metadata": {},
     "execution_count": 18
    }
   ],
   "source": [
    "df.isnull().sum()"
   ]
  },
  {
   "cell_type": "code",
   "execution_count": 19,
   "metadata": {},
   "outputs": [
    {
     "output_type": "stream",
     "name": "stderr",
     "text": [
      "<ipython-input-19-de35f1517ac6>:1: SettingWithCopyWarning: \nA value is trying to be set on a copy of a slice from a DataFrame.\nTry using .loc[row_indexer,col_indexer] = value instead\n\nSee the caveats in the documentation: https://pandas.pydata.org/pandas-docs/stable/user_guide/indexing.html#returning-a-view-versus-a-copy\n  df['SES']= df['SES'].fillna(data['SES'].mean())\n"
     ]
    }
   ],
   "source": [
    "df['SES']= df['SES'].fillna(data['SES'].mean())\n",
    "    "
   ]
  },
  {
   "cell_type": "code",
   "execution_count": 20,
   "metadata": {},
   "outputs": [
    {
     "output_type": "execute_result",
     "data": {
      "text/plain": [
       "Subject ID    0\n",
       "MRI ID        0\n",
       "Group         0\n",
       "Visit         0\n",
       "MR Delay      0\n",
       "M/F           0\n",
       "Hand          0\n",
       "Age           0\n",
       "EDUC          0\n",
       "SES           0\n",
       "MMSE          0\n",
       "CDR           0\n",
       "eTIV          0\n",
       "nWBV          0\n",
       "ASF           0\n",
       "dtype: int64"
      ]
     },
     "metadata": {},
     "execution_count": 20
    }
   ],
   "source": [
    "df.isnull().sum()"
   ]
  },
  {
   "cell_type": "code",
   "execution_count": 21,
   "metadata": {},
   "outputs": [
    {
     "output_type": "execute_result",
     "data": {
      "text/plain": [
       "           Group M/F  Age  EDUC       SES  MMSE  CDR  eTIV   nWBV    ASF\n",
       "0    Nondemented   M   87    14  2.000000  27.0  0.0  1987  0.696  0.883\n",
       "2       Demented   M   75    12  2.460452  23.0  0.5  1678  0.736  1.046\n",
       "5    Nondemented   F   88    18  3.000000  28.0  0.0  1215  0.710  1.444\n",
       "7    Nondemented   M   80    12  4.000000  28.0  0.0  1689  0.712  1.039\n",
       "10      Demented   M   71    16  2.460452  28.0  0.5  1357  0.748  1.293\n",
       "..           ...  ..  ...   ...       ...   ...  ...   ...    ...    ...\n",
       "359     Demented   M   73    12  2.460452  23.0  0.5  1661  0.698  1.056\n",
       "361  Nondemented   F   66    13  2.000000  30.0  0.0  1495  0.746  1.174\n",
       "365     Demented   F   72    16  3.000000  24.0  0.5  1354  0.733  1.296\n",
       "367     Demented   M   80    16  1.000000  28.0  0.5  1704  0.711  1.030\n",
       "370  Nondemented   F   61    13  2.000000  30.0  0.0  1319  0.801  1.331\n",
       "\n",
       "[150 rows x 10 columns]"
      ],
      "text/html": "<div>\n<style scoped>\n    .dataframe tbody tr th:only-of-type {\n        vertical-align: middle;\n    }\n\n    .dataframe tbody tr th {\n        vertical-align: top;\n    }\n\n    .dataframe thead th {\n        text-align: right;\n    }\n</style>\n<table border=\"1\" class=\"dataframe\">\n  <thead>\n    <tr style=\"text-align: right;\">\n      <th></th>\n      <th>Group</th>\n      <th>M/F</th>\n      <th>Age</th>\n      <th>EDUC</th>\n      <th>SES</th>\n      <th>MMSE</th>\n      <th>CDR</th>\n      <th>eTIV</th>\n      <th>nWBV</th>\n      <th>ASF</th>\n    </tr>\n  </thead>\n  <tbody>\n    <tr>\n      <th>0</th>\n      <td>Nondemented</td>\n      <td>M</td>\n      <td>87</td>\n      <td>14</td>\n      <td>2.000000</td>\n      <td>27.0</td>\n      <td>0.0</td>\n      <td>1987</td>\n      <td>0.696</td>\n      <td>0.883</td>\n    </tr>\n    <tr>\n      <th>2</th>\n      <td>Demented</td>\n      <td>M</td>\n      <td>75</td>\n      <td>12</td>\n      <td>2.460452</td>\n      <td>23.0</td>\n      <td>0.5</td>\n      <td>1678</td>\n      <td>0.736</td>\n      <td>1.046</td>\n    </tr>\n    <tr>\n      <th>5</th>\n      <td>Nondemented</td>\n      <td>F</td>\n      <td>88</td>\n      <td>18</td>\n      <td>3.000000</td>\n      <td>28.0</td>\n      <td>0.0</td>\n      <td>1215</td>\n      <td>0.710</td>\n      <td>1.444</td>\n    </tr>\n    <tr>\n      <th>7</th>\n      <td>Nondemented</td>\n      <td>M</td>\n      <td>80</td>\n      <td>12</td>\n      <td>4.000000</td>\n      <td>28.0</td>\n      <td>0.0</td>\n      <td>1689</td>\n      <td>0.712</td>\n      <td>1.039</td>\n    </tr>\n    <tr>\n      <th>10</th>\n      <td>Demented</td>\n      <td>M</td>\n      <td>71</td>\n      <td>16</td>\n      <td>2.460452</td>\n      <td>28.0</td>\n      <td>0.5</td>\n      <td>1357</td>\n      <td>0.748</td>\n      <td>1.293</td>\n    </tr>\n    <tr>\n      <th>...</th>\n      <td>...</td>\n      <td>...</td>\n      <td>...</td>\n      <td>...</td>\n      <td>...</td>\n      <td>...</td>\n      <td>...</td>\n      <td>...</td>\n      <td>...</td>\n      <td>...</td>\n    </tr>\n    <tr>\n      <th>359</th>\n      <td>Demented</td>\n      <td>M</td>\n      <td>73</td>\n      <td>12</td>\n      <td>2.460452</td>\n      <td>23.0</td>\n      <td>0.5</td>\n      <td>1661</td>\n      <td>0.698</td>\n      <td>1.056</td>\n    </tr>\n    <tr>\n      <th>361</th>\n      <td>Nondemented</td>\n      <td>F</td>\n      <td>66</td>\n      <td>13</td>\n      <td>2.000000</td>\n      <td>30.0</td>\n      <td>0.0</td>\n      <td>1495</td>\n      <td>0.746</td>\n      <td>1.174</td>\n    </tr>\n    <tr>\n      <th>365</th>\n      <td>Demented</td>\n      <td>F</td>\n      <td>72</td>\n      <td>16</td>\n      <td>3.000000</td>\n      <td>24.0</td>\n      <td>0.5</td>\n      <td>1354</td>\n      <td>0.733</td>\n      <td>1.296</td>\n    </tr>\n    <tr>\n      <th>367</th>\n      <td>Demented</td>\n      <td>M</td>\n      <td>80</td>\n      <td>16</td>\n      <td>1.000000</td>\n      <td>28.0</td>\n      <td>0.5</td>\n      <td>1704</td>\n      <td>0.711</td>\n      <td>1.030</td>\n    </tr>\n    <tr>\n      <th>370</th>\n      <td>Nondemented</td>\n      <td>F</td>\n      <td>61</td>\n      <td>13</td>\n      <td>2.000000</td>\n      <td>30.0</td>\n      <td>0.0</td>\n      <td>1319</td>\n      <td>0.801</td>\n      <td>1.331</td>\n    </tr>\n  </tbody>\n</table>\n<p>150 rows × 10 columns</p>\n</div>"
     },
     "metadata": {},
     "execution_count": 21
    }
   ],
   "source": [
    "df=df.drop(['Subject ID', 'MRI ID', 'MR Delay', 'Visit', 'Hand'], axis=1) \n",
    "df"
   ]
  },
  {
   "cell_type": "code",
   "execution_count": 22,
   "metadata": {},
   "outputs": [
    {
     "output_type": "execute_result",
     "data": {
      "text/plain": [
       "          Group  Age  EDUC       SES  MMSE  CDR  eTIV   nWBV    ASF  M/F_F  \\\n",
       "0   Nondemented   87    14  2.000000  27.0  0.0  1987  0.696  0.883      0   \n",
       "2      Demented   75    12  2.460452  23.0  0.5  1678  0.736  1.046      0   \n",
       "5   Nondemented   88    18  3.000000  28.0  0.0  1215  0.710  1.444      1   \n",
       "7   Nondemented   80    12  4.000000  28.0  0.0  1689  0.712  1.039      0   \n",
       "10     Demented   71    16  2.460452  28.0  0.5  1357  0.748  1.293      0   \n",
       "\n",
       "    M/F_M  \n",
       "0       1  \n",
       "2       1  \n",
       "5       0  \n",
       "7       1  \n",
       "10      1  "
      ],
      "text/html": "<div>\n<style scoped>\n    .dataframe tbody tr th:only-of-type {\n        vertical-align: middle;\n    }\n\n    .dataframe tbody tr th {\n        vertical-align: top;\n    }\n\n    .dataframe thead th {\n        text-align: right;\n    }\n</style>\n<table border=\"1\" class=\"dataframe\">\n  <thead>\n    <tr style=\"text-align: right;\">\n      <th></th>\n      <th>Group</th>\n      <th>Age</th>\n      <th>EDUC</th>\n      <th>SES</th>\n      <th>MMSE</th>\n      <th>CDR</th>\n      <th>eTIV</th>\n      <th>nWBV</th>\n      <th>ASF</th>\n      <th>M/F_F</th>\n      <th>M/F_M</th>\n    </tr>\n  </thead>\n  <tbody>\n    <tr>\n      <th>0</th>\n      <td>Nondemented</td>\n      <td>87</td>\n      <td>14</td>\n      <td>2.000000</td>\n      <td>27.0</td>\n      <td>0.0</td>\n      <td>1987</td>\n      <td>0.696</td>\n      <td>0.883</td>\n      <td>0</td>\n      <td>1</td>\n    </tr>\n    <tr>\n      <th>2</th>\n      <td>Demented</td>\n      <td>75</td>\n      <td>12</td>\n      <td>2.460452</td>\n      <td>23.0</td>\n      <td>0.5</td>\n      <td>1678</td>\n      <td>0.736</td>\n      <td>1.046</td>\n      <td>0</td>\n      <td>1</td>\n    </tr>\n    <tr>\n      <th>5</th>\n      <td>Nondemented</td>\n      <td>88</td>\n      <td>18</td>\n      <td>3.000000</td>\n      <td>28.0</td>\n      <td>0.0</td>\n      <td>1215</td>\n      <td>0.710</td>\n      <td>1.444</td>\n      <td>1</td>\n      <td>0</td>\n    </tr>\n    <tr>\n      <th>7</th>\n      <td>Nondemented</td>\n      <td>80</td>\n      <td>12</td>\n      <td>4.000000</td>\n      <td>28.0</td>\n      <td>0.0</td>\n      <td>1689</td>\n      <td>0.712</td>\n      <td>1.039</td>\n      <td>0</td>\n      <td>1</td>\n    </tr>\n    <tr>\n      <th>10</th>\n      <td>Demented</td>\n      <td>71</td>\n      <td>16</td>\n      <td>2.460452</td>\n      <td>28.0</td>\n      <td>0.5</td>\n      <td>1357</td>\n      <td>0.748</td>\n      <td>1.293</td>\n      <td>0</td>\n      <td>1</td>\n    </tr>\n  </tbody>\n</table>\n</div>"
     },
     "metadata": {},
     "execution_count": 22
    }
   ],
   "source": [
    "clean = df.copy()\n",
    "data_binary_encoded = pd.get_dummies(clean, columns=[\"M/F\"])\n",
    "data_binary_encoded.head()\n"
   ]
  },
  {
   "cell_type": "code",
   "execution_count": 23,
   "metadata": {},
   "outputs": [
    {
     "output_type": "execute_result",
     "data": {
      "text/plain": [
       "           Group  Age  EDUC       SES  MMSE  CDR  eTIV   nWBV    ASF  Female  \\\n",
       "0    Nondemented   87    14  2.000000  27.0  0.0  1987  0.696  0.883       0   \n",
       "2       Demented   75    12  2.460452  23.0  0.5  1678  0.736  1.046       0   \n",
       "5    Nondemented   88    18  3.000000  28.0  0.0  1215  0.710  1.444       1   \n",
       "7    Nondemented   80    12  4.000000  28.0  0.0  1689  0.712  1.039       0   \n",
       "10      Demented   71    16  2.460452  28.0  0.5  1357  0.748  1.293       0   \n",
       "..           ...  ...   ...       ...   ...  ...   ...    ...    ...     ...   \n",
       "359     Demented   73    12  2.460452  23.0  0.5  1661  0.698  1.056       0   \n",
       "361  Nondemented   66    13  2.000000  30.0  0.0  1495  0.746  1.174       1   \n",
       "365     Demented   72    16  3.000000  24.0  0.5  1354  0.733  1.296       1   \n",
       "367     Demented   80    16  1.000000  28.0  0.5  1704  0.711  1.030       0   \n",
       "370  Nondemented   61    13  2.000000  30.0  0.0  1319  0.801  1.331       1   \n",
       "\n",
       "     Male  \n",
       "0       1  \n",
       "2       1  \n",
       "5       0  \n",
       "7       1  \n",
       "10      1  \n",
       "..    ...  \n",
       "359     1  \n",
       "361     0  \n",
       "365     0  \n",
       "367     1  \n",
       "370     0  \n",
       "\n",
       "[150 rows x 11 columns]"
      ],
      "text/html": "<div>\n<style scoped>\n    .dataframe tbody tr th:only-of-type {\n        vertical-align: middle;\n    }\n\n    .dataframe tbody tr th {\n        vertical-align: top;\n    }\n\n    .dataframe thead th {\n        text-align: right;\n    }\n</style>\n<table border=\"1\" class=\"dataframe\">\n  <thead>\n    <tr style=\"text-align: right;\">\n      <th></th>\n      <th>Group</th>\n      <th>Age</th>\n      <th>EDUC</th>\n      <th>SES</th>\n      <th>MMSE</th>\n      <th>CDR</th>\n      <th>eTIV</th>\n      <th>nWBV</th>\n      <th>ASF</th>\n      <th>Female</th>\n      <th>Male</th>\n    </tr>\n  </thead>\n  <tbody>\n    <tr>\n      <th>0</th>\n      <td>Nondemented</td>\n      <td>87</td>\n      <td>14</td>\n      <td>2.000000</td>\n      <td>27.0</td>\n      <td>0.0</td>\n      <td>1987</td>\n      <td>0.696</td>\n      <td>0.883</td>\n      <td>0</td>\n      <td>1</td>\n    </tr>\n    <tr>\n      <th>2</th>\n      <td>Demented</td>\n      <td>75</td>\n      <td>12</td>\n      <td>2.460452</td>\n      <td>23.0</td>\n      <td>0.5</td>\n      <td>1678</td>\n      <td>0.736</td>\n      <td>1.046</td>\n      <td>0</td>\n      <td>1</td>\n    </tr>\n    <tr>\n      <th>5</th>\n      <td>Nondemented</td>\n      <td>88</td>\n      <td>18</td>\n      <td>3.000000</td>\n      <td>28.0</td>\n      <td>0.0</td>\n      <td>1215</td>\n      <td>0.710</td>\n      <td>1.444</td>\n      <td>1</td>\n      <td>0</td>\n    </tr>\n    <tr>\n      <th>7</th>\n      <td>Nondemented</td>\n      <td>80</td>\n      <td>12</td>\n      <td>4.000000</td>\n      <td>28.0</td>\n      <td>0.0</td>\n      <td>1689</td>\n      <td>0.712</td>\n      <td>1.039</td>\n      <td>0</td>\n      <td>1</td>\n    </tr>\n    <tr>\n      <th>10</th>\n      <td>Demented</td>\n      <td>71</td>\n      <td>16</td>\n      <td>2.460452</td>\n      <td>28.0</td>\n      <td>0.5</td>\n      <td>1357</td>\n      <td>0.748</td>\n      <td>1.293</td>\n      <td>0</td>\n      <td>1</td>\n    </tr>\n    <tr>\n      <th>...</th>\n      <td>...</td>\n      <td>...</td>\n      <td>...</td>\n      <td>...</td>\n      <td>...</td>\n      <td>...</td>\n      <td>...</td>\n      <td>...</td>\n      <td>...</td>\n      <td>...</td>\n      <td>...</td>\n    </tr>\n    <tr>\n      <th>359</th>\n      <td>Demented</td>\n      <td>73</td>\n      <td>12</td>\n      <td>2.460452</td>\n      <td>23.0</td>\n      <td>0.5</td>\n      <td>1661</td>\n      <td>0.698</td>\n      <td>1.056</td>\n      <td>0</td>\n      <td>1</td>\n    </tr>\n    <tr>\n      <th>361</th>\n      <td>Nondemented</td>\n      <td>66</td>\n      <td>13</td>\n      <td>2.000000</td>\n      <td>30.0</td>\n      <td>0.0</td>\n      <td>1495</td>\n      <td>0.746</td>\n      <td>1.174</td>\n      <td>1</td>\n      <td>0</td>\n    </tr>\n    <tr>\n      <th>365</th>\n      <td>Demented</td>\n      <td>72</td>\n      <td>16</td>\n      <td>3.000000</td>\n      <td>24.0</td>\n      <td>0.5</td>\n      <td>1354</td>\n      <td>0.733</td>\n      <td>1.296</td>\n      <td>1</td>\n      <td>0</td>\n    </tr>\n    <tr>\n      <th>367</th>\n      <td>Demented</td>\n      <td>80</td>\n      <td>16</td>\n      <td>1.000000</td>\n      <td>28.0</td>\n      <td>0.5</td>\n      <td>1704</td>\n      <td>0.711</td>\n      <td>1.030</td>\n      <td>0</td>\n      <td>1</td>\n    </tr>\n    <tr>\n      <th>370</th>\n      <td>Nondemented</td>\n      <td>61</td>\n      <td>13</td>\n      <td>2.000000</td>\n      <td>30.0</td>\n      <td>0.0</td>\n      <td>1319</td>\n      <td>0.801</td>\n      <td>1.331</td>\n      <td>1</td>\n      <td>0</td>\n    </tr>\n  </tbody>\n</table>\n<p>150 rows × 11 columns</p>\n</div>"
     },
     "metadata": {},
     "execution_count": 23
    }
   ],
   "source": [
    "data_binary_encoded=data_binary_encoded.rename(columns={'M/F_M':'Male','M/F_F':'Female'})\n",
    "data_binary_encoded"
   ]
  },
  {
   "cell_type": "code",
   "execution_count": 24,
   "metadata": {},
   "outputs": [
    {
     "output_type": "stream",
     "name": "stdout",
     "text": [
      "(150, 10) (150,)\n"
     ]
    }
   ],
   "source": [
    "# Assign X (data) and y (target = DEMENTED/NOT)\n",
    "\n",
    "X = data_binary_encoded.drop(\"Group\", axis=1)\n",
    "y = data_binary_encoded[\"Group\"]\n",
    "print(X.shape, y.shape)"
   ]
  },
  {
   "cell_type": "code",
   "execution_count": 25,
   "metadata": {},
   "outputs": [],
   "source": [
    "# Split our data into training and testing\n",
    "\n",
    "from sklearn.model_selection import train_test_split\n",
    "\n",
    "X_train, X_test, y_train, y_test = train_test_split(X, y, random_state=1)"
   ]
  },
  {
   "cell_type": "code",
   "execution_count": 26,
   "metadata": {},
   "outputs": [
    {
     "output_type": "execute_result",
     "data": {
      "text/plain": [
       "LogisticRegression(max_iter=10000)"
      ]
     },
     "metadata": {},
     "execution_count": 26
    }
   ],
   "source": [
    "# LOGISTIC REGRESSION \n",
    "\n",
    "from sklearn.linear_model import LogisticRegression\n",
    "classifier = LogisticRegression(max_iter=10000)\n",
    "classifier"
   ]
  },
  {
   "cell_type": "code",
   "execution_count": 27,
   "metadata": {},
   "outputs": [
    {
     "output_type": "execute_result",
     "data": {
      "text/plain": [
       "LogisticRegression(max_iter=10000)"
      ]
     },
     "metadata": {},
     "execution_count": 27
    }
   ],
   "source": [
    "# Fit (train) or model using the training data\n",
    "\n",
    "classifier.fit(X_train, y_train)"
   ]
  },
  {
   "cell_type": "code",
   "execution_count": 28,
   "metadata": {},
   "outputs": [
    {
     "output_type": "stream",
     "name": "stdout",
     "text": [
      "Training Data Score: 0.9107142857142857\nTesting Data Score: 0.868421052631579\n"
     ]
    }
   ],
   "source": [
    "# Validate the model using the test data\n",
    "\n",
    "print(f\"Training Data Score: {classifier.score(X_train, y_train)}\")\n",
    "print(f\"Testing Data Score: {classifier.score(X_test, y_test)}\")"
   ]
  },
  {
   "cell_type": "code",
   "execution_count": 29,
   "metadata": {},
   "outputs": [
    {
     "output_type": "stream",
     "name": "stdout",
     "text": [
      "First 10 Predictions:   ['Nondemented' 'Nondemented' 'Nondemented' 'Nondemented' 'Nondemented'\n 'Nondemented' 'Demented' 'Nondemented' 'Demented' 'Demented']\nFirst 10 Actual labels: ['Converted', 'Nondemented', 'Converted', 'Nondemented', 'Nondemented', 'Nondemented', 'Nondemented', 'Converted', 'Demented', 'Demented']\n"
     ]
    }
   ],
   "source": [
    "# Make predictions\n",
    "\n",
    "predictions = classifier.predict(X_test)\n",
    "print(f\"First 10 Predictions:   {predictions[:10]}\")\n",
    "print(f\"First 10 Actual labels: {y_test[:10].tolist()}\")"
   ]
  },
  {
   "cell_type": "code",
   "execution_count": 30,
   "metadata": {},
   "outputs": [
    {
     "output_type": "execute_result",
     "data": {
      "text/plain": [
       "     Prediction       Actual\n",
       "0   Nondemented    Converted\n",
       "1   Nondemented  Nondemented\n",
       "2   Nondemented    Converted\n",
       "3   Nondemented  Nondemented\n",
       "4   Nondemented  Nondemented\n",
       "5   Nondemented  Nondemented\n",
       "6      Demented  Nondemented\n",
       "7   Nondemented    Converted\n",
       "8      Demented     Demented\n",
       "9      Demented     Demented\n",
       "10     Demented     Demented\n",
       "11  Nondemented  Nondemented\n",
       "12     Demented     Demented\n",
       "13  Nondemented  Nondemented\n",
       "14  Nondemented  Nondemented\n",
       "15  Nondemented  Nondemented\n",
       "16     Demented     Demented\n",
       "17     Demented     Demented\n",
       "18  Nondemented    Converted\n",
       "19  Nondemented  Nondemented\n",
       "20  Nondemented  Nondemented\n",
       "21     Demented     Demented\n",
       "22  Nondemented  Nondemented\n",
       "23     Demented     Demented\n",
       "24  Nondemented  Nondemented\n",
       "25     Demented     Demented\n",
       "26     Demented     Demented\n",
       "27  Nondemented  Nondemented\n",
       "28  Nondemented  Nondemented\n",
       "29  Nondemented  Nondemented\n",
       "30     Demented     Demented\n",
       "31  Nondemented  Nondemented\n",
       "32  Nondemented  Nondemented\n",
       "33  Nondemented  Nondemented\n",
       "34     Demented     Demented\n",
       "35     Demented     Demented\n",
       "36     Demented     Demented\n",
       "37     Demented     Demented"
      ],
      "text/html": "<div>\n<style scoped>\n    .dataframe tbody tr th:only-of-type {\n        vertical-align: middle;\n    }\n\n    .dataframe tbody tr th {\n        vertical-align: top;\n    }\n\n    .dataframe thead th {\n        text-align: right;\n    }\n</style>\n<table border=\"1\" class=\"dataframe\">\n  <thead>\n    <tr style=\"text-align: right;\">\n      <th></th>\n      <th>Prediction</th>\n      <th>Actual</th>\n    </tr>\n  </thead>\n  <tbody>\n    <tr>\n      <th>0</th>\n      <td>Nondemented</td>\n      <td>Converted</td>\n    </tr>\n    <tr>\n      <th>1</th>\n      <td>Nondemented</td>\n      <td>Nondemented</td>\n    </tr>\n    <tr>\n      <th>2</th>\n      <td>Nondemented</td>\n      <td>Converted</td>\n    </tr>\n    <tr>\n      <th>3</th>\n      <td>Nondemented</td>\n      <td>Nondemented</td>\n    </tr>\n    <tr>\n      <th>4</th>\n      <td>Nondemented</td>\n      <td>Nondemented</td>\n    </tr>\n    <tr>\n      <th>5</th>\n      <td>Nondemented</td>\n      <td>Nondemented</td>\n    </tr>\n    <tr>\n      <th>6</th>\n      <td>Demented</td>\n      <td>Nondemented</td>\n    </tr>\n    <tr>\n      <th>7</th>\n      <td>Nondemented</td>\n      <td>Converted</td>\n    </tr>\n    <tr>\n      <th>8</th>\n      <td>Demented</td>\n      <td>Demented</td>\n    </tr>\n    <tr>\n      <th>9</th>\n      <td>Demented</td>\n      <td>Demented</td>\n    </tr>\n    <tr>\n      <th>10</th>\n      <td>Demented</td>\n      <td>Demented</td>\n    </tr>\n    <tr>\n      <th>11</th>\n      <td>Nondemented</td>\n      <td>Nondemented</td>\n    </tr>\n    <tr>\n      <th>12</th>\n      <td>Demented</td>\n      <td>Demented</td>\n    </tr>\n    <tr>\n      <th>13</th>\n      <td>Nondemented</td>\n      <td>Nondemented</td>\n    </tr>\n    <tr>\n      <th>14</th>\n      <td>Nondemented</td>\n      <td>Nondemented</td>\n    </tr>\n    <tr>\n      <th>15</th>\n      <td>Nondemented</td>\n      <td>Nondemented</td>\n    </tr>\n    <tr>\n      <th>16</th>\n      <td>Demented</td>\n      <td>Demented</td>\n    </tr>\n    <tr>\n      <th>17</th>\n      <td>Demented</td>\n      <td>Demented</td>\n    </tr>\n    <tr>\n      <th>18</th>\n      <td>Nondemented</td>\n      <td>Converted</td>\n    </tr>\n    <tr>\n      <th>19</th>\n      <td>Nondemented</td>\n      <td>Nondemented</td>\n    </tr>\n    <tr>\n      <th>20</th>\n      <td>Nondemented</td>\n      <td>Nondemented</td>\n    </tr>\n    <tr>\n      <th>21</th>\n      <td>Demented</td>\n      <td>Demented</td>\n    </tr>\n    <tr>\n      <th>22</th>\n      <td>Nondemented</td>\n      <td>Nondemented</td>\n    </tr>\n    <tr>\n      <th>23</th>\n      <td>Demented</td>\n      <td>Demented</td>\n    </tr>\n    <tr>\n      <th>24</th>\n      <td>Nondemented</td>\n      <td>Nondemented</td>\n    </tr>\n    <tr>\n      <th>25</th>\n      <td>Demented</td>\n      <td>Demented</td>\n    </tr>\n    <tr>\n      <th>26</th>\n      <td>Demented</td>\n      <td>Demented</td>\n    </tr>\n    <tr>\n      <th>27</th>\n      <td>Nondemented</td>\n      <td>Nondemented</td>\n    </tr>\n    <tr>\n      <th>28</th>\n      <td>Nondemented</td>\n      <td>Nondemented</td>\n    </tr>\n    <tr>\n      <th>29</th>\n      <td>Nondemented</td>\n      <td>Nondemented</td>\n    </tr>\n    <tr>\n      <th>30</th>\n      <td>Demented</td>\n      <td>Demented</td>\n    </tr>\n    <tr>\n      <th>31</th>\n      <td>Nondemented</td>\n      <td>Nondemented</td>\n    </tr>\n    <tr>\n      <th>32</th>\n      <td>Nondemented</td>\n      <td>Nondemented</td>\n    </tr>\n    <tr>\n      <th>33</th>\n      <td>Nondemented</td>\n      <td>Nondemented</td>\n    </tr>\n    <tr>\n      <th>34</th>\n      <td>Demented</td>\n      <td>Demented</td>\n    </tr>\n    <tr>\n      <th>35</th>\n      <td>Demented</td>\n      <td>Demented</td>\n    </tr>\n    <tr>\n      <th>36</th>\n      <td>Demented</td>\n      <td>Demented</td>\n    </tr>\n    <tr>\n      <th>37</th>\n      <td>Demented</td>\n      <td>Demented</td>\n    </tr>\n  </tbody>\n</table>\n</div>"
     },
     "metadata": {},
     "execution_count": 30
    }
   ],
   "source": [
    "pd.DataFrame({\"Prediction\": predictions, \"Actual\": y_test}).reset_index(drop=True)"
   ]
  },
  {
   "cell_type": "code",
   "execution_count": 31,
   "metadata": {},
   "outputs": [],
   "source": [
    "# SVM\n",
    "\n",
    "target = data_binary_encoded[\"Group\"]\n",
    "target_names = [\"Demented\", \"Nondemented\", \"Converted\"]"
   ]
  },
  {
   "cell_type": "code",
   "execution_count": 32,
   "metadata": {},
   "outputs": [
    {
     "output_type": "execute_result",
     "data": {
      "text/plain": [
       "   Age  EDUC       SES  MMSE  CDR  eTIV   nWBV    ASF  Female  Male\n",
       "0   87    14  2.000000  27.0  0.0  1987  0.696  0.883       0     1\n",
       "1   75    12  2.460452  23.0  0.5  1678  0.736  1.046       0     1\n",
       "2   88    18  3.000000  28.0  0.0  1215  0.710  1.444       1     0\n",
       "3   80    12  4.000000  28.0  0.0  1689  0.712  1.039       0     1\n",
       "4   71    16  2.460452  28.0  0.5  1357  0.748  1.293       0     1"
      ],
      "text/html": "<div>\n<style scoped>\n    .dataframe tbody tr th:only-of-type {\n        vertical-align: middle;\n    }\n\n    .dataframe tbody tr th {\n        vertical-align: top;\n    }\n\n    .dataframe thead th {\n        text-align: right;\n    }\n</style>\n<table border=\"1\" class=\"dataframe\">\n  <thead>\n    <tr style=\"text-align: right;\">\n      <th></th>\n      <th>Age</th>\n      <th>EDUC</th>\n      <th>SES</th>\n      <th>MMSE</th>\n      <th>CDR</th>\n      <th>eTIV</th>\n      <th>nWBV</th>\n      <th>ASF</th>\n      <th>Female</th>\n      <th>Male</th>\n    </tr>\n  </thead>\n  <tbody>\n    <tr>\n      <th>0</th>\n      <td>87</td>\n      <td>14</td>\n      <td>2.000000</td>\n      <td>27.0</td>\n      <td>0.0</td>\n      <td>1987</td>\n      <td>0.696</td>\n      <td>0.883</td>\n      <td>0</td>\n      <td>1</td>\n    </tr>\n    <tr>\n      <th>1</th>\n      <td>75</td>\n      <td>12</td>\n      <td>2.460452</td>\n      <td>23.0</td>\n      <td>0.5</td>\n      <td>1678</td>\n      <td>0.736</td>\n      <td>1.046</td>\n      <td>0</td>\n      <td>1</td>\n    </tr>\n    <tr>\n      <th>2</th>\n      <td>88</td>\n      <td>18</td>\n      <td>3.000000</td>\n      <td>28.0</td>\n      <td>0.0</td>\n      <td>1215</td>\n      <td>0.710</td>\n      <td>1.444</td>\n      <td>1</td>\n      <td>0</td>\n    </tr>\n    <tr>\n      <th>3</th>\n      <td>80</td>\n      <td>12</td>\n      <td>4.000000</td>\n      <td>28.0</td>\n      <td>0.0</td>\n      <td>1689</td>\n      <td>0.712</td>\n      <td>1.039</td>\n      <td>0</td>\n      <td>1</td>\n    </tr>\n    <tr>\n      <th>4</th>\n      <td>71</td>\n      <td>16</td>\n      <td>2.460452</td>\n      <td>28.0</td>\n      <td>0.5</td>\n      <td>1357</td>\n      <td>0.748</td>\n      <td>1.293</td>\n      <td>0</td>\n      <td>1</td>\n    </tr>\n  </tbody>\n</table>\n</div>"
     },
     "metadata": {},
     "execution_count": 32
    }
   ],
   "source": [
    "data = data_binary_encoded.drop(\"Group\", axis=1).reset_index(drop=True)\n",
    "feature_names = data.columns\n",
    "data.head()"
   ]
  },
  {
   "cell_type": "code",
   "execution_count": 33,
   "metadata": {},
   "outputs": [],
   "source": [
    "X_train, X_test, y_train, y_test = train_test_split(data, target)"
   ]
  },
  {
   "cell_type": "code",
   "execution_count": 34,
   "metadata": {},
   "outputs": [
    {
     "output_type": "execute_result",
     "data": {
      "text/plain": [
       "SVC(kernel='linear')"
      ]
     },
     "metadata": {},
     "execution_count": 34
    }
   ],
   "source": [
    "# Support vector machine linear classifier\n",
    "\n",
    "from sklearn.svm import SVC \n",
    "model = SVC(kernel='linear')\n",
    "model.fit(X_train, y_train)"
   ]
  },
  {
   "cell_type": "code",
   "execution_count": 35,
   "metadata": {},
   "outputs": [
    {
     "output_type": "stream",
     "name": "stdout",
     "text": [
      "Test Accuracy: 0.947\n"
     ]
    }
   ],
   "source": [
    "# Model Accuracy\n",
    "\n",
    "print('Test Accuracy: %.3f' % model.score(X_test, y_test))"
   ]
  },
  {
   "cell_type": "code",
   "execution_count": 36,
   "metadata": {},
   "outputs": [
    {
     "output_type": "stream",
     "name": "stdout",
     "text": [
      "              precision    recall  f1-score   support\n\n    Demented       0.00      0.00      0.00         1\n Nondemented       1.00      0.93      0.96        14\n   Converted       0.96      1.00      0.98        23\n\n    accuracy                           0.95        38\n   macro avg       0.65      0.64      0.65        38\nweighted avg       0.95      0.95      0.95        38\n\n"
     ]
    }
   ],
   "source": [
    "# Calculate classification report\n",
    "\n",
    "from sklearn.metrics import classification_report\n",
    "predictions = model.predict(X_test)\n",
    "print(classification_report(y_test, predictions,\n",
    "                            target_names=target_names))"
   ]
  },
  {
   "cell_type": "code",
   "execution_count": 37,
   "metadata": {},
   "outputs": [],
   "source": [
    "from sklearn import tree"
   ]
  },
  {
   "cell_type": "code",
   "execution_count": 38,
   "metadata": {},
   "outputs": [
    {
     "output_type": "execute_result",
     "data": {
      "text/plain": [
       "0.8421052631578947"
      ]
     },
     "metadata": {},
     "execution_count": 38
    }
   ],
   "source": [
    "clf = tree.DecisionTreeClassifier()\n",
    "clf = clf.fit(X_train, y_train)\n",
    "clf.score(X_test, y_test)"
   ]
  },
  {
   "cell_type": "code",
   "execution_count": 39,
   "metadata": {},
   "outputs": [
    {
     "output_type": "stream",
     "name": "stdout",
     "text": [
      "1.0\n1.0\n"
     ]
    }
   ],
   "source": [
    "from sklearn.ensemble import RandomForestClassifier\n",
    "rf = RandomForestClassifier(n_estimators=200)\n",
    "rf = rf.fit(X_train, y_train)\n",
    "print(rf.score(X_test, y_test))\n",
    "print(rf.score(X_train, y_train))"
   ]
  },
  {
   "cell_type": "code",
   "execution_count": 40,
   "metadata": {},
   "outputs": [
    {
     "output_type": "execute_result",
     "data": {
      "text/plain": [
       "[(0.44683672652793927, 'CDR'),\n",
       " (0.16928284573927457, 'MMSE'),\n",
       " (0.08497322521434526, 'nWBV'),\n",
       " (0.07580802171101418, 'Age'),\n",
       " (0.06338950770936962, 'eTIV'),\n",
       " (0.058766897211569594, 'ASF'),\n",
       " (0.04166128504791039, 'EDUC'),\n",
       " (0.03751898169146594, 'SES'),\n",
       " (0.01148264957160953, 'Female'),\n",
       " (0.010279859575501765, 'Male')]"
      ]
     },
     "metadata": {},
     "execution_count": 40
    }
   ],
   "source": [
    "sorted(zip(rf.feature_importances_, feature_names), reverse=True)"
   ]
  },
  {
   "cell_type": "code",
   "execution_count": 41,
   "metadata": {},
   "outputs": [],
   "source": [
    "# OVERSAMPLING\n",
    "\n",
    "from sklearn.datasets import make_classification\n",
    "from imblearn.over_sampling import RandomOverSampler\n",
    "from collections import Counter"
   ]
  },
  {
   "cell_type": "code",
   "execution_count": 42,
   "metadata": {},
   "outputs": [],
   "source": [
    "# define dataset\n",
    "# X, y = make_classification(n_samples=10000, weights=[0.99], flip_y=0)"
   ]
  },
  {
   "cell_type": "code",
   "execution_count": 43,
   "metadata": {},
   "outputs": [
    {
     "output_type": "stream",
     "name": "stdout",
     "text": [
      "Counter({0: 9900, 1: 100})\n"
     ]
    }
   ],
   "source": [
    "# summarize class distribution\n",
    "# print(Counter(y))"
   ]
  },
  {
   "cell_type": "code",
   "execution_count": 66,
   "metadata": {},
   "outputs": [],
   "source": [
    "# define oversampling strategy\n",
    "oversample = RandomOverSampler(sampling_strategy='minority')"
   ]
  },
  {
   "cell_type": "code",
   "execution_count": 67,
   "metadata": {},
   "outputs": [],
   "source": [
    "# fit and apply the transform\n",
    "X_train_over, y_train_over = oversample.fit_resample(X_train, y_train)"
   ]
  },
  {
   "cell_type": "code",
   "execution_count": 68,
   "metadata": {},
   "outputs": [
    {
     "output_type": "stream",
     "name": "stdout",
     "text": [
      "Counter({'Converted': 50, 'Demented': 50, 'Nondemented': 49})\n"
     ]
    }
   ],
   "source": [
    "# summarize class distribution\n",
    "print(Counter(y_train_over))"
   ]
  },
  {
   "cell_type": "code",
   "execution_count": 69,
   "metadata": {},
   "outputs": [
    {
     "output_type": "execute_result",
     "data": {
      "text/plain": [
       "array([[ 1.8842905 , -0.57901585,  0.49013075, ...,  2.48772019,\n",
       "         0.82107083, -0.82107083],\n",
       "       [ 1.33780041,  1.16036645, -1.24214187, ...,  1.45911163,\n",
       "         0.82107083, -0.82107083],\n",
       "       [ 0.38144275, -0.92689231,  0.49013075, ..., -0.07220036,\n",
       "         0.82107083, -0.82107083],\n",
       "       ...,\n",
       "       [ 1.20117789,  0.46461353, -0.37600556, ...,  0.39183358,\n",
       "        -1.21792173,  1.21792173],\n",
       "       [ 0.6546878 ,  1.85611937, -1.24214187, ..., -0.72184787,\n",
       "        -1.21792173,  1.21792173],\n",
       "       [-1.121405  , -0.23113939,  1.35626706, ..., -0.27328173,\n",
       "         0.82107083, -0.82107083]])"
      ]
     },
     "metadata": {},
     "execution_count": 69
    }
   ],
   "source": [
    "# PCA\n",
    "\n",
    "# standardize data\n",
    "from sklearn.preprocessing import StandardScaler \n",
    "X_train_std = StandardScaler().fit_transform(X_train_over)\n",
    "X_train_std"
   ]
  },
  {
   "cell_type": "code",
   "execution_count": 70,
   "metadata": {},
   "outputs": [
    {
     "output_type": "execute_result",
     "data": {
      "text/plain": [
       "array([[ 0.02061576,  1.32424438, -1.49969018,  0.33161067, -0.7028635 ,\n",
       "        -0.07414645,  0.09634796, -0.03813218,  0.80757285, -0.80757285],\n",
       "       [-1.80731471,  0.49248758,  0.57260898,  0.72539834, -0.7028635 ,\n",
       "        -0.82427746,  1.52448442,  0.80347191,  0.80757285, -0.80757285],\n",
       "       [ 1.71797977,  1.32424438,  0.57260898, -0.062177  , -0.7028635 ,\n",
       "        -1.42194281, -0.94229673,  1.58652962,  0.80757285, -0.80757285],\n",
       "       [-0.10995071,  0.49248758, -0.4635406 ,  0.72539834, -0.7028635 ,\n",
       "         0.9931131 , -0.4489405 , -1.01146559, -1.23827837,  1.23827837],\n",
       "       [-1.80731471,  0.49248758, -1.49969018,  0.72539834, -0.7028635 ,\n",
       "         0.39544775,  0.64163643, -0.49186655,  0.80757285, -0.80757285],\n",
       "       [-0.50165009,  1.32424438, -0.4635406 ,  0.72539834, -0.7028635 ,\n",
       "        -0.47055715,  0.58970419,  0.38632901,  0.80757285, -0.80757285],\n",
       "       [-1.1544824 ,  0.49248758, -1.49969018, -3.60626602,  2.43934978,\n",
       "         1.50539769, -0.91633062, -1.3993353 , -1.23827837,  1.23827837],\n",
       "       [-1.1544824 ,  0.07660918, -0.4635406 , -1.24354001,  0.86824314,\n",
       "         0.60889966, -0.50087274, -0.68214226, -1.23827837,  1.23827837],\n",
       "       [-1.02391594,  0.49248758, -1.49969018,  0.33161067,  0.86824314,\n",
       "        -0.67791043,  0.51180584,  0.6205145 ,  0.80757285, -0.80757285],\n",
       "       [-0.10995071,  1.32424438, -0.4635406 ,  0.33161067, -0.7028635 ,\n",
       "         0.09051645, -0.24121156, -0.20645299, -1.23827837,  1.23827837],\n",
       "       [ 0.41231514, -1.17102603,  0.57260898, -2.03111535,  2.43934978,\n",
       "         0.26127798, -0.94229673, -0.36745551, -1.23827837,  1.23827837],\n",
       "       [-0.76278302,  0.49248758,  0.57260898,  0.72539834, -0.7028635 ,\n",
       "         0.26127798,  1.23885713, -0.36745551,  0.80757285, -0.80757285],\n",
       "       [-0.63221655, -0.33926922,  0.57260898,  0.33161067, -0.7028635 ,\n",
       "         0.46253264,  1.0570943 , -0.55773122,  0.80757285, -0.80757285],\n",
       "       [-0.37108363, -1.17102603,  1.60875856, -0.84975234,  0.86824314,\n",
       "         0.02953019,  0.79743313, -0.14058832,  0.80757285, -0.80757285],\n",
       "       [-0.24051717, -0.33926922,  0.57260898,  0.33161067,  0.86824314,\n",
       "        -1.28167441,  0.27811078,  1.39625391,  0.80757285, -0.80757285],\n",
       "       [-0.24051717,  0.49248758, -0.4635406 ,  0.33161067, -0.7028635 ,\n",
       "        -1.9830164 ,  1.03112819,  2.45740688,  0.80757285, -0.80757285],\n",
       "       [-0.89334948, -0.33926922,  1.60875856, -2.81869069,  2.43934978,\n",
       "        -0.70230493, -1.59144967,  0.65710598, -1.23827837,  1.23827837],\n",
       "       [ 1.45684684, -1.17102603,  1.60875856,  0.33161067, -0.7028635 ,\n",
       "         2.04207678, -1.12405955, -1.77988671, -1.23827837,  1.23827837],\n",
       "       [-0.24051717, -1.17102603,  0.57260898, -0.45596467,  0.86824314,\n",
       "        -0.14123134,  0.58970419,  0.03505079,  0.80757285, -0.80757285],\n",
       "       [ 1.5874133 , -0.33926922, -1.49969018,  0.72539834, -0.7028635 ,\n",
       "        -0.25710523, -0.81246615,  0.15214353,  0.80757285, -0.80757285],\n",
       "       [ 0.15118222,  0.49248758, -1.49969018, -0.062177  , -0.7028635 ,\n",
       "        -0.6230228 ,  0.40794137,  0.56196813,  0.80757285, -0.80757285],\n",
       "       [ 0.80401453,  1.32424438, -0.4635406 , -0.84975234,  0.86824314,\n",
       "        -1.67198647, -0.11138098,  1.95976273,  0.80757285, -0.80757285],\n",
       "       [-0.50165009,  1.32424438, -1.49969018,  0.72539834, -0.7028635 ,\n",
       "        -0.13513271, -0.39700827,  0.02773249,  0.80757285, -0.80757285],\n",
       "       [-1.1544824 , -1.17102603,  1.60875856,  0.72539834,  0.86824314,\n",
       "        -0.01316019,  0.87533148, -0.09667855, -1.23827837,  1.23827837],\n",
       "       [ 0.15118222,  0.49248758,  0.57260898,  0.72539834, -0.7028635 ,\n",
       "         2.34090946,  0.58970419, -1.97016242, -1.23827837,  1.23827837],\n",
       "       [ 0.54288161,  1.32424438, -0.4635406 ,  0.33161067, -0.7028635 ,\n",
       "         1.17607188, -1.33178849, -1.15783152,  0.80757285, -0.80757285],\n",
       "       [ 1.71797977, -2.83453963,  1.60875856, -1.24354001,  0.86824314,\n",
       "         1.23705814, -2.2406026 , -1.2017413 , -1.23827837,  1.23827837],\n",
       "       [ 0.02061576, -0.75514762,  1.60875856,  0.33161067,  0.86824314,\n",
       "        -0.19611897,  0.51180584,  0.08627886, -1.23827837,  1.23827837],\n",
       "       [-1.28504887, -0.75514762,  0.57260898,  0.33161067, -0.7028635 ,\n",
       "        -0.52544478,  2.35540017,  0.45219368, -1.23827837,  1.23827837],\n",
       "       [ 0.93458099, -1.17102603,  0.57260898, -0.45596467,  0.86824314,\n",
       "        -0.17172447, -0.86439838,  0.06432397, -1.23827837,  1.23827837],\n",
       "       [ 0.67344807, -1.17102603,  0.57260898,  0.33161067, -0.7028635 ,\n",
       "         2.04207678,  0.1482802 , -1.77256841, -1.23827837,  1.23827837],\n",
       "       [ 0.80401453, -1.17102603, -0.4635406 ,  0.72539834, -0.7028635 ,\n",
       "         0.91992959,  0.22617855, -0.94560092,  0.80757285, -0.80757285],\n",
       "       [ 0.41231514,  0.49248758, -0.4635406 ,  0.33161067, -0.7028635 ,\n",
       "        -0.70230493,  0.04441573,  0.64978768,  0.80757285, -0.80757285],\n",
       "       [ 2.37081208, -0.33926922, -0.4635406 ,  0.72539834, -0.7028635 ,\n",
       "        -1.07432112, -1.25389014,  1.11815865,  0.80757285, -0.80757285],\n",
       "       [ 0.28174868, -0.75514762, -0.4635406 ,  0.33161067, -0.7028635 ,\n",
       "        -0.59252967,  0.58970419,  0.52537664,  0.80757285, -0.80757285],\n",
       "       [-1.28504887,  1.32424438, -0.4635406 ,  0.72539834, -0.7028635 ,\n",
       "        -1.04382799,  1.70624724,  1.07424887,  0.80757285, -0.80757285],\n",
       "       [ 0.28174868,  0.49248758, -0.4635406 ,  0.33161067, -0.7028635 ,\n",
       "        -0.09244233, -0.60473721, -0.01617729,  0.80757285, -0.80757285],\n",
       "       [ 0.93458099,  0.07660918,  0.57260898,  0.33161067,  0.86824314,\n",
       "         0.31006699, -1.4875852 , -0.41136529, -1.23827837,  1.23827837]])"
      ]
     },
     "metadata": {},
     "execution_count": 70
    }
   ],
   "source": [
    "X_test_std = StandardScaler().fit_transform(X_test)\n",
    "X_test_std"
   ]
  },
  {
   "cell_type": "code",
   "execution_count": 71,
   "metadata": {},
   "outputs": [],
   "source": [
    "# use of Python library to directly compute Principal Components\n",
    "\n",
    "from sklearn.decomposition import PCA\n",
    "pca = PCA(n_components=2) "
   ]
  },
  {
   "cell_type": "code",
   "execution_count": 72,
   "metadata": {},
   "outputs": [
    {
     "output_type": "execute_result",
     "data": {
      "text/plain": [
       "   principal component 1  principal component 2\n",
       "0              -2.909597               0.232092\n",
       "1              -0.944389              -0.642740\n",
       "2              -1.079719              -0.132745\n",
       "3               2.625434              -0.735325\n",
       "4               4.163521              -0.227596"
      ],
      "text/html": "<div>\n<style scoped>\n    .dataframe tbody tr th:only-of-type {\n        vertical-align: middle;\n    }\n\n    .dataframe tbody tr th {\n        vertical-align: top;\n    }\n\n    .dataframe thead th {\n        text-align: right;\n    }\n</style>\n<table border=\"1\" class=\"dataframe\">\n  <thead>\n    <tr style=\"text-align: right;\">\n      <th></th>\n      <th>principal component 1</th>\n      <th>principal component 2</th>\n    </tr>\n  </thead>\n  <tbody>\n    <tr>\n      <th>0</th>\n      <td>-2.909597</td>\n      <td>0.232092</td>\n    </tr>\n    <tr>\n      <th>1</th>\n      <td>-0.944389</td>\n      <td>-0.642740</td>\n    </tr>\n    <tr>\n      <th>2</th>\n      <td>-1.079719</td>\n      <td>-0.132745</td>\n    </tr>\n    <tr>\n      <th>3</th>\n      <td>2.625434</td>\n      <td>-0.735325</td>\n    </tr>\n    <tr>\n      <th>4</th>\n      <td>4.163521</td>\n      <td>-0.227596</td>\n    </tr>\n  </tbody>\n</table>\n</div>"
     },
     "metadata": {},
     "execution_count": 72
    }
   ],
   "source": [
    "principalComponents = pca.fit_transform(X_train_std) \n",
    "principalDf_X_train = pd.DataFrame(data = principalComponents , columns = ['principal component 1', 'principal component 2'])\n",
    "principalDf_X_train.head(5)"
   ]
  },
  {
   "cell_type": "code",
   "execution_count": 73,
   "metadata": {},
   "outputs": [
    {
     "output_type": "execute_result",
     "data": {
      "text/plain": [
       "   principal component 1  principal component 2\n",
       "0              -1.849971              -0.685196\n",
       "1              -2.193787               0.217307\n",
       "2              -1.739394               1.013420\n",
       "3               1.162326              -1.736954\n",
       "4              -1.702774              -1.120831"
      ],
      "text/html": "<div>\n<style scoped>\n    .dataframe tbody tr th:only-of-type {\n        vertical-align: middle;\n    }\n\n    .dataframe tbody tr th {\n        vertical-align: top;\n    }\n\n    .dataframe thead th {\n        text-align: right;\n    }\n</style>\n<table border=\"1\" class=\"dataframe\">\n  <thead>\n    <tr style=\"text-align: right;\">\n      <th></th>\n      <th>principal component 1</th>\n      <th>principal component 2</th>\n    </tr>\n  </thead>\n  <tbody>\n    <tr>\n      <th>0</th>\n      <td>-1.849971</td>\n      <td>-0.685196</td>\n    </tr>\n    <tr>\n      <th>1</th>\n      <td>-2.193787</td>\n      <td>0.217307</td>\n    </tr>\n    <tr>\n      <th>2</th>\n      <td>-1.739394</td>\n      <td>1.013420</td>\n    </tr>\n    <tr>\n      <th>3</th>\n      <td>1.162326</td>\n      <td>-1.736954</td>\n    </tr>\n    <tr>\n      <th>4</th>\n      <td>-1.702774</td>\n      <td>-1.120831</td>\n    </tr>\n  </tbody>\n</table>\n</div>"
     },
     "metadata": {},
     "execution_count": 73
    }
   ],
   "source": [
    "principalComponents = pca.fit_transform(X_test_std) \n",
    "principalDf_X_test = pd.DataFrame(data = principalComponents , columns = ['principal component 1', 'principal component 2'])\n",
    "principalDf_X_test.head(5)"
   ]
  },
  {
   "cell_type": "code",
   "execution_count": 106,
   "metadata": {},
   "outputs": [
    {
     "output_type": "display_data",
     "data": {
      "text/plain": "<Figure size 576x360 with 1 Axes>",
      "image/svg+xml": "<?xml version=\"1.0\" encoding=\"utf-8\" standalone=\"no\"?>\r\n<!DOCTYPE svg PUBLIC \"-//W3C//DTD SVG 1.1//EN\"\r\n  \"http://www.w3.org/Graphics/SVG/1.1/DTD/svg11.dtd\">\r\n<!-- Created with matplotlib (https://matplotlib.org/) -->\r\n<svg height=\"342.592187pt\" version=\"1.1\" viewBox=\"0 0 501.059375 342.592187\" width=\"501.059375pt\" xmlns=\"http://www.w3.org/2000/svg\" xmlns:xlink=\"http://www.w3.org/1999/xlink\">\r\n <metadata>\r\n  <rdf:RDF xmlns:cc=\"http://creativecommons.org/ns#\" xmlns:dc=\"http://purl.org/dc/elements/1.1/\" xmlns:rdf=\"http://www.w3.org/1999/02/22-rdf-syntax-ns#\">\r\n   <cc:Work>\r\n    <dc:type rdf:resource=\"http://purl.org/dc/dcmitype/StillImage\"/>\r\n    <dc:date>2021-04-14T21:08:44.536757</dc:date>\r\n    <dc:format>image/svg+xml</dc:format>\r\n    <dc:creator>\r\n     <cc:Agent>\r\n      <dc:title>Matplotlib v3.3.4, https://matplotlib.org/</dc:title>\r\n     </cc:Agent>\r\n    </dc:creator>\r\n   </cc:Work>\r\n  </rdf:RDF>\r\n </metadata>\r\n <defs>\r\n  <style type=\"text/css\">*{stroke-linecap:butt;stroke-linejoin:round;}</style>\r\n </defs>\r\n <g id=\"figure_1\">\r\n  <g id=\"patch_1\">\r\n   <path d=\"M 0 342.592187 \r\nL 501.059375 342.592187 \r\nL 501.059375 0 \r\nL 0 0 \r\nz\r\n\" style=\"fill:none;\"/>\r\n  </g>\r\n  <g id=\"axes_1\">\r\n   <g id=\"patch_2\">\r\n    <path d=\"M 47.459375 300.196875 \r\nL 493.859375 300.196875 \r\nL 493.859375 28.396875 \r\nL 47.459375 28.396875 \r\nz\r\n\" style=\"fill:#ffffff;\"/>\r\n   </g>\r\n   <g id=\"PathCollection_1\">\r\n    <defs>\r\n     <path d=\"M -3.535534 3.535534 \r\nL 3.535534 3.535534 \r\nL 3.535534 -3.535534 \r\nL -3.535534 -3.535534 \r\nz\r\n\" id=\"m63723bcaaf\" style=\"stroke:#ff0000;stroke-opacity:0.9;\"/>\r\n    </defs>\r\n    <g clip-path=\"url(#p2afd7b4ea3)\">\r\n     <use style=\"fill:#ff0000;fill-opacity:0.9;stroke:#ff0000;stroke-opacity:0.9;\" x=\"216.506367\" xlink:href=\"#m63723bcaaf\" y=\"212.039584\"/>\r\n     <use style=\"fill:#ff0000;fill-opacity:0.9;stroke:#ff0000;stroke-opacity:0.9;\" x=\"473.568466\" xlink:href=\"#m63723bcaaf\" y=\"197.796933\"/>\r\n     <use style=\"fill:#ff0000;fill-opacity:0.9;stroke:#ff0000;stroke-opacity:0.9;\" x=\"382.785505\" xlink:href=\"#m63723bcaaf\" y=\"157.421894\"/>\r\n     <use style=\"fill:#ff0000;fill-opacity:0.9;stroke:#ff0000;stroke-opacity:0.9;\" x=\"146.770049\" xlink:href=\"#m63723bcaaf\" y=\"244.206783\"/>\r\n     <use style=\"fill:#ff0000;fill-opacity:0.9;stroke:#ff0000;stroke-opacity:0.9;\" x=\"294.491565\" xlink:href=\"#m63723bcaaf\" y=\"174.198145\"/>\r\n     <use style=\"fill:#ff0000;fill-opacity:0.9;stroke:#ff0000;stroke-opacity:0.9;\" x=\"175.840291\" xlink:href=\"#m63723bcaaf\" y=\"209.818848\"/>\r\n     <use style=\"fill:#ff0000;fill-opacity:0.9;stroke:#ff0000;stroke-opacity:0.9;\" x=\"222.579716\" xlink:href=\"#m63723bcaaf\" y=\"219.297932\"/>\r\n     <use style=\"fill:#ff0000;fill-opacity:0.9;stroke:#ff0000;stroke-opacity:0.9;\" x=\"312.724974\" xlink:href=\"#m63723bcaaf\" y=\"152.951939\"/>\r\n     <use style=\"fill:#ff0000;fill-opacity:0.9;stroke:#ff0000;stroke-opacity:0.9;\" x=\"295.996761\" xlink:href=\"#m63723bcaaf\" y=\"87.288657\"/>\r\n     <use style=\"fill:#ff0000;fill-opacity:0.9;stroke:#ff0000;stroke-opacity:0.9;\" x=\"213.527791\" xlink:href=\"#m63723bcaaf\" y=\"179.916899\"/>\r\n     <use style=\"fill:#ff0000;fill-opacity:0.9;stroke:#ff0000;stroke-opacity:0.9;\" x=\"414.482834\" xlink:href=\"#m63723bcaaf\" y=\"177.513533\"/>\r\n     <use style=\"fill:#ff0000;fill-opacity:0.9;stroke:#ff0000;stroke-opacity:0.9;\" x=\"213.024059\" xlink:href=\"#m63723bcaaf\" y=\"163.670452\"/>\r\n     <use style=\"fill:#ff0000;fill-opacity:0.9;stroke:#ff0000;stroke-opacity:0.9;\" x=\"154.790698\" xlink:href=\"#m63723bcaaf\" y=\"216.246996\"/>\r\n     <use style=\"fill:#ff0000;fill-opacity:0.9;stroke:#ff0000;stroke-opacity:0.9;\" x=\"275.800273\" xlink:href=\"#m63723bcaaf\" y=\"153.645089\"/>\r\n     <use style=\"fill:#ff0000;fill-opacity:0.9;stroke:#ff0000;stroke-opacity:0.9;\" x=\"217.099025\" xlink:href=\"#m63723bcaaf\" y=\"230.485633\"/>\r\n     <use style=\"fill:#ff0000;fill-opacity:0.9;stroke:#ff0000;stroke-opacity:0.9;\" x=\"199.422187\" xlink:href=\"#m63723bcaaf\" y=\"150.2802\"/>\r\n     <use style=\"fill:#ff0000;fill-opacity:0.9;stroke:#ff0000;stroke-opacity:0.9;\" x=\"131.88686\" xlink:href=\"#m63723bcaaf\" y=\"175.844027\"/>\r\n     <use style=\"fill:#ff0000;fill-opacity:0.9;stroke:#ff0000;stroke-opacity:0.9;\" x=\"397.015653\" xlink:href=\"#m63723bcaaf\" y=\"177.580807\"/>\r\n     <use style=\"fill:#ff0000;fill-opacity:0.9;stroke:#ff0000;stroke-opacity:0.9;\" x=\"287.695968\" xlink:href=\"#m63723bcaaf\" y=\"175.029594\"/>\r\n     <use style=\"fill:#ff0000;fill-opacity:0.9;stroke:#ff0000;stroke-opacity:0.9;\" x=\"307.190136\" xlink:href=\"#m63723bcaaf\" y=\"80.417494\"/>\r\n     <use style=\"fill:#ff0000;fill-opacity:0.9;stroke:#ff0000;stroke-opacity:0.9;\" x=\"375.436875\" xlink:href=\"#m63723bcaaf\" y=\"110.558042\"/>\r\n     <use style=\"fill:#ff0000;fill-opacity:0.9;stroke:#ff0000;stroke-opacity:0.9;\" x=\"342.237823\" xlink:href=\"#m63723bcaaf\" y=\"138.84483\"/>\r\n     <use style=\"fill:#ff0000;fill-opacity:0.9;stroke:#ff0000;stroke-opacity:0.9;\" x=\"179.687781\" xlink:href=\"#m63723bcaaf\" y=\"71.032174\"/>\r\n     <use style=\"fill:#ff0000;fill-opacity:0.9;stroke:#ff0000;stroke-opacity:0.9;\" x=\"271.743852\" xlink:href=\"#m63723bcaaf\" y=\"188.744557\"/>\r\n     <use style=\"fill:#ff0000;fill-opacity:0.9;stroke:#ff0000;stroke-opacity:0.9;\" x=\"414.450246\" xlink:href=\"#m63723bcaaf\" y=\"222.910472\"/>\r\n     <use style=\"fill:#ff0000;fill-opacity:0.9;stroke:#ff0000;stroke-opacity:0.9;\" x=\"258.125869\" xlink:href=\"#m63723bcaaf\" y=\"241.153418\"/>\r\n     <use style=\"fill:#ff0000;fill-opacity:0.9;stroke:#ff0000;stroke-opacity:0.9;\" x=\"298.958542\" xlink:href=\"#m63723bcaaf\" y=\"126.369427\"/>\r\n     <use style=\"fill:#ff0000;fill-opacity:0.9;stroke:#ff0000;stroke-opacity:0.9;\" x=\"460.317628\" xlink:href=\"#m63723bcaaf\" y=\"202.545976\"/>\r\n     <use style=\"fill:#ff0000;fill-opacity:0.9;stroke:#ff0000;stroke-opacity:0.9;\" x=\"462.420167\" xlink:href=\"#m63723bcaaf\" y=\"180.69406\"/>\r\n     <use style=\"fill:#ff0000;fill-opacity:0.9;stroke:#ff0000;stroke-opacity:0.9;\" x=\"425.569108\" xlink:href=\"#m63723bcaaf\" y=\"228.122241\"/>\r\n     <use style=\"fill:#ff0000;fill-opacity:0.9;stroke:#ff0000;stroke-opacity:0.9;\" x=\"301.137763\" xlink:href=\"#m63723bcaaf\" y=\"234.715062\"/>\r\n     <use style=\"fill:#ff0000;fill-opacity:0.9;stroke:#ff0000;stroke-opacity:0.9;\" x=\"197.62135\" xlink:href=\"#m63723bcaaf\" y=\"78.56845\"/>\r\n     <use style=\"fill:#ff0000;fill-opacity:0.9;stroke:#ff0000;stroke-opacity:0.9;\" x=\"451.374235\" xlink:href=\"#m63723bcaaf\" y=\"200.494177\"/>\r\n     <use style=\"fill:#ff0000;fill-opacity:0.9;stroke:#ff0000;stroke-opacity:0.9;\" x=\"399.238308\" xlink:href=\"#m63723bcaaf\" y=\"216.22232\"/>\r\n     <use style=\"fill:#ff0000;fill-opacity:0.9;stroke:#ff0000;stroke-opacity:0.9;\" x=\"372.57608\" xlink:href=\"#m63723bcaaf\" y=\"115.736312\"/>\r\n     <use style=\"fill:#ff0000;fill-opacity:0.9;stroke:#ff0000;stroke-opacity:0.9;\" x=\"177.035267\" xlink:href=\"#m63723bcaaf\" y=\"149.918733\"/>\r\n     <use style=\"fill:#ff0000;fill-opacity:0.9;stroke:#ff0000;stroke-opacity:0.9;\" x=\"185.607124\" xlink:href=\"#m63723bcaaf\" y=\"234.634045\"/>\r\n     <use style=\"fill:#ff0000;fill-opacity:0.9;stroke:#ff0000;stroke-opacity:0.9;\" x=\"132.440431\" xlink:href=\"#m63723bcaaf\" y=\"166.243178\"/>\r\n     <use style=\"fill:#ff0000;fill-opacity:0.9;stroke:#ff0000;stroke-opacity:0.9;\" x=\"220.288103\" xlink:href=\"#m63723bcaaf\" y=\"152.097973\"/>\r\n     <use style=\"fill:#ff0000;fill-opacity:0.9;stroke:#ff0000;stroke-opacity:0.9;\" x=\"251.550082\" xlink:href=\"#m63723bcaaf\" y=\"141.133097\"/>\r\n     <use style=\"fill:#ff0000;fill-opacity:0.9;stroke:#ff0000;stroke-opacity:0.9;\" x=\"295.255229\" xlink:href=\"#m63723bcaaf\" y=\"118.719449\"/>\r\n     <use style=\"fill:#ff0000;fill-opacity:0.9;stroke:#ff0000;stroke-opacity:0.9;\" x=\"184.54125\" xlink:href=\"#m63723bcaaf\" y=\"133.002859\"/>\r\n     <use style=\"fill:#ff0000;fill-opacity:0.9;stroke:#ff0000;stroke-opacity:0.9;\" x=\"180.014772\" xlink:href=\"#m63723bcaaf\" y=\"136.005429\"/>\r\n     <use style=\"fill:#ff0000;fill-opacity:0.9;stroke:#ff0000;stroke-opacity:0.9;\" x=\"412.25818\" xlink:href=\"#m63723bcaaf\" y=\"184.522544\"/>\r\n     <use style=\"fill:#ff0000;fill-opacity:0.9;stroke:#ff0000;stroke-opacity:0.9;\" x=\"169.463117\" xlink:href=\"#m63723bcaaf\" y=\"194.005771\"/>\r\n     <use style=\"fill:#ff0000;fill-opacity:0.9;stroke:#ff0000;stroke-opacity:0.9;\" x=\"260.83889\" xlink:href=\"#m63723bcaaf\" y=\"217.264959\"/>\r\n     <use style=\"fill:#ff0000;fill-opacity:0.9;stroke:#ff0000;stroke-opacity:0.9;\" x=\"385.379588\" xlink:href=\"#m63723bcaaf\" y=\"251.505221\"/>\r\n     <use style=\"fill:#ff0000;fill-opacity:0.9;stroke:#ff0000;stroke-opacity:0.9;\" x=\"195.036784\" xlink:href=\"#m63723bcaaf\" y=\"193.244673\"/>\r\n     <use style=\"fill:#ff0000;fill-opacity:0.9;stroke:#ff0000;stroke-opacity:0.9;\" x=\"185.607124\" xlink:href=\"#m63723bcaaf\" y=\"234.634045\"/>\r\n     <use style=\"fill:#ff0000;fill-opacity:0.9;stroke:#ff0000;stroke-opacity:0.9;\" x=\"404.601017\" xlink:href=\"#m63723bcaaf\" y=\"225.500898\"/>\r\n     <use style=\"fill:#ff0000;fill-opacity:0.9;stroke:#ff0000;stroke-opacity:0.9;\" x=\"219.43943\" xlink:href=\"#m63723bcaaf\" y=\"246.77041\"/>\r\n     <use style=\"fill:#ff0000;fill-opacity:0.9;stroke:#ff0000;stroke-opacity:0.9;\" x=\"398.103727\" xlink:href=\"#m63723bcaaf\" y=\"228.136977\"/>\r\n     <use style=\"fill:#ff0000;fill-opacity:0.9;stroke:#ff0000;stroke-opacity:0.9;\" x=\"322.872955\" xlink:href=\"#m63723bcaaf\" y=\"199.06471\"/>\r\n     <use style=\"fill:#ff0000;fill-opacity:0.9;stroke:#ff0000;stroke-opacity:0.9;\" x=\"146.770049\" xlink:href=\"#m63723bcaaf\" y=\"244.206783\"/>\r\n     <use style=\"fill:#ff0000;fill-opacity:0.9;stroke:#ff0000;stroke-opacity:0.9;\" x=\"406.6327\" xlink:href=\"#m63723bcaaf\" y=\"222.20311\"/>\r\n     <use style=\"fill:#ff0000;fill-opacity:0.9;stroke:#ff0000;stroke-opacity:0.9;\" x=\"146.770049\" xlink:href=\"#m63723bcaaf\" y=\"244.206783\"/>\r\n     <use style=\"fill:#ff0000;fill-opacity:0.9;stroke:#ff0000;stroke-opacity:0.9;\" x=\"195.036784\" xlink:href=\"#m63723bcaaf\" y=\"193.244673\"/>\r\n     <use style=\"fill:#ff0000;fill-opacity:0.9;stroke:#ff0000;stroke-opacity:0.9;\" x=\"322.872955\" xlink:href=\"#m63723bcaaf\" y=\"199.06471\"/>\r\n     <use style=\"fill:#ff0000;fill-opacity:0.9;stroke:#ff0000;stroke-opacity:0.9;\" x=\"404.601017\" xlink:href=\"#m63723bcaaf\" y=\"225.500898\"/>\r\n     <use style=\"fill:#ff0000;fill-opacity:0.9;stroke:#ff0000;stroke-opacity:0.9;\" x=\"404.601017\" xlink:href=\"#m63723bcaaf\" y=\"225.500898\"/>\r\n     <use style=\"fill:#ff0000;fill-opacity:0.9;stroke:#ff0000;stroke-opacity:0.9;\" x=\"182.86194\" xlink:href=\"#m63723bcaaf\" y=\"227.171253\"/>\r\n     <use style=\"fill:#ff0000;fill-opacity:0.9;stroke:#ff0000;stroke-opacity:0.9;\" x=\"185.607124\" xlink:href=\"#m63723bcaaf\" y=\"234.634045\"/>\r\n     <use style=\"fill:#ff0000;fill-opacity:0.9;stroke:#ff0000;stroke-opacity:0.9;\" x=\"406.6327\" xlink:href=\"#m63723bcaaf\" y=\"222.20311\"/>\r\n     <use style=\"fill:#ff0000;fill-opacity:0.9;stroke:#ff0000;stroke-opacity:0.9;\" x=\"185.607124\" xlink:href=\"#m63723bcaaf\" y=\"234.634045\"/>\r\n    </g>\r\n   </g>\r\n   <g id=\"PathCollection_2\">\r\n    <defs>\r\n     <path d=\"M -3.535534 3.535534 \r\nL 3.535534 3.535534 \r\nL 3.535534 -3.535534 \r\nL -3.535534 -3.535534 \r\nz\r\n\" id=\"m26c56baa05\" style=\"stroke:#008000;stroke-opacity:0.9;\"/>\r\n    </defs>\r\n    <g clip-path=\"url(#p2afd7b4ea3)\">\r\n     <use style=\"fill:#008000;fill-opacity:0.9;stroke:#008000;stroke-opacity:0.9;\" x=\"117.604769\" xlink:href=\"#m26c56baa05\" y=\"182.026062\"/>\r\n     <use style=\"fill:#008000;fill-opacity:0.9;stroke:#008000;stroke-opacity:0.9;\" x=\"209.69568\" xlink:href=\"#m26c56baa05\" y=\"194.54279\"/>\r\n     <use style=\"fill:#008000;fill-opacity:0.9;stroke:#008000;stroke-opacity:0.9;\" x=\"396.16224\" xlink:href=\"#m26c56baa05\" y=\"215.215976\"/>\r\n     <use style=\"fill:#008000;fill-opacity:0.9;stroke:#008000;stroke-opacity:0.9;\" x=\"364.930917\" xlink:href=\"#m26c56baa05\" y=\"126.974967\"/>\r\n     <use style=\"fill:#008000;fill-opacity:0.9;stroke:#008000;stroke-opacity:0.9;\" x=\"205.958671\" xlink:href=\"#m26c56baa05\" y=\"173.983596\"/>\r\n     <use style=\"fill:#008000;fill-opacity:0.9;stroke:#008000;stroke-opacity:0.9;\" x=\"266.386514\" xlink:href=\"#m26c56baa05\" y=\"211.163142\"/>\r\n     <use style=\"fill:#008000;fill-opacity:0.9;stroke:#008000;stroke-opacity:0.9;\" x=\"217.280727\" xlink:href=\"#m26c56baa05\" y=\"110.522917\"/>\r\n     <use style=\"fill:#008000;fill-opacity:0.9;stroke:#008000;stroke-opacity:0.9;\" x=\"322.872955\" xlink:href=\"#m26c56baa05\" y=\"199.06471\"/>\r\n     <use style=\"fill:#008000;fill-opacity:0.9;stroke:#008000;stroke-opacity:0.9;\" x=\"145.002722\" xlink:href=\"#m26c56baa05\" y=\"246.934215\"/>\r\n     <use style=\"fill:#008000;fill-opacity:0.9;stroke:#008000;stroke-opacity:0.9;\" x=\"234.436739\" xlink:href=\"#m26c56baa05\" y=\"214.026189\"/>\r\n     <use style=\"fill:#008000;fill-opacity:0.9;stroke:#008000;stroke-opacity:0.9;\" x=\"190.008705\" xlink:href=\"#m26c56baa05\" y=\"201.162596\"/>\r\n     <use style=\"fill:#008000;fill-opacity:0.9;stroke:#008000;stroke-opacity:0.9;\" x=\"375.963072\" xlink:href=\"#m26c56baa05\" y=\"148.879428\"/>\r\n     <use style=\"fill:#008000;fill-opacity:0.9;stroke:#008000;stroke-opacity:0.9;\" x=\"189.962948\" xlink:href=\"#m26c56baa05\" y=\"192.094619\"/>\r\n     <use style=\"fill:#008000;fill-opacity:0.9;stroke:#008000;stroke-opacity:0.9;\" x=\"250.691699\" xlink:href=\"#m26c56baa05\" y=\"245.80908\"/>\r\n     <use style=\"fill:#008000;fill-opacity:0.9;stroke:#008000;stroke-opacity:0.9;\" x=\"182.86194\" xlink:href=\"#m26c56baa05\" y=\"227.171253\"/>\r\n     <use style=\"fill:#008000;fill-opacity:0.9;stroke:#008000;stroke-opacity:0.9;\" x=\"334.618446\" xlink:href=\"#m26c56baa05\" y=\"86.036138\"/>\r\n     <use style=\"fill:#008000;fill-opacity:0.9;stroke:#008000;stroke-opacity:0.9;\" x=\"312.021914\" xlink:href=\"#m26c56baa05\" y=\"237.940461\"/>\r\n     <use style=\"fill:#008000;fill-opacity:0.9;stroke:#008000;stroke-opacity:0.9;\" x=\"161.344987\" xlink:href=\"#m26c56baa05\" y=\"185.613764\"/>\r\n     <use style=\"fill:#008000;fill-opacity:0.9;stroke:#008000;stroke-opacity:0.9;\" x=\"133.653664\" xlink:href=\"#m26c56baa05\" y=\"158.700335\"/>\r\n     <use style=\"fill:#008000;fill-opacity:0.9;stroke:#008000;stroke-opacity:0.9;\" x=\"239.614054\" xlink:href=\"#m26c56baa05\" y=\"210.300257\"/>\r\n     <use style=\"fill:#008000;fill-opacity:0.9;stroke:#008000;stroke-opacity:0.9;\" x=\"360.074458\" xlink:href=\"#m26c56baa05\" y=\"156.709581\"/>\r\n     <use style=\"fill:#008000;fill-opacity:0.9;stroke:#008000;stroke-opacity:0.9;\" x=\"166.047956\" xlink:href=\"#m26c56baa05\" y=\"246.345157\"/>\r\n     <use style=\"fill:#008000;fill-opacity:0.9;stroke:#008000;stroke-opacity:0.9;\" x=\"351.554102\" xlink:href=\"#m26c56baa05\" y=\"166.310736\"/>\r\n     <use style=\"fill:#008000;fill-opacity:0.9;stroke:#008000;stroke-opacity:0.9;\" x=\"384.065946\" xlink:href=\"#m26c56baa05\" y=\"162.958395\"/>\r\n     <use style=\"fill:#008000;fill-opacity:0.9;stroke:#008000;stroke-opacity:0.9;\" x=\"291.840134\" xlink:href=\"#m26c56baa05\" y=\"63.308313\"/>\r\n     <use style=\"fill:#008000;fill-opacity:0.9;stroke:#008000;stroke-opacity:0.9;\" x=\"425.862242\" xlink:href=\"#m26c56baa05\" y=\"257.012604\"/>\r\n     <use style=\"fill:#008000;fill-opacity:0.9;stroke:#008000;stroke-opacity:0.9;\" x=\"167.247914\" xlink:href=\"#m26c56baa05\" y=\"196.138517\"/>\r\n     <use style=\"fill:#008000;fill-opacity:0.9;stroke:#008000;stroke-opacity:0.9;\" x=\"406.6327\" xlink:href=\"#m26c56baa05\" y=\"222.20311\"/>\r\n     <use style=\"fill:#008000;fill-opacity:0.9;stroke:#008000;stroke-opacity:0.9;\" x=\"427.69391\" xlink:href=\"#m26c56baa05\" y=\"149.411018\"/>\r\n     <use style=\"fill:#008000;fill-opacity:0.9;stroke:#008000;stroke-opacity:0.9;\" x=\"175.682229\" xlink:href=\"#m26c56baa05\" y=\"167.47618\"/>\r\n     <use style=\"fill:#008000;fill-opacity:0.9;stroke:#008000;stroke-opacity:0.9;\" x=\"195.036784\" xlink:href=\"#m26c56baa05\" y=\"193.244673\"/>\r\n     <use style=\"fill:#008000;fill-opacity:0.9;stroke:#008000;stroke-opacity:0.9;\" x=\"274.16857\" xlink:href=\"#m26c56baa05\" y=\"220.529029\"/>\r\n     <use style=\"fill:#008000;fill-opacity:0.9;stroke:#008000;stroke-opacity:0.9;\" x=\"204.547262\" xlink:href=\"#m26c56baa05\" y=\"202.181069\"/>\r\n     <use style=\"fill:#008000;fill-opacity:0.9;stroke:#008000;stroke-opacity:0.9;\" x=\"191.008509\" xlink:href=\"#m26c56baa05\" y=\"47.070397\"/>\r\n     <use style=\"fill:#008000;fill-opacity:0.9;stroke:#008000;stroke-opacity:0.9;\" x=\"364.146708\" xlink:href=\"#m26c56baa05\" y=\"108.231682\"/>\r\n     <use style=\"fill:#008000;fill-opacity:0.9;stroke:#008000;stroke-opacity:0.9;\" x=\"326.009955\" xlink:href=\"#m26c56baa05\" y=\"40.75142\"/>\r\n     <use style=\"fill:#008000;fill-opacity:0.9;stroke:#008000;stroke-opacity:0.9;\" x=\"387.588957\" xlink:href=\"#m26c56baa05\" y=\"192.0127\"/>\r\n     <use style=\"fill:#008000;fill-opacity:0.9;stroke:#008000;stroke-opacity:0.9;\" x=\"404.601017\" xlink:href=\"#m26c56baa05\" y=\"225.500898\"/>\r\n     <use style=\"fill:#008000;fill-opacity:0.9;stroke:#008000;stroke-opacity:0.9;\" x=\"247.122807\" xlink:href=\"#m26c56baa05\" y=\"126.516336\"/>\r\n     <use style=\"fill:#008000;fill-opacity:0.9;stroke:#008000;stroke-opacity:0.9;\" x=\"219.459444\" xlink:href=\"#m26c56baa05\" y=\"249.877905\"/>\r\n     <use style=\"fill:#008000;fill-opacity:0.9;stroke:#008000;stroke-opacity:0.9;\" x=\"342.803096\" xlink:href=\"#m26c56baa05\" y=\"237.41298\"/>\r\n     <use style=\"fill:#008000;fill-opacity:0.9;stroke:#008000;stroke-opacity:0.9;\" x=\"160.825965\" xlink:href=\"#m26c56baa05\" y=\"113.006506\"/>\r\n     <use style=\"fill:#008000;fill-opacity:0.9;stroke:#008000;stroke-opacity:0.9;\" x=\"377.268348\" xlink:href=\"#m26c56baa05\" y=\"189.001116\"/>\r\n     <use style=\"fill:#008000;fill-opacity:0.9;stroke:#008000;stroke-opacity:0.9;\" x=\"197.429436\" xlink:href=\"#m26c56baa05\" y=\"287.84233\"/>\r\n     <use style=\"fill:#008000;fill-opacity:0.9;stroke:#008000;stroke-opacity:0.9;\" x=\"224.216117\" xlink:href=\"#m26c56baa05\" y=\"218.295717\"/>\r\n     <use style=\"fill:#008000;fill-opacity:0.9;stroke:#008000;stroke-opacity:0.9;\" x=\"281.15649\" xlink:href=\"#m26c56baa05\" y=\"180.048751\"/>\r\n     <use style=\"fill:#008000;fill-opacity:0.9;stroke:#008000;stroke-opacity:0.9;\" x=\"214.997636\" xlink:href=\"#m26c56baa05\" y=\"218.808488\"/>\r\n     <use style=\"fill:#008000;fill-opacity:0.9;stroke:#008000;stroke-opacity:0.9;\" x=\"138.139296\" xlink:href=\"#m26c56baa05\" y=\"246.783484\"/>\r\n     <use style=\"fill:#008000;fill-opacity:0.9;stroke:#008000;stroke-opacity:0.9;\" x=\"127.513948\" xlink:href=\"#m26c56baa05\" y=\"140.86865\"/>\r\n     <use style=\"fill:#008000;fill-opacity:0.9;stroke:#008000;stroke-opacity:0.9;\" x=\"219.43943\" xlink:href=\"#m26c56baa05\" y=\"246.77041\"/>\r\n     <use style=\"fill:#008000;fill-opacity:0.9;stroke:#008000;stroke-opacity:0.9;\" x=\"282.004578\" xlink:href=\"#m26c56baa05\" y=\"194.527458\"/>\r\n     <use style=\"fill:#008000;fill-opacity:0.9;stroke:#008000;stroke-opacity:0.9;\" x=\"398.103727\" xlink:href=\"#m26c56baa05\" y=\"228.136977\"/>\r\n     <use style=\"fill:#008000;fill-opacity:0.9;stroke:#008000;stroke-opacity:0.9;\" x=\"172.84232\" xlink:href=\"#m26c56baa05\" y=\"63.598017\"/>\r\n     <use style=\"fill:#008000;fill-opacity:0.9;stroke:#008000;stroke-opacity:0.9;\" x=\"162.211298\" xlink:href=\"#m26c56baa05\" y=\"181.242526\"/>\r\n     <use style=\"fill:#008000;fill-opacity:0.9;stroke:#008000;stroke-opacity:0.9;\" x=\"406.6327\" xlink:href=\"#m26c56baa05\" y=\"222.20311\"/>\r\n     <use style=\"fill:#008000;fill-opacity:0.9;stroke:#008000;stroke-opacity:0.9;\" x=\"209.69568\" xlink:href=\"#m26c56baa05\" y=\"194.54279\"/>\r\n     <use style=\"fill:#008000;fill-opacity:0.9;stroke:#008000;stroke-opacity:0.9;\" x=\"185.607124\" xlink:href=\"#m26c56baa05\" y=\"234.634045\"/>\r\n     <use style=\"fill:#008000;fill-opacity:0.9;stroke:#008000;stroke-opacity:0.9;\" x=\"219.43943\" xlink:href=\"#m26c56baa05\" y=\"246.77041\"/>\r\n     <use style=\"fill:#008000;fill-opacity:0.9;stroke:#008000;stroke-opacity:0.9;\" x=\"185.607124\" xlink:href=\"#m26c56baa05\" y=\"234.634045\"/>\r\n     <use style=\"fill:#008000;fill-opacity:0.9;stroke:#008000;stroke-opacity:0.9;\" x=\"185.607124\" xlink:href=\"#m26c56baa05\" y=\"234.634045\"/>\r\n     <use style=\"fill:#008000;fill-opacity:0.9;stroke:#008000;stroke-opacity:0.9;\" x=\"182.86194\" xlink:href=\"#m26c56baa05\" y=\"227.171253\"/>\r\n     <use style=\"fill:#008000;fill-opacity:0.9;stroke:#008000;stroke-opacity:0.9;\" x=\"406.6327\" xlink:href=\"#m26c56baa05\" y=\"222.20311\"/>\r\n     <use style=\"fill:#008000;fill-opacity:0.9;stroke:#008000;stroke-opacity:0.9;\" x=\"185.607124\" xlink:href=\"#m26c56baa05\" y=\"234.634045\"/>\r\n     <use style=\"fill:#008000;fill-opacity:0.9;stroke:#008000;stroke-opacity:0.9;\" x=\"185.607124\" xlink:href=\"#m26c56baa05\" y=\"234.634045\"/>\r\n     <use style=\"fill:#008000;fill-opacity:0.9;stroke:#008000;stroke-opacity:0.9;\" x=\"209.69568\" xlink:href=\"#m26c56baa05\" y=\"194.54279\"/>\r\n     <use style=\"fill:#008000;fill-opacity:0.9;stroke:#008000;stroke-opacity:0.9;\" x=\"398.103727\" xlink:href=\"#m26c56baa05\" y=\"228.136977\"/>\r\n     <use style=\"fill:#008000;fill-opacity:0.9;stroke:#008000;stroke-opacity:0.9;\" x=\"404.601017\" xlink:href=\"#m26c56baa05\" y=\"225.500898\"/>\r\n     <use style=\"fill:#008000;fill-opacity:0.9;stroke:#008000;stroke-opacity:0.9;\" x=\"206.55079\" xlink:href=\"#m26c56baa05\" y=\"187.849934\"/>\r\n     <use style=\"fill:#008000;fill-opacity:0.9;stroke:#008000;stroke-opacity:0.9;\" x=\"146.770049\" xlink:href=\"#m26c56baa05\" y=\"244.206783\"/>\r\n     <use style=\"fill:#008000;fill-opacity:0.9;stroke:#008000;stroke-opacity:0.9;\" x=\"169.463117\" xlink:href=\"#m26c56baa05\" y=\"194.005771\"/>\r\n     <use style=\"fill:#008000;fill-opacity:0.9;stroke:#008000;stroke-opacity:0.9;\" x=\"322.872955\" xlink:href=\"#m26c56baa05\" y=\"199.06471\"/>\r\n    </g>\r\n   </g>\r\n   <g id=\"PathCollection_3\">\r\n    <defs>\r\n     <path d=\"M -3.535534 3.535534 \r\nL 3.535534 3.535534 \r\nL 3.535534 -3.535534 \r\nL -3.535534 -3.535534 \r\nz\r\n\" id=\"mbf41c51557\" style=\"stroke:#0000ff;stroke-opacity:0.9;\"/>\r\n    </defs>\r\n    <g clip-path=\"url(#p2afd7b4ea3)\">\r\n     <use style=\"fill:#0000ff;fill-opacity:0.9;stroke:#0000ff;stroke-opacity:0.9;\" x=\"187.548104\" xlink:href=\"#mbf41c51557\" y=\"240.067504\"/>\r\n     <use style=\"fill:#0000ff;fill-opacity:0.9;stroke:#0000ff;stroke-opacity:0.9;\" x=\"142.825222\" xlink:href=\"#mbf41c51557\" y=\"221.322416\"/>\r\n     <use style=\"fill:#0000ff;fill-opacity:0.9;stroke:#0000ff;stroke-opacity:0.9;\" x=\"225.610183\" xlink:href=\"#mbf41c51557\" y=\"116.878723\"/>\r\n     <use style=\"fill:#0000ff;fill-opacity:0.9;stroke:#0000ff;stroke-opacity:0.9;\" x=\"206.55079\" xlink:href=\"#mbf41c51557\" y=\"187.849934\"/>\r\n     <use style=\"fill:#0000ff;fill-opacity:0.9;stroke:#0000ff;stroke-opacity:0.9;\" x=\"212.442715\" xlink:href=\"#mbf41c51557\" y=\"242.289691\"/>\r\n     <use style=\"fill:#0000ff;fill-opacity:0.9;stroke:#0000ff;stroke-opacity:0.9;\" x=\"168.679639\" xlink:href=\"#mbf41c51557\" y=\"185.072494\"/>\r\n     <use style=\"fill:#0000ff;fill-opacity:0.9;stroke:#0000ff;stroke-opacity:0.9;\" x=\"183.370904\" xlink:href=\"#mbf41c51557\" y=\"194.169982\"/>\r\n     <use style=\"fill:#0000ff;fill-opacity:0.9;stroke:#0000ff;stroke-opacity:0.9;\" x=\"226.865468\" xlink:href=\"#mbf41c51557\" y=\"77.745976\"/>\r\n     <use style=\"fill:#0000ff;fill-opacity:0.9;stroke:#0000ff;stroke-opacity:0.9;\" x=\"430.775098\" xlink:href=\"#mbf41c51557\" y=\"236.252929\"/>\r\n     <use style=\"fill:#0000ff;fill-opacity:0.9;stroke:#0000ff;stroke-opacity:0.9;\" x=\"67.750284\" xlink:href=\"#mbf41c51557\" y=\"99.971823\"/>\r\n     <use style=\"fill:#0000ff;fill-opacity:0.9;stroke:#0000ff;stroke-opacity:0.9;\" x=\"308.771635\" xlink:href=\"#mbf41c51557\" y=\"182.696856\"/>\r\n     <use style=\"fill:#0000ff;fill-opacity:0.9;stroke:#0000ff;stroke-opacity:0.9;\" x=\"219.43943\" xlink:href=\"#mbf41c51557\" y=\"246.77041\"/>\r\n     <use style=\"fill:#0000ff;fill-opacity:0.9;stroke:#0000ff;stroke-opacity:0.9;\" x=\"146.770049\" xlink:href=\"#mbf41c51557\" y=\"244.206783\"/>\r\n     <use style=\"fill:#0000ff;fill-opacity:0.9;stroke:#0000ff;stroke-opacity:0.9;\" x=\"169.463117\" xlink:href=\"#mbf41c51557\" y=\"194.005771\"/>\r\n    </g>\r\n   </g>\r\n   <g id=\"matplotlib.axis_1\">\r\n    <g id=\"xtick_1\">\r\n     <g id=\"line2d_1\">\r\n      <path clip-path=\"url(#p2afd7b4ea3)\" d=\"M 62.728823 300.196875 \r\nL 62.728823 28.396875 \r\n\" style=\"fill:none;stroke:#b0b0b0;stroke-linecap:square;stroke-width:0.8;\"/>\r\n     </g>\r\n     <g id=\"line2d_2\">\r\n      <defs>\r\n       <path d=\"M 0 0 \r\nL 0 3.5 \r\n\" id=\"m665b44fa36\" style=\"stroke:#000000;stroke-width:0.8;\"/>\r\n      </defs>\r\n      <g>\r\n       <use style=\"stroke:#000000;stroke-width:0.8;\" x=\"62.728823\" xlink:href=\"#m665b44fa36\" y=\"300.196875\"/>\r\n      </g>\r\n     </g>\r\n     <g id=\"text_1\">\r\n      <!-- −4 -->\r\n      <g transform=\"translate(55.357729 314.795312)scale(0.1 -0.1)\">\r\n       <defs>\r\n        <path d=\"M 10.59375 35.5 \r\nL 73.1875 35.5 \r\nL 73.1875 27.203125 \r\nL 10.59375 27.203125 \r\nz\r\n\" id=\"DejaVuSans-8722\"/>\r\n        <path d=\"M 37.796875 64.3125 \r\nL 12.890625 25.390625 \r\nL 37.796875 25.390625 \r\nz\r\nM 35.203125 72.90625 \r\nL 47.609375 72.90625 \r\nL 47.609375 25.390625 \r\nL 58.015625 25.390625 \r\nL 58.015625 17.1875 \r\nL 47.609375 17.1875 \r\nL 47.609375 0 \r\nL 37.796875 0 \r\nL 37.796875 17.1875 \r\nL 4.890625 17.1875 \r\nL 4.890625 26.703125 \r\nz\r\n\" id=\"DejaVuSans-52\"/>\r\n       </defs>\r\n       <use xlink:href=\"#DejaVuSans-8722\"/>\r\n       <use x=\"83.789062\" xlink:href=\"#DejaVuSans-52\"/>\r\n      </g>\r\n     </g>\r\n    </g>\r\n    <g id=\"xtick_2\">\r\n     <g id=\"line2d_3\">\r\n      <path clip-path=\"url(#p2afd7b4ea3)\" d=\"M 113.0551 300.196875 \r\nL 113.0551 28.396875 \r\n\" style=\"fill:none;stroke:#b0b0b0;stroke-linecap:square;stroke-width:0.8;\"/>\r\n     </g>\r\n     <g id=\"line2d_4\">\r\n      <g>\r\n       <use style=\"stroke:#000000;stroke-width:0.8;\" x=\"113.0551\" xlink:href=\"#m665b44fa36\" y=\"300.196875\"/>\r\n      </g>\r\n     </g>\r\n     <g id=\"text_2\">\r\n      <!-- −3 -->\r\n      <g transform=\"translate(105.684007 314.795312)scale(0.1 -0.1)\">\r\n       <defs>\r\n        <path d=\"M 40.578125 39.3125 \r\nQ 47.65625 37.796875 51.625 33 \r\nQ 55.609375 28.21875 55.609375 21.1875 \r\nQ 55.609375 10.40625 48.1875 4.484375 \r\nQ 40.765625 -1.421875 27.09375 -1.421875 \r\nQ 22.515625 -1.421875 17.65625 -0.515625 \r\nQ 12.796875 0.390625 7.625 2.203125 \r\nL 7.625 11.71875 \r\nQ 11.71875 9.328125 16.59375 8.109375 \r\nQ 21.484375 6.890625 26.8125 6.890625 \r\nQ 36.078125 6.890625 40.9375 10.546875 \r\nQ 45.796875 14.203125 45.796875 21.1875 \r\nQ 45.796875 27.640625 41.28125 31.265625 \r\nQ 36.765625 34.90625 28.71875 34.90625 \r\nL 20.21875 34.90625 \r\nL 20.21875 43.015625 \r\nL 29.109375 43.015625 \r\nQ 36.375 43.015625 40.234375 45.921875 \r\nQ 44.09375 48.828125 44.09375 54.296875 \r\nQ 44.09375 59.90625 40.109375 62.90625 \r\nQ 36.140625 65.921875 28.71875 65.921875 \r\nQ 24.65625 65.921875 20.015625 65.03125 \r\nQ 15.375 64.15625 9.8125 62.3125 \r\nL 9.8125 71.09375 \r\nQ 15.4375 72.65625 20.34375 73.4375 \r\nQ 25.25 74.21875 29.59375 74.21875 \r\nQ 40.828125 74.21875 47.359375 69.109375 \r\nQ 53.90625 64.015625 53.90625 55.328125 \r\nQ 53.90625 49.265625 50.4375 45.09375 \r\nQ 46.96875 40.921875 40.578125 39.3125 \r\nz\r\n\" id=\"DejaVuSans-51\"/>\r\n       </defs>\r\n       <use xlink:href=\"#DejaVuSans-8722\"/>\r\n       <use x=\"83.789062\" xlink:href=\"#DejaVuSans-51\"/>\r\n      </g>\r\n     </g>\r\n    </g>\r\n    <g id=\"xtick_3\">\r\n     <g id=\"line2d_5\">\r\n      <path clip-path=\"url(#p2afd7b4ea3)\" d=\"M 163.381378 300.196875 \r\nL 163.381378 28.396875 \r\n\" style=\"fill:none;stroke:#b0b0b0;stroke-linecap:square;stroke-width:0.8;\"/>\r\n     </g>\r\n     <g id=\"line2d_6\">\r\n      <g>\r\n       <use style=\"stroke:#000000;stroke-width:0.8;\" x=\"163.381378\" xlink:href=\"#m665b44fa36\" y=\"300.196875\"/>\r\n      </g>\r\n     </g>\r\n     <g id=\"text_3\">\r\n      <!-- −2 -->\r\n      <g transform=\"translate(156.010284 314.795312)scale(0.1 -0.1)\">\r\n       <defs>\r\n        <path d=\"M 19.1875 8.296875 \r\nL 53.609375 8.296875 \r\nL 53.609375 0 \r\nL 7.328125 0 \r\nL 7.328125 8.296875 \r\nQ 12.9375 14.109375 22.625 23.890625 \r\nQ 32.328125 33.6875 34.8125 36.53125 \r\nQ 39.546875 41.84375 41.421875 45.53125 \r\nQ 43.3125 49.21875 43.3125 52.78125 \r\nQ 43.3125 58.59375 39.234375 62.25 \r\nQ 35.15625 65.921875 28.609375 65.921875 \r\nQ 23.96875 65.921875 18.8125 64.3125 \r\nQ 13.671875 62.703125 7.8125 59.421875 \r\nL 7.8125 69.390625 \r\nQ 13.765625 71.78125 18.9375 73 \r\nQ 24.125 74.21875 28.421875 74.21875 \r\nQ 39.75 74.21875 46.484375 68.546875 \r\nQ 53.21875 62.890625 53.21875 53.421875 \r\nQ 53.21875 48.921875 51.53125 44.890625 \r\nQ 49.859375 40.875 45.40625 35.40625 \r\nQ 44.1875 33.984375 37.640625 27.21875 \r\nQ 31.109375 20.453125 19.1875 8.296875 \r\nz\r\n\" id=\"DejaVuSans-50\"/>\r\n       </defs>\r\n       <use xlink:href=\"#DejaVuSans-8722\"/>\r\n       <use x=\"83.789062\" xlink:href=\"#DejaVuSans-50\"/>\r\n      </g>\r\n     </g>\r\n    </g>\r\n    <g id=\"xtick_4\">\r\n     <g id=\"line2d_7\">\r\n      <path clip-path=\"url(#p2afd7b4ea3)\" d=\"M 213.707655 300.196875 \r\nL 213.707655 28.396875 \r\n\" style=\"fill:none;stroke:#b0b0b0;stroke-linecap:square;stroke-width:0.8;\"/>\r\n     </g>\r\n     <g id=\"line2d_8\">\r\n      <g>\r\n       <use style=\"stroke:#000000;stroke-width:0.8;\" x=\"213.707655\" xlink:href=\"#m665b44fa36\" y=\"300.196875\"/>\r\n      </g>\r\n     </g>\r\n     <g id=\"text_4\">\r\n      <!-- −1 -->\r\n      <g transform=\"translate(206.336562 314.795312)scale(0.1 -0.1)\">\r\n       <defs>\r\n        <path d=\"M 12.40625 8.296875 \r\nL 28.515625 8.296875 \r\nL 28.515625 63.921875 \r\nL 10.984375 60.40625 \r\nL 10.984375 69.390625 \r\nL 28.421875 72.90625 \r\nL 38.28125 72.90625 \r\nL 38.28125 8.296875 \r\nL 54.390625 8.296875 \r\nL 54.390625 0 \r\nL 12.40625 0 \r\nz\r\n\" id=\"DejaVuSans-49\"/>\r\n       </defs>\r\n       <use xlink:href=\"#DejaVuSans-8722\"/>\r\n       <use x=\"83.789062\" xlink:href=\"#DejaVuSans-49\"/>\r\n      </g>\r\n     </g>\r\n    </g>\r\n    <g id=\"xtick_5\">\r\n     <g id=\"line2d_9\">\r\n      <path clip-path=\"url(#p2afd7b4ea3)\" d=\"M 264.033933 300.196875 \r\nL 264.033933 28.396875 \r\n\" style=\"fill:none;stroke:#b0b0b0;stroke-linecap:square;stroke-width:0.8;\"/>\r\n     </g>\r\n     <g id=\"line2d_10\">\r\n      <g>\r\n       <use style=\"stroke:#000000;stroke-width:0.8;\" x=\"264.033933\" xlink:href=\"#m665b44fa36\" y=\"300.196875\"/>\r\n      </g>\r\n     </g>\r\n     <g id=\"text_5\">\r\n      <!-- 0 -->\r\n      <g transform=\"translate(260.852683 314.795312)scale(0.1 -0.1)\">\r\n       <defs>\r\n        <path d=\"M 31.78125 66.40625 \r\nQ 24.171875 66.40625 20.328125 58.90625 \r\nQ 16.5 51.421875 16.5 36.375 \r\nQ 16.5 21.390625 20.328125 13.890625 \r\nQ 24.171875 6.390625 31.78125 6.390625 \r\nQ 39.453125 6.390625 43.28125 13.890625 \r\nQ 47.125 21.390625 47.125 36.375 \r\nQ 47.125 51.421875 43.28125 58.90625 \r\nQ 39.453125 66.40625 31.78125 66.40625 \r\nz\r\nM 31.78125 74.21875 \r\nQ 44.046875 74.21875 50.515625 64.515625 \r\nQ 56.984375 54.828125 56.984375 36.375 \r\nQ 56.984375 17.96875 50.515625 8.265625 \r\nQ 44.046875 -1.421875 31.78125 -1.421875 \r\nQ 19.53125 -1.421875 13.0625 8.265625 \r\nQ 6.59375 17.96875 6.59375 36.375 \r\nQ 6.59375 54.828125 13.0625 64.515625 \r\nQ 19.53125 74.21875 31.78125 74.21875 \r\nz\r\n\" id=\"DejaVuSans-48\"/>\r\n       </defs>\r\n       <use xlink:href=\"#DejaVuSans-48\"/>\r\n      </g>\r\n     </g>\r\n    </g>\r\n    <g id=\"xtick_6\">\r\n     <g id=\"line2d_11\">\r\n      <path clip-path=\"url(#p2afd7b4ea3)\" d=\"M 314.360211 300.196875 \r\nL 314.360211 28.396875 \r\n\" style=\"fill:none;stroke:#b0b0b0;stroke-linecap:square;stroke-width:0.8;\"/>\r\n     </g>\r\n     <g id=\"line2d_12\">\r\n      <g>\r\n       <use style=\"stroke:#000000;stroke-width:0.8;\" x=\"314.360211\" xlink:href=\"#m665b44fa36\" y=\"300.196875\"/>\r\n      </g>\r\n     </g>\r\n     <g id=\"text_6\">\r\n      <!-- 1 -->\r\n      <g transform=\"translate(311.178961 314.795312)scale(0.1 -0.1)\">\r\n       <use xlink:href=\"#DejaVuSans-49\"/>\r\n      </g>\r\n     </g>\r\n    </g>\r\n    <g id=\"xtick_7\">\r\n     <g id=\"line2d_13\">\r\n      <path clip-path=\"url(#p2afd7b4ea3)\" d=\"M 364.686488 300.196875 \r\nL 364.686488 28.396875 \r\n\" style=\"fill:none;stroke:#b0b0b0;stroke-linecap:square;stroke-width:0.8;\"/>\r\n     </g>\r\n     <g id=\"line2d_14\">\r\n      <g>\r\n       <use style=\"stroke:#000000;stroke-width:0.8;\" x=\"364.686488\" xlink:href=\"#m665b44fa36\" y=\"300.196875\"/>\r\n      </g>\r\n     </g>\r\n     <g id=\"text_7\">\r\n      <!-- 2 -->\r\n      <g transform=\"translate(361.505238 314.795312)scale(0.1 -0.1)\">\r\n       <use xlink:href=\"#DejaVuSans-50\"/>\r\n      </g>\r\n     </g>\r\n    </g>\r\n    <g id=\"xtick_8\">\r\n     <g id=\"line2d_15\">\r\n      <path clip-path=\"url(#p2afd7b4ea3)\" d=\"M 415.012766 300.196875 \r\nL 415.012766 28.396875 \r\n\" style=\"fill:none;stroke:#b0b0b0;stroke-linecap:square;stroke-width:0.8;\"/>\r\n     </g>\r\n     <g id=\"line2d_16\">\r\n      <g>\r\n       <use style=\"stroke:#000000;stroke-width:0.8;\" x=\"415.012766\" xlink:href=\"#m665b44fa36\" y=\"300.196875\"/>\r\n      </g>\r\n     </g>\r\n     <g id=\"text_8\">\r\n      <!-- 3 -->\r\n      <g transform=\"translate(411.831516 314.795312)scale(0.1 -0.1)\">\r\n       <use xlink:href=\"#DejaVuSans-51\"/>\r\n      </g>\r\n     </g>\r\n    </g>\r\n    <g id=\"xtick_9\">\r\n     <g id=\"line2d_17\">\r\n      <path clip-path=\"url(#p2afd7b4ea3)\" d=\"M 465.339043 300.196875 \r\nL 465.339043 28.396875 \r\n\" style=\"fill:none;stroke:#b0b0b0;stroke-linecap:square;stroke-width:0.8;\"/>\r\n     </g>\r\n     <g id=\"line2d_18\">\r\n      <g>\r\n       <use style=\"stroke:#000000;stroke-width:0.8;\" x=\"465.339043\" xlink:href=\"#m665b44fa36\" y=\"300.196875\"/>\r\n      </g>\r\n     </g>\r\n     <g id=\"text_9\">\r\n      <!-- 4 -->\r\n      <g transform=\"translate(462.157793 314.795312)scale(0.1 -0.1)\">\r\n       <use xlink:href=\"#DejaVuSans-52\"/>\r\n      </g>\r\n     </g>\r\n    </g>\r\n    <g id=\"text_10\">\r\n     <!-- Principal Component 1 -->\r\n     <g transform=\"translate(185.617578 332.272656)scale(0.15 -0.15)\">\r\n      <defs>\r\n       <path d=\"M 19.671875 64.796875 \r\nL 19.671875 37.40625 \r\nL 32.078125 37.40625 \r\nQ 38.96875 37.40625 42.71875 40.96875 \r\nQ 46.484375 44.53125 46.484375 51.125 \r\nQ 46.484375 57.671875 42.71875 61.234375 \r\nQ 38.96875 64.796875 32.078125 64.796875 \r\nz\r\nM 9.8125 72.90625 \r\nL 32.078125 72.90625 \r\nQ 44.34375 72.90625 50.609375 67.359375 \r\nQ 56.890625 61.8125 56.890625 51.125 \r\nQ 56.890625 40.328125 50.609375 34.8125 \r\nQ 44.34375 29.296875 32.078125 29.296875 \r\nL 19.671875 29.296875 \r\nL 19.671875 0 \r\nL 9.8125 0 \r\nz\r\n\" id=\"DejaVuSans-80\"/>\r\n       <path d=\"M 41.109375 46.296875 \r\nQ 39.59375 47.171875 37.8125 47.578125 \r\nQ 36.03125 48 33.890625 48 \r\nQ 26.265625 48 22.1875 43.046875 \r\nQ 18.109375 38.09375 18.109375 28.8125 \r\nL 18.109375 0 \r\nL 9.078125 0 \r\nL 9.078125 54.6875 \r\nL 18.109375 54.6875 \r\nL 18.109375 46.1875 \r\nQ 20.953125 51.171875 25.484375 53.578125 \r\nQ 30.03125 56 36.53125 56 \r\nQ 37.453125 56 38.578125 55.875 \r\nQ 39.703125 55.765625 41.0625 55.515625 \r\nz\r\n\" id=\"DejaVuSans-114\"/>\r\n       <path d=\"M 9.421875 54.6875 \r\nL 18.40625 54.6875 \r\nL 18.40625 0 \r\nL 9.421875 0 \r\nz\r\nM 9.421875 75.984375 \r\nL 18.40625 75.984375 \r\nL 18.40625 64.59375 \r\nL 9.421875 64.59375 \r\nz\r\n\" id=\"DejaVuSans-105\"/>\r\n       <path d=\"M 54.890625 33.015625 \r\nL 54.890625 0 \r\nL 45.90625 0 \r\nL 45.90625 32.71875 \r\nQ 45.90625 40.484375 42.875 44.328125 \r\nQ 39.84375 48.1875 33.796875 48.1875 \r\nQ 26.515625 48.1875 22.3125 43.546875 \r\nQ 18.109375 38.921875 18.109375 30.90625 \r\nL 18.109375 0 \r\nL 9.078125 0 \r\nL 9.078125 54.6875 \r\nL 18.109375 54.6875 \r\nL 18.109375 46.1875 \r\nQ 21.34375 51.125 25.703125 53.5625 \r\nQ 30.078125 56 35.796875 56 \r\nQ 45.21875 56 50.046875 50.171875 \r\nQ 54.890625 44.34375 54.890625 33.015625 \r\nz\r\n\" id=\"DejaVuSans-110\"/>\r\n       <path d=\"M 48.78125 52.59375 \r\nL 48.78125 44.1875 \r\nQ 44.96875 46.296875 41.140625 47.34375 \r\nQ 37.3125 48.390625 33.40625 48.390625 \r\nQ 24.65625 48.390625 19.8125 42.84375 \r\nQ 14.984375 37.3125 14.984375 27.296875 \r\nQ 14.984375 17.28125 19.8125 11.734375 \r\nQ 24.65625 6.203125 33.40625 6.203125 \r\nQ 37.3125 6.203125 41.140625 7.25 \r\nQ 44.96875 8.296875 48.78125 10.40625 \r\nL 48.78125 2.09375 \r\nQ 45.015625 0.34375 40.984375 -0.53125 \r\nQ 36.96875 -1.421875 32.421875 -1.421875 \r\nQ 20.0625 -1.421875 12.78125 6.34375 \r\nQ 5.515625 14.109375 5.515625 27.296875 \r\nQ 5.515625 40.671875 12.859375 48.328125 \r\nQ 20.21875 56 33.015625 56 \r\nQ 37.15625 56 41.109375 55.140625 \r\nQ 45.0625 54.296875 48.78125 52.59375 \r\nz\r\n\" id=\"DejaVuSans-99\"/>\r\n       <path d=\"M 18.109375 8.203125 \r\nL 18.109375 -20.796875 \r\nL 9.078125 -20.796875 \r\nL 9.078125 54.6875 \r\nL 18.109375 54.6875 \r\nL 18.109375 46.390625 \r\nQ 20.953125 51.265625 25.265625 53.625 \r\nQ 29.59375 56 35.59375 56 \r\nQ 45.5625 56 51.78125 48.09375 \r\nQ 58.015625 40.1875 58.015625 27.296875 \r\nQ 58.015625 14.40625 51.78125 6.484375 \r\nQ 45.5625 -1.421875 35.59375 -1.421875 \r\nQ 29.59375 -1.421875 25.265625 0.953125 \r\nQ 20.953125 3.328125 18.109375 8.203125 \r\nz\r\nM 48.6875 27.296875 \r\nQ 48.6875 37.203125 44.609375 42.84375 \r\nQ 40.53125 48.484375 33.40625 48.484375 \r\nQ 26.265625 48.484375 22.1875 42.84375 \r\nQ 18.109375 37.203125 18.109375 27.296875 \r\nQ 18.109375 17.390625 22.1875 11.75 \r\nQ 26.265625 6.109375 33.40625 6.109375 \r\nQ 40.53125 6.109375 44.609375 11.75 \r\nQ 48.6875 17.390625 48.6875 27.296875 \r\nz\r\n\" id=\"DejaVuSans-112\"/>\r\n       <path d=\"M 34.28125 27.484375 \r\nQ 23.390625 27.484375 19.1875 25 \r\nQ 14.984375 22.515625 14.984375 16.5 \r\nQ 14.984375 11.71875 18.140625 8.90625 \r\nQ 21.296875 6.109375 26.703125 6.109375 \r\nQ 34.1875 6.109375 38.703125 11.40625 \r\nQ 43.21875 16.703125 43.21875 25.484375 \r\nL 43.21875 27.484375 \r\nz\r\nM 52.203125 31.203125 \r\nL 52.203125 0 \r\nL 43.21875 0 \r\nL 43.21875 8.296875 \r\nQ 40.140625 3.328125 35.546875 0.953125 \r\nQ 30.953125 -1.421875 24.3125 -1.421875 \r\nQ 15.921875 -1.421875 10.953125 3.296875 \r\nQ 6 8.015625 6 15.921875 \r\nQ 6 25.140625 12.171875 29.828125 \r\nQ 18.359375 34.515625 30.609375 34.515625 \r\nL 43.21875 34.515625 \r\nL 43.21875 35.40625 \r\nQ 43.21875 41.609375 39.140625 45 \r\nQ 35.0625 48.390625 27.6875 48.390625 \r\nQ 23 48.390625 18.546875 47.265625 \r\nQ 14.109375 46.140625 10.015625 43.890625 \r\nL 10.015625 52.203125 \r\nQ 14.9375 54.109375 19.578125 55.046875 \r\nQ 24.21875 56 28.609375 56 \r\nQ 40.484375 56 46.34375 49.84375 \r\nQ 52.203125 43.703125 52.203125 31.203125 \r\nz\r\n\" id=\"DejaVuSans-97\"/>\r\n       <path d=\"M 9.421875 75.984375 \r\nL 18.40625 75.984375 \r\nL 18.40625 0 \r\nL 9.421875 0 \r\nz\r\n\" id=\"DejaVuSans-108\"/>\r\n       <path id=\"DejaVuSans-32\"/>\r\n       <path d=\"M 64.40625 67.28125 \r\nL 64.40625 56.890625 \r\nQ 59.421875 61.53125 53.78125 63.8125 \r\nQ 48.140625 66.109375 41.796875 66.109375 \r\nQ 29.296875 66.109375 22.65625 58.46875 \r\nQ 16.015625 50.828125 16.015625 36.375 \r\nQ 16.015625 21.96875 22.65625 14.328125 \r\nQ 29.296875 6.6875 41.796875 6.6875 \r\nQ 48.140625 6.6875 53.78125 8.984375 \r\nQ 59.421875 11.28125 64.40625 15.921875 \r\nL 64.40625 5.609375 \r\nQ 59.234375 2.09375 53.4375 0.328125 \r\nQ 47.65625 -1.421875 41.21875 -1.421875 \r\nQ 24.65625 -1.421875 15.125 8.703125 \r\nQ 5.609375 18.84375 5.609375 36.375 \r\nQ 5.609375 53.953125 15.125 64.078125 \r\nQ 24.65625 74.21875 41.21875 74.21875 \r\nQ 47.75 74.21875 53.53125 72.484375 \r\nQ 59.328125 70.75 64.40625 67.28125 \r\nz\r\n\" id=\"DejaVuSans-67\"/>\r\n       <path d=\"M 30.609375 48.390625 \r\nQ 23.390625 48.390625 19.1875 42.75 \r\nQ 14.984375 37.109375 14.984375 27.296875 \r\nQ 14.984375 17.484375 19.15625 11.84375 \r\nQ 23.34375 6.203125 30.609375 6.203125 \r\nQ 37.796875 6.203125 41.984375 11.859375 \r\nQ 46.1875 17.53125 46.1875 27.296875 \r\nQ 46.1875 37.015625 41.984375 42.703125 \r\nQ 37.796875 48.390625 30.609375 48.390625 \r\nz\r\nM 30.609375 56 \r\nQ 42.328125 56 49.015625 48.375 \r\nQ 55.71875 40.765625 55.71875 27.296875 \r\nQ 55.71875 13.875 49.015625 6.21875 \r\nQ 42.328125 -1.421875 30.609375 -1.421875 \r\nQ 18.84375 -1.421875 12.171875 6.21875 \r\nQ 5.515625 13.875 5.515625 27.296875 \r\nQ 5.515625 40.765625 12.171875 48.375 \r\nQ 18.84375 56 30.609375 56 \r\nz\r\n\" id=\"DejaVuSans-111\"/>\r\n       <path d=\"M 52 44.1875 \r\nQ 55.375 50.25 60.0625 53.125 \r\nQ 64.75 56 71.09375 56 \r\nQ 79.640625 56 84.28125 50.015625 \r\nQ 88.921875 44.046875 88.921875 33.015625 \r\nL 88.921875 0 \r\nL 79.890625 0 \r\nL 79.890625 32.71875 \r\nQ 79.890625 40.578125 77.09375 44.375 \r\nQ 74.3125 48.1875 68.609375 48.1875 \r\nQ 61.625 48.1875 57.5625 43.546875 \r\nQ 53.515625 38.921875 53.515625 30.90625 \r\nL 53.515625 0 \r\nL 44.484375 0 \r\nL 44.484375 32.71875 \r\nQ 44.484375 40.625 41.703125 44.40625 \r\nQ 38.921875 48.1875 33.109375 48.1875 \r\nQ 26.21875 48.1875 22.15625 43.53125 \r\nQ 18.109375 38.875 18.109375 30.90625 \r\nL 18.109375 0 \r\nL 9.078125 0 \r\nL 9.078125 54.6875 \r\nL 18.109375 54.6875 \r\nL 18.109375 46.1875 \r\nQ 21.1875 51.21875 25.484375 53.609375 \r\nQ 29.78125 56 35.6875 56 \r\nQ 41.65625 56 45.828125 52.96875 \r\nQ 50 49.953125 52 44.1875 \r\nz\r\n\" id=\"DejaVuSans-109\"/>\r\n       <path d=\"M 56.203125 29.59375 \r\nL 56.203125 25.203125 \r\nL 14.890625 25.203125 \r\nQ 15.484375 15.921875 20.484375 11.0625 \r\nQ 25.484375 6.203125 34.421875 6.203125 \r\nQ 39.59375 6.203125 44.453125 7.46875 \r\nQ 49.3125 8.734375 54.109375 11.28125 \r\nL 54.109375 2.78125 \r\nQ 49.265625 0.734375 44.1875 -0.34375 \r\nQ 39.109375 -1.421875 33.890625 -1.421875 \r\nQ 20.796875 -1.421875 13.15625 6.1875 \r\nQ 5.515625 13.8125 5.515625 26.8125 \r\nQ 5.515625 40.234375 12.765625 48.109375 \r\nQ 20.015625 56 32.328125 56 \r\nQ 43.359375 56 49.78125 48.890625 \r\nQ 56.203125 41.796875 56.203125 29.59375 \r\nz\r\nM 47.21875 32.234375 \r\nQ 47.125 39.59375 43.09375 43.984375 \r\nQ 39.0625 48.390625 32.421875 48.390625 \r\nQ 24.90625 48.390625 20.390625 44.140625 \r\nQ 15.875 39.890625 15.1875 32.171875 \r\nz\r\n\" id=\"DejaVuSans-101\"/>\r\n       <path d=\"M 18.3125 70.21875 \r\nL 18.3125 54.6875 \r\nL 36.8125 54.6875 \r\nL 36.8125 47.703125 \r\nL 18.3125 47.703125 \r\nL 18.3125 18.015625 \r\nQ 18.3125 11.328125 20.140625 9.421875 \r\nQ 21.96875 7.515625 27.59375 7.515625 \r\nL 36.8125 7.515625 \r\nL 36.8125 0 \r\nL 27.59375 0 \r\nQ 17.1875 0 13.234375 3.875 \r\nQ 9.28125 7.765625 9.28125 18.015625 \r\nL 9.28125 47.703125 \r\nL 2.6875 47.703125 \r\nL 2.6875 54.6875 \r\nL 9.28125 54.6875 \r\nL 9.28125 70.21875 \r\nz\r\n\" id=\"DejaVuSans-116\"/>\r\n      </defs>\r\n      <use xlink:href=\"#DejaVuSans-80\"/>\r\n      <use x=\"58.552734\" xlink:href=\"#DejaVuSans-114\"/>\r\n      <use x=\"99.666016\" xlink:href=\"#DejaVuSans-105\"/>\r\n      <use x=\"127.449219\" xlink:href=\"#DejaVuSans-110\"/>\r\n      <use x=\"190.828125\" xlink:href=\"#DejaVuSans-99\"/>\r\n      <use x=\"245.808594\" xlink:href=\"#DejaVuSans-105\"/>\r\n      <use x=\"273.591797\" xlink:href=\"#DejaVuSans-112\"/>\r\n      <use x=\"337.068359\" xlink:href=\"#DejaVuSans-97\"/>\r\n      <use x=\"398.347656\" xlink:href=\"#DejaVuSans-108\"/>\r\n      <use x=\"426.130859\" xlink:href=\"#DejaVuSans-32\"/>\r\n      <use x=\"457.917969\" xlink:href=\"#DejaVuSans-67\"/>\r\n      <use x=\"527.742188\" xlink:href=\"#DejaVuSans-111\"/>\r\n      <use x=\"588.923828\" xlink:href=\"#DejaVuSans-109\"/>\r\n      <use x=\"686.335938\" xlink:href=\"#DejaVuSans-112\"/>\r\n      <use x=\"749.8125\" xlink:href=\"#DejaVuSans-111\"/>\r\n      <use x=\"810.994141\" xlink:href=\"#DejaVuSans-110\"/>\r\n      <use x=\"874.373047\" xlink:href=\"#DejaVuSans-101\"/>\r\n      <use x=\"935.896484\" xlink:href=\"#DejaVuSans-110\"/>\r\n      <use x=\"999.275391\" xlink:href=\"#DejaVuSans-116\"/>\r\n      <use x=\"1038.484375\" xlink:href=\"#DejaVuSans-32\"/>\r\n      <use x=\"1070.271484\" xlink:href=\"#DejaVuSans-49\"/>\r\n     </g>\r\n    </g>\r\n   </g>\r\n   <g id=\"matplotlib.axis_2\">\r\n    <g id=\"ytick_1\">\r\n     <g id=\"line2d_19\">\r\n      <path clip-path=\"url(#p2afd7b4ea3)\" d=\"M 47.459375 292.911948 \r\nL 493.859375 292.911948 \r\n\" style=\"fill:none;stroke:#b0b0b0;stroke-linecap:square;stroke-width:0.8;\"/>\r\n     </g>\r\n     <g id=\"line2d_20\">\r\n      <defs>\r\n       <path d=\"M 0 0 \r\nL -3.5 0 \r\n\" id=\"m082fd05c2f\" style=\"stroke:#000000;stroke-width:0.8;\"/>\r\n      </defs>\r\n      <g>\r\n       <use style=\"stroke:#000000;stroke-width:0.8;\" x=\"47.459375\" xlink:href=\"#m082fd05c2f\" y=\"292.911948\"/>\r\n      </g>\r\n     </g>\r\n     <g id=\"text_11\">\r\n      <!-- −3 -->\r\n      <g transform=\"translate(25.717188 296.711167)scale(0.1 -0.1)\">\r\n       <use xlink:href=\"#DejaVuSans-8722\"/>\r\n       <use x=\"83.789062\" xlink:href=\"#DejaVuSans-51\"/>\r\n      </g>\r\n     </g>\r\n    </g>\r\n    <g id=\"ytick_2\">\r\n     <g id=\"line2d_21\">\r\n      <path clip-path=\"url(#p2afd7b4ea3)\" d=\"M 47.459375 258.604171 \r\nL 493.859375 258.604171 \r\n\" style=\"fill:none;stroke:#b0b0b0;stroke-linecap:square;stroke-width:0.8;\"/>\r\n     </g>\r\n     <g id=\"line2d_22\">\r\n      <g>\r\n       <use style=\"stroke:#000000;stroke-width:0.8;\" x=\"47.459375\" xlink:href=\"#m082fd05c2f\" y=\"258.604171\"/>\r\n      </g>\r\n     </g>\r\n     <g id=\"text_12\">\r\n      <!-- −2 -->\r\n      <g transform=\"translate(25.717188 262.40339)scale(0.1 -0.1)\">\r\n       <use xlink:href=\"#DejaVuSans-8722\"/>\r\n       <use x=\"83.789062\" xlink:href=\"#DejaVuSans-50\"/>\r\n      </g>\r\n     </g>\r\n    </g>\r\n    <g id=\"ytick_3\">\r\n     <g id=\"line2d_23\">\r\n      <path clip-path=\"url(#p2afd7b4ea3)\" d=\"M 47.459375 224.296394 \r\nL 493.859375 224.296394 \r\n\" style=\"fill:none;stroke:#b0b0b0;stroke-linecap:square;stroke-width:0.8;\"/>\r\n     </g>\r\n     <g id=\"line2d_24\">\r\n      <g>\r\n       <use style=\"stroke:#000000;stroke-width:0.8;\" x=\"47.459375\" xlink:href=\"#m082fd05c2f\" y=\"224.296394\"/>\r\n      </g>\r\n     </g>\r\n     <g id=\"text_13\">\r\n      <!-- −1 -->\r\n      <g transform=\"translate(25.717188 228.095613)scale(0.1 -0.1)\">\r\n       <use xlink:href=\"#DejaVuSans-8722\"/>\r\n       <use x=\"83.789062\" xlink:href=\"#DejaVuSans-49\"/>\r\n      </g>\r\n     </g>\r\n    </g>\r\n    <g id=\"ytick_4\">\r\n     <g id=\"line2d_25\">\r\n      <path clip-path=\"url(#p2afd7b4ea3)\" d=\"M 47.459375 189.988617 \r\nL 493.859375 189.988617 \r\n\" style=\"fill:none;stroke:#b0b0b0;stroke-linecap:square;stroke-width:0.8;\"/>\r\n     </g>\r\n     <g id=\"line2d_26\">\r\n      <g>\r\n       <use style=\"stroke:#000000;stroke-width:0.8;\" x=\"47.459375\" xlink:href=\"#m082fd05c2f\" y=\"189.988617\"/>\r\n      </g>\r\n     </g>\r\n     <g id=\"text_14\">\r\n      <!-- 0 -->\r\n      <g transform=\"translate(34.096875 193.787836)scale(0.1 -0.1)\">\r\n       <use xlink:href=\"#DejaVuSans-48\"/>\r\n      </g>\r\n     </g>\r\n    </g>\r\n    <g id=\"ytick_5\">\r\n     <g id=\"line2d_27\">\r\n      <path clip-path=\"url(#p2afd7b4ea3)\" d=\"M 47.459375 155.68084 \r\nL 493.859375 155.68084 \r\n\" style=\"fill:none;stroke:#b0b0b0;stroke-linecap:square;stroke-width:0.8;\"/>\r\n     </g>\r\n     <g id=\"line2d_28\">\r\n      <g>\r\n       <use style=\"stroke:#000000;stroke-width:0.8;\" x=\"47.459375\" xlink:href=\"#m082fd05c2f\" y=\"155.68084\"/>\r\n      </g>\r\n     </g>\r\n     <g id=\"text_15\">\r\n      <!-- 1 -->\r\n      <g transform=\"translate(34.096875 159.480058)scale(0.1 -0.1)\">\r\n       <use xlink:href=\"#DejaVuSans-49\"/>\r\n      </g>\r\n     </g>\r\n    </g>\r\n    <g id=\"ytick_6\">\r\n     <g id=\"line2d_29\">\r\n      <path clip-path=\"url(#p2afd7b4ea3)\" d=\"M 47.459375 121.373063 \r\nL 493.859375 121.373063 \r\n\" style=\"fill:none;stroke:#b0b0b0;stroke-linecap:square;stroke-width:0.8;\"/>\r\n     </g>\r\n     <g id=\"line2d_30\">\r\n      <g>\r\n       <use style=\"stroke:#000000;stroke-width:0.8;\" x=\"47.459375\" xlink:href=\"#m082fd05c2f\" y=\"121.373063\"/>\r\n      </g>\r\n     </g>\r\n     <g id=\"text_16\">\r\n      <!-- 2 -->\r\n      <g transform=\"translate(34.096875 125.172281)scale(0.1 -0.1)\">\r\n       <use xlink:href=\"#DejaVuSans-50\"/>\r\n      </g>\r\n     </g>\r\n    </g>\r\n    <g id=\"ytick_7\">\r\n     <g id=\"line2d_31\">\r\n      <path clip-path=\"url(#p2afd7b4ea3)\" d=\"M 47.459375 87.065285 \r\nL 493.859375 87.065285 \r\n\" style=\"fill:none;stroke:#b0b0b0;stroke-linecap:square;stroke-width:0.8;\"/>\r\n     </g>\r\n     <g id=\"line2d_32\">\r\n      <g>\r\n       <use style=\"stroke:#000000;stroke-width:0.8;\" x=\"47.459375\" xlink:href=\"#m082fd05c2f\" y=\"87.065285\"/>\r\n      </g>\r\n     </g>\r\n     <g id=\"text_17\">\r\n      <!-- 3 -->\r\n      <g transform=\"translate(34.096875 90.864504)scale(0.1 -0.1)\">\r\n       <use xlink:href=\"#DejaVuSans-51\"/>\r\n      </g>\r\n     </g>\r\n    </g>\r\n    <g id=\"ytick_8\">\r\n     <g id=\"line2d_33\">\r\n      <path clip-path=\"url(#p2afd7b4ea3)\" d=\"M 47.459375 52.757508 \r\nL 493.859375 52.757508 \r\n\" style=\"fill:none;stroke:#b0b0b0;stroke-linecap:square;stroke-width:0.8;\"/>\r\n     </g>\r\n     <g id=\"line2d_34\">\r\n      <g>\r\n       <use style=\"stroke:#000000;stroke-width:0.8;\" x=\"47.459375\" xlink:href=\"#m082fd05c2f\" y=\"52.757508\"/>\r\n      </g>\r\n     </g>\r\n     <g id=\"text_18\">\r\n      <!-- 4 -->\r\n      <g transform=\"translate(34.096875 56.556727)scale(0.1 -0.1)\">\r\n       <use xlink:href=\"#DejaVuSans-52\"/>\r\n      </g>\r\n     </g>\r\n    </g>\r\n    <g id=\"text_19\">\r\n     <!-- Principal Component 2 -->\r\n     <g transform=\"translate(18.597656 249.338672)rotate(-90)scale(0.15 -0.15)\">\r\n      <use xlink:href=\"#DejaVuSans-80\"/>\r\n      <use x=\"58.552734\" xlink:href=\"#DejaVuSans-114\"/>\r\n      <use x=\"99.666016\" xlink:href=\"#DejaVuSans-105\"/>\r\n      <use x=\"127.449219\" xlink:href=\"#DejaVuSans-110\"/>\r\n      <use x=\"190.828125\" xlink:href=\"#DejaVuSans-99\"/>\r\n      <use x=\"245.808594\" xlink:href=\"#DejaVuSans-105\"/>\r\n      <use x=\"273.591797\" xlink:href=\"#DejaVuSans-112\"/>\r\n      <use x=\"337.068359\" xlink:href=\"#DejaVuSans-97\"/>\r\n      <use x=\"398.347656\" xlink:href=\"#DejaVuSans-108\"/>\r\n      <use x=\"426.130859\" xlink:href=\"#DejaVuSans-32\"/>\r\n      <use x=\"457.917969\" xlink:href=\"#DejaVuSans-67\"/>\r\n      <use x=\"527.742188\" xlink:href=\"#DejaVuSans-111\"/>\r\n      <use x=\"588.923828\" xlink:href=\"#DejaVuSans-109\"/>\r\n      <use x=\"686.335938\" xlink:href=\"#DejaVuSans-112\"/>\r\n      <use x=\"749.8125\" xlink:href=\"#DejaVuSans-111\"/>\r\n      <use x=\"810.994141\" xlink:href=\"#DejaVuSans-110\"/>\r\n      <use x=\"874.373047\" xlink:href=\"#DejaVuSans-101\"/>\r\n      <use x=\"935.896484\" xlink:href=\"#DejaVuSans-110\"/>\r\n      <use x=\"999.275391\" xlink:href=\"#DejaVuSans-116\"/>\r\n      <use x=\"1038.484375\" xlink:href=\"#DejaVuSans-32\"/>\r\n      <use x=\"1070.271484\" xlink:href=\"#DejaVuSans-50\"/>\r\n     </g>\r\n    </g>\r\n   </g>\r\n   <g id=\"patch_3\">\r\n    <path d=\"M 47.459375 300.196875 \r\nL 47.459375 28.396875 \r\n\" style=\"fill:none;stroke:#000000;stroke-linecap:square;stroke-linejoin:miter;stroke-width:0.8;\"/>\r\n   </g>\r\n   <g id=\"patch_4\">\r\n    <path d=\"M 493.859375 300.196875 \r\nL 493.859375 28.396875 \r\n\" style=\"fill:none;stroke:#000000;stroke-linecap:square;stroke-linejoin:miter;stroke-width:0.8;\"/>\r\n   </g>\r\n   <g id=\"patch_5\">\r\n    <path d=\"M 47.459375 300.196875 \r\nL 493.859375 300.196875 \r\n\" style=\"fill:none;stroke:#000000;stroke-linecap:square;stroke-linejoin:miter;stroke-width:0.8;\"/>\r\n   </g>\r\n   <g id=\"patch_6\">\r\n    <path d=\"M 47.459375 28.396875 \r\nL 493.859375 28.396875 \r\n\" style=\"fill:none;stroke:#000000;stroke-linecap:square;stroke-linejoin:miter;stroke-width:0.8;\"/>\r\n   </g>\r\n   <g id=\"text_20\">\r\n    <!-- 2 Component PCA -->\r\n    <g transform=\"translate(180.029688 22.396875)scale(0.2 -0.2)\">\r\n     <defs>\r\n      <path d=\"M 34.1875 63.1875 \r\nL 20.796875 26.90625 \r\nL 47.609375 26.90625 \r\nz\r\nM 28.609375 72.90625 \r\nL 39.796875 72.90625 \r\nL 67.578125 0 \r\nL 57.328125 0 \r\nL 50.6875 18.703125 \r\nL 17.828125 18.703125 \r\nL 11.1875 0 \r\nL 0.78125 0 \r\nz\r\n\" id=\"DejaVuSans-65\"/>\r\n     </defs>\r\n     <use xlink:href=\"#DejaVuSans-50\"/>\r\n     <use x=\"63.623047\" xlink:href=\"#DejaVuSans-32\"/>\r\n     <use x=\"95.410156\" xlink:href=\"#DejaVuSans-67\"/>\r\n     <use x=\"165.234375\" xlink:href=\"#DejaVuSans-111\"/>\r\n     <use x=\"226.416016\" xlink:href=\"#DejaVuSans-109\"/>\r\n     <use x=\"323.828125\" xlink:href=\"#DejaVuSans-112\"/>\r\n     <use x=\"387.304688\" xlink:href=\"#DejaVuSans-111\"/>\r\n     <use x=\"448.486328\" xlink:href=\"#DejaVuSans-110\"/>\r\n     <use x=\"511.865234\" xlink:href=\"#DejaVuSans-101\"/>\r\n     <use x=\"573.388672\" xlink:href=\"#DejaVuSans-110\"/>\r\n     <use x=\"636.767578\" xlink:href=\"#DejaVuSans-116\"/>\r\n     <use x=\"675.976562\" xlink:href=\"#DejaVuSans-32\"/>\r\n     <use x=\"707.763672\" xlink:href=\"#DejaVuSans-80\"/>\r\n     <use x=\"768.066406\" xlink:href=\"#DejaVuSans-67\"/>\r\n     <use x=\"837.890625\" xlink:href=\"#DejaVuSans-65\"/>\r\n    </g>\r\n   </g>\r\n   <g id=\"legend_1\">\r\n    <g id=\"patch_7\">\r\n     <path d=\"M 383.767187 80.43125 \r\nL 486.859375 80.43125 \r\nQ 488.859375 80.43125 488.859375 78.43125 \r\nL 488.859375 35.396875 \r\nQ 488.859375 33.396875 486.859375 33.396875 \r\nL 383.767187 33.396875 \r\nQ 381.767187 33.396875 381.767187 35.396875 \r\nL 381.767187 78.43125 \r\nQ 381.767187 80.43125 383.767187 80.43125 \r\nz\r\n\" style=\"fill:#ffffff;opacity:0.8;stroke:#cccccc;stroke-linejoin:miter;\"/>\r\n    </g>\r\n    <g id=\"PathCollection_4\">\r\n     <g>\r\n      <use style=\"fill:#ff0000;fill-opacity:0.9;stroke:#ff0000;stroke-opacity:0.9;\" x=\"395.767187\" xlink:href=\"#m63723bcaaf\" y=\"42.370312\"/>\r\n     </g>\r\n    </g>\r\n    <g id=\"text_21\">\r\n     <!-- Demented -->\r\n     <g transform=\"translate(413.767187 44.995312)scale(0.1 -0.1)\">\r\n      <defs>\r\n       <path d=\"M 19.671875 64.796875 \r\nL 19.671875 8.109375 \r\nL 31.59375 8.109375 \r\nQ 46.6875 8.109375 53.6875 14.9375 \r\nQ 60.6875 21.78125 60.6875 36.53125 \r\nQ 60.6875 51.171875 53.6875 57.984375 \r\nQ 46.6875 64.796875 31.59375 64.796875 \r\nz\r\nM 9.8125 72.90625 \r\nL 30.078125 72.90625 \r\nQ 51.265625 72.90625 61.171875 64.09375 \r\nQ 71.09375 55.28125 71.09375 36.53125 \r\nQ 71.09375 17.671875 61.125 8.828125 \r\nQ 51.171875 0 30.078125 0 \r\nL 9.8125 0 \r\nz\r\n\" id=\"DejaVuSans-68\"/>\r\n       <path d=\"M 45.40625 46.390625 \r\nL 45.40625 75.984375 \r\nL 54.390625 75.984375 \r\nL 54.390625 0 \r\nL 45.40625 0 \r\nL 45.40625 8.203125 \r\nQ 42.578125 3.328125 38.25 0.953125 \r\nQ 33.9375 -1.421875 27.875 -1.421875 \r\nQ 17.96875 -1.421875 11.734375 6.484375 \r\nQ 5.515625 14.40625 5.515625 27.296875 \r\nQ 5.515625 40.1875 11.734375 48.09375 \r\nQ 17.96875 56 27.875 56 \r\nQ 33.9375 56 38.25 53.625 \r\nQ 42.578125 51.265625 45.40625 46.390625 \r\nz\r\nM 14.796875 27.296875 \r\nQ 14.796875 17.390625 18.875 11.75 \r\nQ 22.953125 6.109375 30.078125 6.109375 \r\nQ 37.203125 6.109375 41.296875 11.75 \r\nQ 45.40625 17.390625 45.40625 27.296875 \r\nQ 45.40625 37.203125 41.296875 42.84375 \r\nQ 37.203125 48.484375 30.078125 48.484375 \r\nQ 22.953125 48.484375 18.875 42.84375 \r\nQ 14.796875 37.203125 14.796875 27.296875 \r\nz\r\n\" id=\"DejaVuSans-100\"/>\r\n      </defs>\r\n      <use xlink:href=\"#DejaVuSans-68\"/>\r\n      <use x=\"77.001953\" xlink:href=\"#DejaVuSans-101\"/>\r\n      <use x=\"138.525391\" xlink:href=\"#DejaVuSans-109\"/>\r\n      <use x=\"235.9375\" xlink:href=\"#DejaVuSans-101\"/>\r\n      <use x=\"297.460938\" xlink:href=\"#DejaVuSans-110\"/>\r\n      <use x=\"360.839844\" xlink:href=\"#DejaVuSans-116\"/>\r\n      <use x=\"400.048828\" xlink:href=\"#DejaVuSans-101\"/>\r\n      <use x=\"461.572266\" xlink:href=\"#DejaVuSans-100\"/>\r\n     </g>\r\n    </g>\r\n    <g id=\"PathCollection_5\">\r\n     <g>\r\n      <use style=\"fill:#008000;fill-opacity:0.9;stroke:#008000;stroke-opacity:0.9;\" x=\"395.767187\" xlink:href=\"#m26c56baa05\" y=\"57.048437\"/>\r\n     </g>\r\n    </g>\r\n    <g id=\"text_22\">\r\n     <!-- Nondemented -->\r\n     <g transform=\"translate(413.767187 59.673437)scale(0.1 -0.1)\">\r\n      <defs>\r\n       <path d=\"M 9.8125 72.90625 \r\nL 23.09375 72.90625 \r\nL 55.421875 11.921875 \r\nL 55.421875 72.90625 \r\nL 64.984375 72.90625 \r\nL 64.984375 0 \r\nL 51.703125 0 \r\nL 19.390625 60.984375 \r\nL 19.390625 0 \r\nL 9.8125 0 \r\nz\r\n\" id=\"DejaVuSans-78\"/>\r\n      </defs>\r\n      <use xlink:href=\"#DejaVuSans-78\"/>\r\n      <use x=\"74.804688\" xlink:href=\"#DejaVuSans-111\"/>\r\n      <use x=\"135.986328\" xlink:href=\"#DejaVuSans-110\"/>\r\n      <use x=\"199.365234\" xlink:href=\"#DejaVuSans-100\"/>\r\n      <use x=\"262.841797\" xlink:href=\"#DejaVuSans-101\"/>\r\n      <use x=\"324.365234\" xlink:href=\"#DejaVuSans-109\"/>\r\n      <use x=\"421.777344\" xlink:href=\"#DejaVuSans-101\"/>\r\n      <use x=\"483.300781\" xlink:href=\"#DejaVuSans-110\"/>\r\n      <use x=\"546.679688\" xlink:href=\"#DejaVuSans-116\"/>\r\n      <use x=\"585.888672\" xlink:href=\"#DejaVuSans-101\"/>\r\n      <use x=\"647.412109\" xlink:href=\"#DejaVuSans-100\"/>\r\n     </g>\r\n    </g>\r\n    <g id=\"PathCollection_6\">\r\n     <g>\r\n      <use style=\"fill:#0000ff;fill-opacity:0.9;stroke:#0000ff;stroke-opacity:0.9;\" x=\"395.767187\" xlink:href=\"#mbf41c51557\" y=\"71.726562\"/>\r\n     </g>\r\n    </g>\r\n    <g id=\"text_23\">\r\n     <!-- Converted -->\r\n     <g transform=\"translate(413.767187 74.351562)scale(0.1 -0.1)\">\r\n      <defs>\r\n       <path d=\"M 2.984375 54.6875 \r\nL 12.5 54.6875 \r\nL 29.59375 8.796875 \r\nL 46.6875 54.6875 \r\nL 56.203125 54.6875 \r\nL 35.6875 0 \r\nL 23.484375 0 \r\nz\r\n\" id=\"DejaVuSans-118\"/>\r\n      </defs>\r\n      <use xlink:href=\"#DejaVuSans-67\"/>\r\n      <use x=\"69.824219\" xlink:href=\"#DejaVuSans-111\"/>\r\n      <use x=\"131.005859\" xlink:href=\"#DejaVuSans-110\"/>\r\n      <use x=\"194.384766\" xlink:href=\"#DejaVuSans-118\"/>\r\n      <use x=\"253.564453\" xlink:href=\"#DejaVuSans-101\"/>\r\n      <use x=\"315.087891\" xlink:href=\"#DejaVuSans-114\"/>\r\n      <use x=\"356.201172\" xlink:href=\"#DejaVuSans-116\"/>\r\n      <use x=\"395.410156\" xlink:href=\"#DejaVuSans-101\"/>\r\n      <use x=\"456.933594\" xlink:href=\"#DejaVuSans-100\"/>\r\n     </g>\r\n    </g>\r\n   </g>\r\n  </g>\r\n </g>\r\n <defs>\r\n  <clipPath id=\"p2afd7b4ea3\">\r\n   <rect height=\"271.8\" width=\"446.4\" x=\"47.459375\" y=\"28.396875\"/>\r\n  </clipPath>\r\n </defs>\r\n</svg>\r\n",
      "image/png": "[encoded data removed]"
     },
     "metadata": {
      "needs_background": "light"
     }
    }
   ],
   "source": [
    "# visualize 2D Projection\n",
    "\n",
    "fig = plt.figure(figsize = (8,5)) \n",
    "ax = fig.add_subplot(1,1,1) \n",
    "ax.set_xlabel('Principal Component 1', fontsize = 15) \n",
    "ax.set_ylabel('Principal Component 2', fontsize = 15) \n",
    "ax.set_title('2 Component PCA', fontsize = 20) \n",
    "targets = ['Demented', 'Nondemented', 'Converted'] \n",
    "colors = ['r', 'g', 'b'] \n",
    "\n",
    "for target, color in zip(targets,colors): \n",
    "    indicesToKeep = finalDf_X_train['Group'] == target\n",
    "    ax.scatter(finalDf_X_train.loc[indicesToKeep, 'principal component 1'] , finalDf_X_train.loc[indicesToKeep, 'principal component 2'] , marker='s', c = color , s = 50, alpha=.9) \n",
    "ax.legend(targets) \n",
    "ax.grid()"
   ]
  },
  {
   "cell_type": "code",
   "execution_count": 109,
   "metadata": {},
   "outputs": [
    {
     "output_type": "execute_result",
     "data": {
      "text/plain": [
       "LogisticRegression(max_iter=10000)"
      ]
     },
     "metadata": {},
     "execution_count": 109
    }
   ],
   "source": [
    "# LOGISTIC REGRESSION \n",
    "\n",
    "from sklearn.linear_model import LogisticRegression\n",
    "classifier = LogisticRegression(max_iter=10000)\n",
    "classifier"
   ]
  },
  {
   "cell_type": "code",
   "execution_count": 110,
   "metadata": {},
   "outputs": [
    {
     "output_type": "error",
     "ename": "ValueError",
     "evalue": "Found input variables with inconsistent numbers of samples: [149, 112]",
     "traceback": [
      "\u001b[1;31m---------------------------------------------------------------------------\u001b[0m",
      "\u001b[1;31mValueError\u001b[0m                                Traceback (most recent call last)",
      "\u001b[1;32m<ipython-input-110-64a533d03fe1>\u001b[0m in \u001b[0;36m<module>\u001b[1;34m\u001b[0m\n\u001b[0;32m      1\u001b[0m \u001b[1;31m# Fit (train) or model using the training data\u001b[0m\u001b[1;33m\u001b[0m\u001b[1;33m\u001b[0m\u001b[1;33m\u001b[0m\u001b[0m\n\u001b[0;32m      2\u001b[0m \u001b[1;33m\u001b[0m\u001b[0m\n\u001b[1;32m----> 3\u001b[1;33m \u001b[0mclassifier\u001b[0m\u001b[1;33m.\u001b[0m\u001b[0mfit\u001b[0m\u001b[1;33m(\u001b[0m\u001b[0mprincipalDf_X_train\u001b[0m\u001b[1;33m,\u001b[0m \u001b[0my_train\u001b[0m\u001b[1;33m)\u001b[0m\u001b[1;33m\u001b[0m\u001b[1;33m\u001b[0m\u001b[0m\n\u001b[0m",
      "\u001b[1;32mC:\\anaconda\\lib\\site-packages\\sklearn\\linear_model\\_logistic.py\u001b[0m in \u001b[0;36mfit\u001b[1;34m(self, X, y, sample_weight)\u001b[0m\n\u001b[0;32m   1342\u001b[0m             \u001b[0m_dtype\u001b[0m \u001b[1;33m=\u001b[0m \u001b[1;33m[\u001b[0m\u001b[0mnp\u001b[0m\u001b[1;33m.\u001b[0m\u001b[0mfloat64\u001b[0m\u001b[1;33m,\u001b[0m \u001b[0mnp\u001b[0m\u001b[1;33m.\u001b[0m\u001b[0mfloat32\u001b[0m\u001b[1;33m]\u001b[0m\u001b[1;33m\u001b[0m\u001b[1;33m\u001b[0m\u001b[0m\n\u001b[0;32m   1343\u001b[0m \u001b[1;33m\u001b[0m\u001b[0m\n\u001b[1;32m-> 1344\u001b[1;33m         X, y = self._validate_data(X, y, accept_sparse='csr', dtype=_dtype,\n\u001b[0m\u001b[0;32m   1345\u001b[0m                                    \u001b[0morder\u001b[0m\u001b[1;33m=\u001b[0m\u001b[1;34m\"C\"\u001b[0m\u001b[1;33m,\u001b[0m\u001b[1;33m\u001b[0m\u001b[1;33m\u001b[0m\u001b[0m\n\u001b[0;32m   1346\u001b[0m                                    accept_large_sparse=solver != 'liblinear')\n",
      "\u001b[1;32mC:\\anaconda\\lib\\site-packages\\sklearn\\base.py\u001b[0m in \u001b[0;36m_validate_data\u001b[1;34m(self, X, y, reset, validate_separately, **check_params)\u001b[0m\n\u001b[0;32m    431\u001b[0m                 \u001b[0my\u001b[0m \u001b[1;33m=\u001b[0m \u001b[0mcheck_array\u001b[0m\u001b[1;33m(\u001b[0m\u001b[0my\u001b[0m\u001b[1;33m,\u001b[0m \u001b[1;33m**\u001b[0m\u001b[0mcheck_y_params\u001b[0m\u001b[1;33m)\u001b[0m\u001b[1;33m\u001b[0m\u001b[1;33m\u001b[0m\u001b[0m\n\u001b[0;32m    432\u001b[0m             \u001b[1;32melse\u001b[0m\u001b[1;33m:\u001b[0m\u001b[1;33m\u001b[0m\u001b[1;33m\u001b[0m\u001b[0m\n\u001b[1;32m--> 433\u001b[1;33m                 \u001b[0mX\u001b[0m\u001b[1;33m,\u001b[0m \u001b[0my\u001b[0m \u001b[1;33m=\u001b[0m \u001b[0mcheck_X_y\u001b[0m\u001b[1;33m(\u001b[0m\u001b[0mX\u001b[0m\u001b[1;33m,\u001b[0m \u001b[0my\u001b[0m\u001b[1;33m,\u001b[0m \u001b[1;33m**\u001b[0m\u001b[0mcheck_params\u001b[0m\u001b[1;33m)\u001b[0m\u001b[1;33m\u001b[0m\u001b[1;33m\u001b[0m\u001b[0m\n\u001b[0m\u001b[0;32m    434\u001b[0m             \u001b[0mout\u001b[0m \u001b[1;33m=\u001b[0m \u001b[0mX\u001b[0m\u001b[1;33m,\u001b[0m \u001b[0my\u001b[0m\u001b[1;33m\u001b[0m\u001b[1;33m\u001b[0m\u001b[0m\n\u001b[0;32m    435\u001b[0m \u001b[1;33m\u001b[0m\u001b[0m\n",
      "\u001b[1;32mC:\\anaconda\\lib\\site-packages\\sklearn\\utils\\validation.py\u001b[0m in \u001b[0;36minner_f\u001b[1;34m(*args, **kwargs)\u001b[0m\n\u001b[0;32m     61\u001b[0m             \u001b[0mextra_args\u001b[0m \u001b[1;33m=\u001b[0m \u001b[0mlen\u001b[0m\u001b[1;33m(\u001b[0m\u001b[0margs\u001b[0m\u001b[1;33m)\u001b[0m \u001b[1;33m-\u001b[0m \u001b[0mlen\u001b[0m\u001b[1;33m(\u001b[0m\u001b[0mall_args\u001b[0m\u001b[1;33m)\u001b[0m\u001b[1;33m\u001b[0m\u001b[1;33m\u001b[0m\u001b[0m\n\u001b[0;32m     62\u001b[0m             \u001b[1;32mif\u001b[0m \u001b[0mextra_args\u001b[0m \u001b[1;33m<=\u001b[0m \u001b[1;36m0\u001b[0m\u001b[1;33m:\u001b[0m\u001b[1;33m\u001b[0m\u001b[1;33m\u001b[0m\u001b[0m\n\u001b[1;32m---> 63\u001b[1;33m                 \u001b[1;32mreturn\u001b[0m \u001b[0mf\u001b[0m\u001b[1;33m(\u001b[0m\u001b[1;33m*\u001b[0m\u001b[0margs\u001b[0m\u001b[1;33m,\u001b[0m \u001b[1;33m**\u001b[0m\u001b[0mkwargs\u001b[0m\u001b[1;33m)\u001b[0m\u001b[1;33m\u001b[0m\u001b[1;33m\u001b[0m\u001b[0m\n\u001b[0m\u001b[0;32m     64\u001b[0m \u001b[1;33m\u001b[0m\u001b[0m\n\u001b[0;32m     65\u001b[0m             \u001b[1;31m# extra_args > 0\u001b[0m\u001b[1;33m\u001b[0m\u001b[1;33m\u001b[0m\u001b[1;33m\u001b[0m\u001b[0m\n",
      "\u001b[1;32mC:\\anaconda\\lib\\site-packages\\sklearn\\utils\\validation.py\u001b[0m in \u001b[0;36mcheck_X_y\u001b[1;34m(X, y, accept_sparse, accept_large_sparse, dtype, order, copy, force_all_finite, ensure_2d, allow_nd, multi_output, ensure_min_samples, ensure_min_features, y_numeric, estimator)\u001b[0m\n\u001b[0;32m    829\u001b[0m         \u001b[0my\u001b[0m \u001b[1;33m=\u001b[0m \u001b[0my\u001b[0m\u001b[1;33m.\u001b[0m\u001b[0mastype\u001b[0m\u001b[1;33m(\u001b[0m\u001b[0mnp\u001b[0m\u001b[1;33m.\u001b[0m\u001b[0mfloat64\u001b[0m\u001b[1;33m)\u001b[0m\u001b[1;33m\u001b[0m\u001b[1;33m\u001b[0m\u001b[0m\n\u001b[0;32m    830\u001b[0m \u001b[1;33m\u001b[0m\u001b[0m\n\u001b[1;32m--> 831\u001b[1;33m     \u001b[0mcheck_consistent_length\u001b[0m\u001b[1;33m(\u001b[0m\u001b[0mX\u001b[0m\u001b[1;33m,\u001b[0m \u001b[0my\u001b[0m\u001b[1;33m)\u001b[0m\u001b[1;33m\u001b[0m\u001b[1;33m\u001b[0m\u001b[0m\n\u001b[0m\u001b[0;32m    832\u001b[0m \u001b[1;33m\u001b[0m\u001b[0m\n\u001b[0;32m    833\u001b[0m     \u001b[1;32mreturn\u001b[0m \u001b[0mX\u001b[0m\u001b[1;33m,\u001b[0m \u001b[0my\u001b[0m\u001b[1;33m\u001b[0m\u001b[1;33m\u001b[0m\u001b[0m\n",
      "\u001b[1;32mC:\\anaconda\\lib\\site-packages\\sklearn\\utils\\validation.py\u001b[0m in \u001b[0;36mcheck_consistent_length\u001b[1;34m(*arrays)\u001b[0m\n\u001b[0;32m    260\u001b[0m     \u001b[0muniques\u001b[0m \u001b[1;33m=\u001b[0m \u001b[0mnp\u001b[0m\u001b[1;33m.\u001b[0m\u001b[0munique\u001b[0m\u001b[1;33m(\u001b[0m\u001b[0mlengths\u001b[0m\u001b[1;33m)\u001b[0m\u001b[1;33m\u001b[0m\u001b[1;33m\u001b[0m\u001b[0m\n\u001b[0;32m    261\u001b[0m     \u001b[1;32mif\u001b[0m \u001b[0mlen\u001b[0m\u001b[1;33m(\u001b[0m\u001b[0muniques\u001b[0m\u001b[1;33m)\u001b[0m \u001b[1;33m>\u001b[0m \u001b[1;36m1\u001b[0m\u001b[1;33m:\u001b[0m\u001b[1;33m\u001b[0m\u001b[1;33m\u001b[0m\u001b[0m\n\u001b[1;32m--> 262\u001b[1;33m         raise ValueError(\"Found input variables with inconsistent numbers of\"\n\u001b[0m\u001b[0;32m    263\u001b[0m                          \" samples: %r\" % [int(l) for l in lengths])\n\u001b[0;32m    264\u001b[0m \u001b[1;33m\u001b[0m\u001b[0m\n",
      "\u001b[1;31mValueError\u001b[0m: Found input variables with inconsistent numbers of samples: [149, 112]"
     ]
    }
   ],
   "source": [
    "# Fit (train) or model using the training data\n",
    "\n",
    "classifier.fit(principalDf_X_train, y_train)"
   ]
  },
  {
   "cell_type": "code",
   "execution_count": null,
   "metadata": {},
   "outputs": [],
   "source": []
  }
 ],
 "metadata": {
  "kernelspec": {
   "name": "python385jvsc74a57bd0513dc2e41d739bb2c947903f3c0bbf636d03aa53ab50e61c694a27481c81805e",
   "display_name": "Python 3.8.5 64-bit (conda)"
  },
  "language_info": {
   "codemirror_mode": {
    "name": "ipython",
    "version": 3
   },
   "file_extension": ".py",
   "mimetype": "text/x-python",
   "name": "python",
   "nbconvert_exporter": "python",
   "pygments_lexer": "ipython3",
   "version": "3.8.5-final"
  }
 },
 "nbformat": 4,
 "nbformat_minor": 5
}